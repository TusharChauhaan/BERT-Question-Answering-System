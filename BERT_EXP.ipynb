{
  "nbformat": 4,
  "nbformat_minor": 0,
  "metadata": {
    "colab": {
      "provenance": [],
      "gpuType": "T4"
    },
    "kernelspec": {
      "name": "python3",
      "display_name": "Python 3"
    },
    "widgets": {
      "application/vnd.jupyter.widget-state+json": {
        "9effec234075441ca16ea150fca13d94": {
          "model_module": "@jupyter-widgets/controls",
          "model_name": "HBoxModel",
          "model_module_version": "1.5.0",
          "state": {
            "_dom_classes": [],
            "_model_module": "@jupyter-widgets/controls",
            "_model_module_version": "1.5.0",
            "_model_name": "HBoxModel",
            "_view_count": null,
            "_view_module": "@jupyter-widgets/controls",
            "_view_module_version": "1.5.0",
            "_view_name": "HBoxView",
            "box_style": "",
            "children": [
              "IPY_MODEL_b44a29cb3ed947a98418d4963d0c8634",
              "IPY_MODEL_c790a57cf15e489c910c0b7d029b9309",
              "IPY_MODEL_f2e9883a18f149f7a10e3f517d17b371"
            ],
            "layout": "IPY_MODEL_01f1a1bc46c1498da73f7ff9c7f7a707"
          }
        },
        "b44a29cb3ed947a98418d4963d0c8634": {
          "model_module": "@jupyter-widgets/controls",
          "model_name": "HTMLModel",
          "model_module_version": "1.5.0",
          "state": {
            "_dom_classes": [],
            "_model_module": "@jupyter-widgets/controls",
            "_model_module_version": "1.5.0",
            "_model_name": "HTMLModel",
            "_view_count": null,
            "_view_module": "@jupyter-widgets/controls",
            "_view_module_version": "1.5.0",
            "_view_name": "HTMLView",
            "description": "",
            "description_tooltip": null,
            "layout": "IPY_MODEL_18c259c23bcc4369899211e2d835e58b",
            "placeholder": "​",
            "style": "IPY_MODEL_66152fe483404d27a719c9ed068700db",
            "value": "Downloading (…)solve/main/vocab.txt: 100%"
          }
        },
        "c790a57cf15e489c910c0b7d029b9309": {
          "model_module": "@jupyter-widgets/controls",
          "model_name": "FloatProgressModel",
          "model_module_version": "1.5.0",
          "state": {
            "_dom_classes": [],
            "_model_module": "@jupyter-widgets/controls",
            "_model_module_version": "1.5.0",
            "_model_name": "FloatProgressModel",
            "_view_count": null,
            "_view_module": "@jupyter-widgets/controls",
            "_view_module_version": "1.5.0",
            "_view_name": "ProgressView",
            "bar_style": "success",
            "description": "",
            "description_tooltip": null,
            "layout": "IPY_MODEL_bb349798721d4bed8c42e883fe4ec19e",
            "max": 213450,
            "min": 0,
            "orientation": "horizontal",
            "style": "IPY_MODEL_1461b3c4b82047169203b0351247e6d9",
            "value": 213450
          }
        },
        "f2e9883a18f149f7a10e3f517d17b371": {
          "model_module": "@jupyter-widgets/controls",
          "model_name": "HTMLModel",
          "model_module_version": "1.5.0",
          "state": {
            "_dom_classes": [],
            "_model_module": "@jupyter-widgets/controls",
            "_model_module_version": "1.5.0",
            "_model_name": "HTMLModel",
            "_view_count": null,
            "_view_module": "@jupyter-widgets/controls",
            "_view_module_version": "1.5.0",
            "_view_name": "HTMLView",
            "description": "",
            "description_tooltip": null,
            "layout": "IPY_MODEL_e03049a7ce0e440d949835bcc1fcbef6",
            "placeholder": "​",
            "style": "IPY_MODEL_56b1c7f2ff594440a517b979adc38d5b",
            "value": " 213k/213k [00:00&lt;00:00, 4.10MB/s]"
          }
        },
        "01f1a1bc46c1498da73f7ff9c7f7a707": {
          "model_module": "@jupyter-widgets/base",
          "model_name": "LayoutModel",
          "model_module_version": "1.2.0",
          "state": {
            "_model_module": "@jupyter-widgets/base",
            "_model_module_version": "1.2.0",
            "_model_name": "LayoutModel",
            "_view_count": null,
            "_view_module": "@jupyter-widgets/base",
            "_view_module_version": "1.2.0",
            "_view_name": "LayoutView",
            "align_content": null,
            "align_items": null,
            "align_self": null,
            "border": null,
            "bottom": null,
            "display": null,
            "flex": null,
            "flex_flow": null,
            "grid_area": null,
            "grid_auto_columns": null,
            "grid_auto_flow": null,
            "grid_auto_rows": null,
            "grid_column": null,
            "grid_gap": null,
            "grid_row": null,
            "grid_template_areas": null,
            "grid_template_columns": null,
            "grid_template_rows": null,
            "height": null,
            "justify_content": null,
            "justify_items": null,
            "left": null,
            "margin": null,
            "max_height": null,
            "max_width": null,
            "min_height": null,
            "min_width": null,
            "object_fit": null,
            "object_position": null,
            "order": null,
            "overflow": null,
            "overflow_x": null,
            "overflow_y": null,
            "padding": null,
            "right": null,
            "top": null,
            "visibility": null,
            "width": null
          }
        },
        "18c259c23bcc4369899211e2d835e58b": {
          "model_module": "@jupyter-widgets/base",
          "model_name": "LayoutModel",
          "model_module_version": "1.2.0",
          "state": {
            "_model_module": "@jupyter-widgets/base",
            "_model_module_version": "1.2.0",
            "_model_name": "LayoutModel",
            "_view_count": null,
            "_view_module": "@jupyter-widgets/base",
            "_view_module_version": "1.2.0",
            "_view_name": "LayoutView",
            "align_content": null,
            "align_items": null,
            "align_self": null,
            "border": null,
            "bottom": null,
            "display": null,
            "flex": null,
            "flex_flow": null,
            "grid_area": null,
            "grid_auto_columns": null,
            "grid_auto_flow": null,
            "grid_auto_rows": null,
            "grid_column": null,
            "grid_gap": null,
            "grid_row": null,
            "grid_template_areas": null,
            "grid_template_columns": null,
            "grid_template_rows": null,
            "height": null,
            "justify_content": null,
            "justify_items": null,
            "left": null,
            "margin": null,
            "max_height": null,
            "max_width": null,
            "min_height": null,
            "min_width": null,
            "object_fit": null,
            "object_position": null,
            "order": null,
            "overflow": null,
            "overflow_x": null,
            "overflow_y": null,
            "padding": null,
            "right": null,
            "top": null,
            "visibility": null,
            "width": null
          }
        },
        "66152fe483404d27a719c9ed068700db": {
          "model_module": "@jupyter-widgets/controls",
          "model_name": "DescriptionStyleModel",
          "model_module_version": "1.5.0",
          "state": {
            "_model_module": "@jupyter-widgets/controls",
            "_model_module_version": "1.5.0",
            "_model_name": "DescriptionStyleModel",
            "_view_count": null,
            "_view_module": "@jupyter-widgets/base",
            "_view_module_version": "1.2.0",
            "_view_name": "StyleView",
            "description_width": ""
          }
        },
        "bb349798721d4bed8c42e883fe4ec19e": {
          "model_module": "@jupyter-widgets/base",
          "model_name": "LayoutModel",
          "model_module_version": "1.2.0",
          "state": {
            "_model_module": "@jupyter-widgets/base",
            "_model_module_version": "1.2.0",
            "_model_name": "LayoutModel",
            "_view_count": null,
            "_view_module": "@jupyter-widgets/base",
            "_view_module_version": "1.2.0",
            "_view_name": "LayoutView",
            "align_content": null,
            "align_items": null,
            "align_self": null,
            "border": null,
            "bottom": null,
            "display": null,
            "flex": null,
            "flex_flow": null,
            "grid_area": null,
            "grid_auto_columns": null,
            "grid_auto_flow": null,
            "grid_auto_rows": null,
            "grid_column": null,
            "grid_gap": null,
            "grid_row": null,
            "grid_template_areas": null,
            "grid_template_columns": null,
            "grid_template_rows": null,
            "height": null,
            "justify_content": null,
            "justify_items": null,
            "left": null,
            "margin": null,
            "max_height": null,
            "max_width": null,
            "min_height": null,
            "min_width": null,
            "object_fit": null,
            "object_position": null,
            "order": null,
            "overflow": null,
            "overflow_x": null,
            "overflow_y": null,
            "padding": null,
            "right": null,
            "top": null,
            "visibility": null,
            "width": null
          }
        },
        "1461b3c4b82047169203b0351247e6d9": {
          "model_module": "@jupyter-widgets/controls",
          "model_name": "ProgressStyleModel",
          "model_module_version": "1.5.0",
          "state": {
            "_model_module": "@jupyter-widgets/controls",
            "_model_module_version": "1.5.0",
            "_model_name": "ProgressStyleModel",
            "_view_count": null,
            "_view_module": "@jupyter-widgets/base",
            "_view_module_version": "1.2.0",
            "_view_name": "StyleView",
            "bar_color": null,
            "description_width": ""
          }
        },
        "e03049a7ce0e440d949835bcc1fcbef6": {
          "model_module": "@jupyter-widgets/base",
          "model_name": "LayoutModel",
          "model_module_version": "1.2.0",
          "state": {
            "_model_module": "@jupyter-widgets/base",
            "_model_module_version": "1.2.0",
            "_model_name": "LayoutModel",
            "_view_count": null,
            "_view_module": "@jupyter-widgets/base",
            "_view_module_version": "1.2.0",
            "_view_name": "LayoutView",
            "align_content": null,
            "align_items": null,
            "align_self": null,
            "border": null,
            "bottom": null,
            "display": null,
            "flex": null,
            "flex_flow": null,
            "grid_area": null,
            "grid_auto_columns": null,
            "grid_auto_flow": null,
            "grid_auto_rows": null,
            "grid_column": null,
            "grid_gap": null,
            "grid_row": null,
            "grid_template_areas": null,
            "grid_template_columns": null,
            "grid_template_rows": null,
            "height": null,
            "justify_content": null,
            "justify_items": null,
            "left": null,
            "margin": null,
            "max_height": null,
            "max_width": null,
            "min_height": null,
            "min_width": null,
            "object_fit": null,
            "object_position": null,
            "order": null,
            "overflow": null,
            "overflow_x": null,
            "overflow_y": null,
            "padding": null,
            "right": null,
            "top": null,
            "visibility": null,
            "width": null
          }
        },
        "56b1c7f2ff594440a517b979adc38d5b": {
          "model_module": "@jupyter-widgets/controls",
          "model_name": "DescriptionStyleModel",
          "model_module_version": "1.5.0",
          "state": {
            "_model_module": "@jupyter-widgets/controls",
            "_model_module_version": "1.5.0",
            "_model_name": "DescriptionStyleModel",
            "_view_count": null,
            "_view_module": "@jupyter-widgets/base",
            "_view_module_version": "1.2.0",
            "_view_name": "StyleView",
            "description_width": ""
          }
        },
        "000156e9a6b949829481a5202fb4b170": {
          "model_module": "@jupyter-widgets/controls",
          "model_name": "HBoxModel",
          "model_module_version": "1.5.0",
          "state": {
            "_dom_classes": [],
            "_model_module": "@jupyter-widgets/controls",
            "_model_module_version": "1.5.0",
            "_model_name": "HBoxModel",
            "_view_count": null,
            "_view_module": "@jupyter-widgets/controls",
            "_view_module_version": "1.5.0",
            "_view_name": "HBoxView",
            "box_style": "",
            "children": [
              "IPY_MODEL_09a76e3e4bf542d4a5d199fc0e7a931b",
              "IPY_MODEL_05f35beb5b0d4f4da66ea2e84e3fd13d",
              "IPY_MODEL_56193809cd1d44d6868318fa067a1c65"
            ],
            "layout": "IPY_MODEL_52c9180e8e5c4408989d007563607d3e"
          }
        },
        "09a76e3e4bf542d4a5d199fc0e7a931b": {
          "model_module": "@jupyter-widgets/controls",
          "model_name": "HTMLModel",
          "model_module_version": "1.5.0",
          "state": {
            "_dom_classes": [],
            "_model_module": "@jupyter-widgets/controls",
            "_model_module_version": "1.5.0",
            "_model_name": "HTMLModel",
            "_view_count": null,
            "_view_module": "@jupyter-widgets/controls",
            "_view_module_version": "1.5.0",
            "_view_name": "HTMLView",
            "description": "",
            "description_tooltip": null,
            "layout": "IPY_MODEL_3117043f333146cd89ce0407a730b245",
            "placeholder": "​",
            "style": "IPY_MODEL_51ac9a42687a4ab5b42fc51fe78f4c14",
            "value": "Downloading (…)okenizer_config.json: 100%"
          }
        },
        "05f35beb5b0d4f4da66ea2e84e3fd13d": {
          "model_module": "@jupyter-widgets/controls",
          "model_name": "FloatProgressModel",
          "model_module_version": "1.5.0",
          "state": {
            "_dom_classes": [],
            "_model_module": "@jupyter-widgets/controls",
            "_model_module_version": "1.5.0",
            "_model_name": "FloatProgressModel",
            "_view_count": null,
            "_view_module": "@jupyter-widgets/controls",
            "_view_module_version": "1.5.0",
            "_view_name": "ProgressView",
            "bar_style": "success",
            "description": "",
            "description_tooltip": null,
            "layout": "IPY_MODEL_0633f9fb43fb4eabbaf09c37422c1252",
            "max": 29,
            "min": 0,
            "orientation": "horizontal",
            "style": "IPY_MODEL_71cff6e23af142bd9daf196d74b57c6e",
            "value": 29
          }
        },
        "56193809cd1d44d6868318fa067a1c65": {
          "model_module": "@jupyter-widgets/controls",
          "model_name": "HTMLModel",
          "model_module_version": "1.5.0",
          "state": {
            "_dom_classes": [],
            "_model_module": "@jupyter-widgets/controls",
            "_model_module_version": "1.5.0",
            "_model_name": "HTMLModel",
            "_view_count": null,
            "_view_module": "@jupyter-widgets/controls",
            "_view_module_version": "1.5.0",
            "_view_name": "HTMLView",
            "description": "",
            "description_tooltip": null,
            "layout": "IPY_MODEL_916c32a02b784d66b8278c3b51cfb6c2",
            "placeholder": "​",
            "style": "IPY_MODEL_0b540c05605344d5a778528adabe93f5",
            "value": " 29.0/29.0 [00:00&lt;00:00, 2.02kB/s]"
          }
        },
        "52c9180e8e5c4408989d007563607d3e": {
          "model_module": "@jupyter-widgets/base",
          "model_name": "LayoutModel",
          "model_module_version": "1.2.0",
          "state": {
            "_model_module": "@jupyter-widgets/base",
            "_model_module_version": "1.2.0",
            "_model_name": "LayoutModel",
            "_view_count": null,
            "_view_module": "@jupyter-widgets/base",
            "_view_module_version": "1.2.0",
            "_view_name": "LayoutView",
            "align_content": null,
            "align_items": null,
            "align_self": null,
            "border": null,
            "bottom": null,
            "display": null,
            "flex": null,
            "flex_flow": null,
            "grid_area": null,
            "grid_auto_columns": null,
            "grid_auto_flow": null,
            "grid_auto_rows": null,
            "grid_column": null,
            "grid_gap": null,
            "grid_row": null,
            "grid_template_areas": null,
            "grid_template_columns": null,
            "grid_template_rows": null,
            "height": null,
            "justify_content": null,
            "justify_items": null,
            "left": null,
            "margin": null,
            "max_height": null,
            "max_width": null,
            "min_height": null,
            "min_width": null,
            "object_fit": null,
            "object_position": null,
            "order": null,
            "overflow": null,
            "overflow_x": null,
            "overflow_y": null,
            "padding": null,
            "right": null,
            "top": null,
            "visibility": null,
            "width": null
          }
        },
        "3117043f333146cd89ce0407a730b245": {
          "model_module": "@jupyter-widgets/base",
          "model_name": "LayoutModel",
          "model_module_version": "1.2.0",
          "state": {
            "_model_module": "@jupyter-widgets/base",
            "_model_module_version": "1.2.0",
            "_model_name": "LayoutModel",
            "_view_count": null,
            "_view_module": "@jupyter-widgets/base",
            "_view_module_version": "1.2.0",
            "_view_name": "LayoutView",
            "align_content": null,
            "align_items": null,
            "align_self": null,
            "border": null,
            "bottom": null,
            "display": null,
            "flex": null,
            "flex_flow": null,
            "grid_area": null,
            "grid_auto_columns": null,
            "grid_auto_flow": null,
            "grid_auto_rows": null,
            "grid_column": null,
            "grid_gap": null,
            "grid_row": null,
            "grid_template_areas": null,
            "grid_template_columns": null,
            "grid_template_rows": null,
            "height": null,
            "justify_content": null,
            "justify_items": null,
            "left": null,
            "margin": null,
            "max_height": null,
            "max_width": null,
            "min_height": null,
            "min_width": null,
            "object_fit": null,
            "object_position": null,
            "order": null,
            "overflow": null,
            "overflow_x": null,
            "overflow_y": null,
            "padding": null,
            "right": null,
            "top": null,
            "visibility": null,
            "width": null
          }
        },
        "51ac9a42687a4ab5b42fc51fe78f4c14": {
          "model_module": "@jupyter-widgets/controls",
          "model_name": "DescriptionStyleModel",
          "model_module_version": "1.5.0",
          "state": {
            "_model_module": "@jupyter-widgets/controls",
            "_model_module_version": "1.5.0",
            "_model_name": "DescriptionStyleModel",
            "_view_count": null,
            "_view_module": "@jupyter-widgets/base",
            "_view_module_version": "1.2.0",
            "_view_name": "StyleView",
            "description_width": ""
          }
        },
        "0633f9fb43fb4eabbaf09c37422c1252": {
          "model_module": "@jupyter-widgets/base",
          "model_name": "LayoutModel",
          "model_module_version": "1.2.0",
          "state": {
            "_model_module": "@jupyter-widgets/base",
            "_model_module_version": "1.2.0",
            "_model_name": "LayoutModel",
            "_view_count": null,
            "_view_module": "@jupyter-widgets/base",
            "_view_module_version": "1.2.0",
            "_view_name": "LayoutView",
            "align_content": null,
            "align_items": null,
            "align_self": null,
            "border": null,
            "bottom": null,
            "display": null,
            "flex": null,
            "flex_flow": null,
            "grid_area": null,
            "grid_auto_columns": null,
            "grid_auto_flow": null,
            "grid_auto_rows": null,
            "grid_column": null,
            "grid_gap": null,
            "grid_row": null,
            "grid_template_areas": null,
            "grid_template_columns": null,
            "grid_template_rows": null,
            "height": null,
            "justify_content": null,
            "justify_items": null,
            "left": null,
            "margin": null,
            "max_height": null,
            "max_width": null,
            "min_height": null,
            "min_width": null,
            "object_fit": null,
            "object_position": null,
            "order": null,
            "overflow": null,
            "overflow_x": null,
            "overflow_y": null,
            "padding": null,
            "right": null,
            "top": null,
            "visibility": null,
            "width": null
          }
        },
        "71cff6e23af142bd9daf196d74b57c6e": {
          "model_module": "@jupyter-widgets/controls",
          "model_name": "ProgressStyleModel",
          "model_module_version": "1.5.0",
          "state": {
            "_model_module": "@jupyter-widgets/controls",
            "_model_module_version": "1.5.0",
            "_model_name": "ProgressStyleModel",
            "_view_count": null,
            "_view_module": "@jupyter-widgets/base",
            "_view_module_version": "1.2.0",
            "_view_name": "StyleView",
            "bar_color": null,
            "description_width": ""
          }
        },
        "916c32a02b784d66b8278c3b51cfb6c2": {
          "model_module": "@jupyter-widgets/base",
          "model_name": "LayoutModel",
          "model_module_version": "1.2.0",
          "state": {
            "_model_module": "@jupyter-widgets/base",
            "_model_module_version": "1.2.0",
            "_model_name": "LayoutModel",
            "_view_count": null,
            "_view_module": "@jupyter-widgets/base",
            "_view_module_version": "1.2.0",
            "_view_name": "LayoutView",
            "align_content": null,
            "align_items": null,
            "align_self": null,
            "border": null,
            "bottom": null,
            "display": null,
            "flex": null,
            "flex_flow": null,
            "grid_area": null,
            "grid_auto_columns": null,
            "grid_auto_flow": null,
            "grid_auto_rows": null,
            "grid_column": null,
            "grid_gap": null,
            "grid_row": null,
            "grid_template_areas": null,
            "grid_template_columns": null,
            "grid_template_rows": null,
            "height": null,
            "justify_content": null,
            "justify_items": null,
            "left": null,
            "margin": null,
            "max_height": null,
            "max_width": null,
            "min_height": null,
            "min_width": null,
            "object_fit": null,
            "object_position": null,
            "order": null,
            "overflow": null,
            "overflow_x": null,
            "overflow_y": null,
            "padding": null,
            "right": null,
            "top": null,
            "visibility": null,
            "width": null
          }
        },
        "0b540c05605344d5a778528adabe93f5": {
          "model_module": "@jupyter-widgets/controls",
          "model_name": "DescriptionStyleModel",
          "model_module_version": "1.5.0",
          "state": {
            "_model_module": "@jupyter-widgets/controls",
            "_model_module_version": "1.5.0",
            "_model_name": "DescriptionStyleModel",
            "_view_count": null,
            "_view_module": "@jupyter-widgets/base",
            "_view_module_version": "1.2.0",
            "_view_name": "StyleView",
            "description_width": ""
          }
        },
        "5f27fb71abdc4ed1a0d6e3fbcfd5c8d0": {
          "model_module": "@jupyter-widgets/controls",
          "model_name": "HBoxModel",
          "model_module_version": "1.5.0",
          "state": {
            "_dom_classes": [],
            "_model_module": "@jupyter-widgets/controls",
            "_model_module_version": "1.5.0",
            "_model_name": "HBoxModel",
            "_view_count": null,
            "_view_module": "@jupyter-widgets/controls",
            "_view_module_version": "1.5.0",
            "_view_name": "HBoxView",
            "box_style": "",
            "children": [
              "IPY_MODEL_52da06e0634d4ae68611941c0ce62a76",
              "IPY_MODEL_f3d769fa9fa64c2cb1fa4e98719381eb",
              "IPY_MODEL_603f053083e44b0ba94d19c7974ad6b0"
            ],
            "layout": "IPY_MODEL_476e162731a64b85a7f8d40efbf21eee"
          }
        },
        "52da06e0634d4ae68611941c0ce62a76": {
          "model_module": "@jupyter-widgets/controls",
          "model_name": "HTMLModel",
          "model_module_version": "1.5.0",
          "state": {
            "_dom_classes": [],
            "_model_module": "@jupyter-widgets/controls",
            "_model_module_version": "1.5.0",
            "_model_name": "HTMLModel",
            "_view_count": null,
            "_view_module": "@jupyter-widgets/controls",
            "_view_module_version": "1.5.0",
            "_view_name": "HTMLView",
            "description": "",
            "description_tooltip": null,
            "layout": "IPY_MODEL_3562ba9ee2694c2fa106a2df4670f2bc",
            "placeholder": "​",
            "style": "IPY_MODEL_91d64d10695e4e62bd9a61797c3aa528",
            "value": "Downloading (…)lve/main/config.json: 100%"
          }
        },
        "f3d769fa9fa64c2cb1fa4e98719381eb": {
          "model_module": "@jupyter-widgets/controls",
          "model_name": "FloatProgressModel",
          "model_module_version": "1.5.0",
          "state": {
            "_dom_classes": [],
            "_model_module": "@jupyter-widgets/controls",
            "_model_module_version": "1.5.0",
            "_model_name": "FloatProgressModel",
            "_view_count": null,
            "_view_module": "@jupyter-widgets/controls",
            "_view_module_version": "1.5.0",
            "_view_name": "ProgressView",
            "bar_style": "success",
            "description": "",
            "description_tooltip": null,
            "layout": "IPY_MODEL_27de25071c5d4f9d86db32964093bcf7",
            "max": 570,
            "min": 0,
            "orientation": "horizontal",
            "style": "IPY_MODEL_26eeeec14d1c44348df42774f18084ef",
            "value": 570
          }
        },
        "603f053083e44b0ba94d19c7974ad6b0": {
          "model_module": "@jupyter-widgets/controls",
          "model_name": "HTMLModel",
          "model_module_version": "1.5.0",
          "state": {
            "_dom_classes": [],
            "_model_module": "@jupyter-widgets/controls",
            "_model_module_version": "1.5.0",
            "_model_name": "HTMLModel",
            "_view_count": null,
            "_view_module": "@jupyter-widgets/controls",
            "_view_module_version": "1.5.0",
            "_view_name": "HTMLView",
            "description": "",
            "description_tooltip": null,
            "layout": "IPY_MODEL_dbdfa040fd7242c7a6bade7f2a4030bb",
            "placeholder": "​",
            "style": "IPY_MODEL_f4c63d051d9745e2a1bd562550ddb7de",
            "value": " 570/570 [00:00&lt;00:00, 41.5kB/s]"
          }
        },
        "476e162731a64b85a7f8d40efbf21eee": {
          "model_module": "@jupyter-widgets/base",
          "model_name": "LayoutModel",
          "model_module_version": "1.2.0",
          "state": {
            "_model_module": "@jupyter-widgets/base",
            "_model_module_version": "1.2.0",
            "_model_name": "LayoutModel",
            "_view_count": null,
            "_view_module": "@jupyter-widgets/base",
            "_view_module_version": "1.2.0",
            "_view_name": "LayoutView",
            "align_content": null,
            "align_items": null,
            "align_self": null,
            "border": null,
            "bottom": null,
            "display": null,
            "flex": null,
            "flex_flow": null,
            "grid_area": null,
            "grid_auto_columns": null,
            "grid_auto_flow": null,
            "grid_auto_rows": null,
            "grid_column": null,
            "grid_gap": null,
            "grid_row": null,
            "grid_template_areas": null,
            "grid_template_columns": null,
            "grid_template_rows": null,
            "height": null,
            "justify_content": null,
            "justify_items": null,
            "left": null,
            "margin": null,
            "max_height": null,
            "max_width": null,
            "min_height": null,
            "min_width": null,
            "object_fit": null,
            "object_position": null,
            "order": null,
            "overflow": null,
            "overflow_x": null,
            "overflow_y": null,
            "padding": null,
            "right": null,
            "top": null,
            "visibility": null,
            "width": null
          }
        },
        "3562ba9ee2694c2fa106a2df4670f2bc": {
          "model_module": "@jupyter-widgets/base",
          "model_name": "LayoutModel",
          "model_module_version": "1.2.0",
          "state": {
            "_model_module": "@jupyter-widgets/base",
            "_model_module_version": "1.2.0",
            "_model_name": "LayoutModel",
            "_view_count": null,
            "_view_module": "@jupyter-widgets/base",
            "_view_module_version": "1.2.0",
            "_view_name": "LayoutView",
            "align_content": null,
            "align_items": null,
            "align_self": null,
            "border": null,
            "bottom": null,
            "display": null,
            "flex": null,
            "flex_flow": null,
            "grid_area": null,
            "grid_auto_columns": null,
            "grid_auto_flow": null,
            "grid_auto_rows": null,
            "grid_column": null,
            "grid_gap": null,
            "grid_row": null,
            "grid_template_areas": null,
            "grid_template_columns": null,
            "grid_template_rows": null,
            "height": null,
            "justify_content": null,
            "justify_items": null,
            "left": null,
            "margin": null,
            "max_height": null,
            "max_width": null,
            "min_height": null,
            "min_width": null,
            "object_fit": null,
            "object_position": null,
            "order": null,
            "overflow": null,
            "overflow_x": null,
            "overflow_y": null,
            "padding": null,
            "right": null,
            "top": null,
            "visibility": null,
            "width": null
          }
        },
        "91d64d10695e4e62bd9a61797c3aa528": {
          "model_module": "@jupyter-widgets/controls",
          "model_name": "DescriptionStyleModel",
          "model_module_version": "1.5.0",
          "state": {
            "_model_module": "@jupyter-widgets/controls",
            "_model_module_version": "1.5.0",
            "_model_name": "DescriptionStyleModel",
            "_view_count": null,
            "_view_module": "@jupyter-widgets/base",
            "_view_module_version": "1.2.0",
            "_view_name": "StyleView",
            "description_width": ""
          }
        },
        "27de25071c5d4f9d86db32964093bcf7": {
          "model_module": "@jupyter-widgets/base",
          "model_name": "LayoutModel",
          "model_module_version": "1.2.0",
          "state": {
            "_model_module": "@jupyter-widgets/base",
            "_model_module_version": "1.2.0",
            "_model_name": "LayoutModel",
            "_view_count": null,
            "_view_module": "@jupyter-widgets/base",
            "_view_module_version": "1.2.0",
            "_view_name": "LayoutView",
            "align_content": null,
            "align_items": null,
            "align_self": null,
            "border": null,
            "bottom": null,
            "display": null,
            "flex": null,
            "flex_flow": null,
            "grid_area": null,
            "grid_auto_columns": null,
            "grid_auto_flow": null,
            "grid_auto_rows": null,
            "grid_column": null,
            "grid_gap": null,
            "grid_row": null,
            "grid_template_areas": null,
            "grid_template_columns": null,
            "grid_template_rows": null,
            "height": null,
            "justify_content": null,
            "justify_items": null,
            "left": null,
            "margin": null,
            "max_height": null,
            "max_width": null,
            "min_height": null,
            "min_width": null,
            "object_fit": null,
            "object_position": null,
            "order": null,
            "overflow": null,
            "overflow_x": null,
            "overflow_y": null,
            "padding": null,
            "right": null,
            "top": null,
            "visibility": null,
            "width": null
          }
        },
        "26eeeec14d1c44348df42774f18084ef": {
          "model_module": "@jupyter-widgets/controls",
          "model_name": "ProgressStyleModel",
          "model_module_version": "1.5.0",
          "state": {
            "_model_module": "@jupyter-widgets/controls",
            "_model_module_version": "1.5.0",
            "_model_name": "ProgressStyleModel",
            "_view_count": null,
            "_view_module": "@jupyter-widgets/base",
            "_view_module_version": "1.2.0",
            "_view_name": "StyleView",
            "bar_color": null,
            "description_width": ""
          }
        },
        "dbdfa040fd7242c7a6bade7f2a4030bb": {
          "model_module": "@jupyter-widgets/base",
          "model_name": "LayoutModel",
          "model_module_version": "1.2.0",
          "state": {
            "_model_module": "@jupyter-widgets/base",
            "_model_module_version": "1.2.0",
            "_model_name": "LayoutModel",
            "_view_count": null,
            "_view_module": "@jupyter-widgets/base",
            "_view_module_version": "1.2.0",
            "_view_name": "LayoutView",
            "align_content": null,
            "align_items": null,
            "align_self": null,
            "border": null,
            "bottom": null,
            "display": null,
            "flex": null,
            "flex_flow": null,
            "grid_area": null,
            "grid_auto_columns": null,
            "grid_auto_flow": null,
            "grid_auto_rows": null,
            "grid_column": null,
            "grid_gap": null,
            "grid_row": null,
            "grid_template_areas": null,
            "grid_template_columns": null,
            "grid_template_rows": null,
            "height": null,
            "justify_content": null,
            "justify_items": null,
            "left": null,
            "margin": null,
            "max_height": null,
            "max_width": null,
            "min_height": null,
            "min_width": null,
            "object_fit": null,
            "object_position": null,
            "order": null,
            "overflow": null,
            "overflow_x": null,
            "overflow_y": null,
            "padding": null,
            "right": null,
            "top": null,
            "visibility": null,
            "width": null
          }
        },
        "f4c63d051d9745e2a1bd562550ddb7de": {
          "model_module": "@jupyter-widgets/controls",
          "model_name": "DescriptionStyleModel",
          "model_module_version": "1.5.0",
          "state": {
            "_model_module": "@jupyter-widgets/controls",
            "_model_module_version": "1.5.0",
            "_model_name": "DescriptionStyleModel",
            "_view_count": null,
            "_view_module": "@jupyter-widgets/base",
            "_view_module_version": "1.2.0",
            "_view_name": "StyleView",
            "description_width": ""
          }
        },
        "0268e075c4b94bd5bd79dd8b4c26bf2e": {
          "model_module": "@jupyter-widgets/controls",
          "model_name": "HBoxModel",
          "model_module_version": "1.5.0",
          "state": {
            "_dom_classes": [],
            "_model_module": "@jupyter-widgets/controls",
            "_model_module_version": "1.5.0",
            "_model_name": "HBoxModel",
            "_view_count": null,
            "_view_module": "@jupyter-widgets/controls",
            "_view_module_version": "1.5.0",
            "_view_name": "HBoxView",
            "box_style": "",
            "children": [
              "IPY_MODEL_c861e4eaebe74c589d8930837d0d54eb",
              "IPY_MODEL_b92553c7936c4c1c86d4449d7ee3fa1c",
              "IPY_MODEL_9319678cc28f4b27ae6eb0f8249f45a2"
            ],
            "layout": "IPY_MODEL_32a7de57b8a340a1bdf44cc38b85080d"
          }
        },
        "c861e4eaebe74c589d8930837d0d54eb": {
          "model_module": "@jupyter-widgets/controls",
          "model_name": "HTMLModel",
          "model_module_version": "1.5.0",
          "state": {
            "_dom_classes": [],
            "_model_module": "@jupyter-widgets/controls",
            "_model_module_version": "1.5.0",
            "_model_name": "HTMLModel",
            "_view_count": null,
            "_view_module": "@jupyter-widgets/controls",
            "_view_module_version": "1.5.0",
            "_view_name": "HTMLView",
            "description": "",
            "description_tooltip": null,
            "layout": "IPY_MODEL_5a920647a8354e1d9ba6e23828b3634e",
            "placeholder": "​",
            "style": "IPY_MODEL_b7a01f777461471389c4a05e2fa4fd78",
            "value": "Downloading (…)solve/main/vocab.txt: 100%"
          }
        },
        "b92553c7936c4c1c86d4449d7ee3fa1c": {
          "model_module": "@jupyter-widgets/controls",
          "model_name": "FloatProgressModel",
          "model_module_version": "1.5.0",
          "state": {
            "_dom_classes": [],
            "_model_module": "@jupyter-widgets/controls",
            "_model_module_version": "1.5.0",
            "_model_name": "FloatProgressModel",
            "_view_count": null,
            "_view_module": "@jupyter-widgets/controls",
            "_view_module_version": "1.5.0",
            "_view_name": "ProgressView",
            "bar_style": "success",
            "description": "",
            "description_tooltip": null,
            "layout": "IPY_MODEL_f335a42a6e04415f855e3ff50881bae8",
            "max": 231508,
            "min": 0,
            "orientation": "horizontal",
            "style": "IPY_MODEL_e278f2143f3e4916b273208dc7413a3d",
            "value": 231508
          }
        },
        "9319678cc28f4b27ae6eb0f8249f45a2": {
          "model_module": "@jupyter-widgets/controls",
          "model_name": "HTMLModel",
          "model_module_version": "1.5.0",
          "state": {
            "_dom_classes": [],
            "_model_module": "@jupyter-widgets/controls",
            "_model_module_version": "1.5.0",
            "_model_name": "HTMLModel",
            "_view_count": null,
            "_view_module": "@jupyter-widgets/controls",
            "_view_module_version": "1.5.0",
            "_view_name": "HTMLView",
            "description": "",
            "description_tooltip": null,
            "layout": "IPY_MODEL_9676c68a1ed241149b0eac72b3cfe322",
            "placeholder": "​",
            "style": "IPY_MODEL_82e33d9ab904499f819a03a283d22793",
            "value": " 232k/232k [00:00&lt;00:00, 11.1MB/s]"
          }
        },
        "32a7de57b8a340a1bdf44cc38b85080d": {
          "model_module": "@jupyter-widgets/base",
          "model_name": "LayoutModel",
          "model_module_version": "1.2.0",
          "state": {
            "_model_module": "@jupyter-widgets/base",
            "_model_module_version": "1.2.0",
            "_model_name": "LayoutModel",
            "_view_count": null,
            "_view_module": "@jupyter-widgets/base",
            "_view_module_version": "1.2.0",
            "_view_name": "LayoutView",
            "align_content": null,
            "align_items": null,
            "align_self": null,
            "border": null,
            "bottom": null,
            "display": null,
            "flex": null,
            "flex_flow": null,
            "grid_area": null,
            "grid_auto_columns": null,
            "grid_auto_flow": null,
            "grid_auto_rows": null,
            "grid_column": null,
            "grid_gap": null,
            "grid_row": null,
            "grid_template_areas": null,
            "grid_template_columns": null,
            "grid_template_rows": null,
            "height": null,
            "justify_content": null,
            "justify_items": null,
            "left": null,
            "margin": null,
            "max_height": null,
            "max_width": null,
            "min_height": null,
            "min_width": null,
            "object_fit": null,
            "object_position": null,
            "order": null,
            "overflow": null,
            "overflow_x": null,
            "overflow_y": null,
            "padding": null,
            "right": null,
            "top": null,
            "visibility": null,
            "width": null
          }
        },
        "5a920647a8354e1d9ba6e23828b3634e": {
          "model_module": "@jupyter-widgets/base",
          "model_name": "LayoutModel",
          "model_module_version": "1.2.0",
          "state": {
            "_model_module": "@jupyter-widgets/base",
            "_model_module_version": "1.2.0",
            "_model_name": "LayoutModel",
            "_view_count": null,
            "_view_module": "@jupyter-widgets/base",
            "_view_module_version": "1.2.0",
            "_view_name": "LayoutView",
            "align_content": null,
            "align_items": null,
            "align_self": null,
            "border": null,
            "bottom": null,
            "display": null,
            "flex": null,
            "flex_flow": null,
            "grid_area": null,
            "grid_auto_columns": null,
            "grid_auto_flow": null,
            "grid_auto_rows": null,
            "grid_column": null,
            "grid_gap": null,
            "grid_row": null,
            "grid_template_areas": null,
            "grid_template_columns": null,
            "grid_template_rows": null,
            "height": null,
            "justify_content": null,
            "justify_items": null,
            "left": null,
            "margin": null,
            "max_height": null,
            "max_width": null,
            "min_height": null,
            "min_width": null,
            "object_fit": null,
            "object_position": null,
            "order": null,
            "overflow": null,
            "overflow_x": null,
            "overflow_y": null,
            "padding": null,
            "right": null,
            "top": null,
            "visibility": null,
            "width": null
          }
        },
        "b7a01f777461471389c4a05e2fa4fd78": {
          "model_module": "@jupyter-widgets/controls",
          "model_name": "DescriptionStyleModel",
          "model_module_version": "1.5.0",
          "state": {
            "_model_module": "@jupyter-widgets/controls",
            "_model_module_version": "1.5.0",
            "_model_name": "DescriptionStyleModel",
            "_view_count": null,
            "_view_module": "@jupyter-widgets/base",
            "_view_module_version": "1.2.0",
            "_view_name": "StyleView",
            "description_width": ""
          }
        },
        "f335a42a6e04415f855e3ff50881bae8": {
          "model_module": "@jupyter-widgets/base",
          "model_name": "LayoutModel",
          "model_module_version": "1.2.0",
          "state": {
            "_model_module": "@jupyter-widgets/base",
            "_model_module_version": "1.2.0",
            "_model_name": "LayoutModel",
            "_view_count": null,
            "_view_module": "@jupyter-widgets/base",
            "_view_module_version": "1.2.0",
            "_view_name": "LayoutView",
            "align_content": null,
            "align_items": null,
            "align_self": null,
            "border": null,
            "bottom": null,
            "display": null,
            "flex": null,
            "flex_flow": null,
            "grid_area": null,
            "grid_auto_columns": null,
            "grid_auto_flow": null,
            "grid_auto_rows": null,
            "grid_column": null,
            "grid_gap": null,
            "grid_row": null,
            "grid_template_areas": null,
            "grid_template_columns": null,
            "grid_template_rows": null,
            "height": null,
            "justify_content": null,
            "justify_items": null,
            "left": null,
            "margin": null,
            "max_height": null,
            "max_width": null,
            "min_height": null,
            "min_width": null,
            "object_fit": null,
            "object_position": null,
            "order": null,
            "overflow": null,
            "overflow_x": null,
            "overflow_y": null,
            "padding": null,
            "right": null,
            "top": null,
            "visibility": null,
            "width": null
          }
        },
        "e278f2143f3e4916b273208dc7413a3d": {
          "model_module": "@jupyter-widgets/controls",
          "model_name": "ProgressStyleModel",
          "model_module_version": "1.5.0",
          "state": {
            "_model_module": "@jupyter-widgets/controls",
            "_model_module_version": "1.5.0",
            "_model_name": "ProgressStyleModel",
            "_view_count": null,
            "_view_module": "@jupyter-widgets/base",
            "_view_module_version": "1.2.0",
            "_view_name": "StyleView",
            "bar_color": null,
            "description_width": ""
          }
        },
        "9676c68a1ed241149b0eac72b3cfe322": {
          "model_module": "@jupyter-widgets/base",
          "model_name": "LayoutModel",
          "model_module_version": "1.2.0",
          "state": {
            "_model_module": "@jupyter-widgets/base",
            "_model_module_version": "1.2.0",
            "_model_name": "LayoutModel",
            "_view_count": null,
            "_view_module": "@jupyter-widgets/base",
            "_view_module_version": "1.2.0",
            "_view_name": "LayoutView",
            "align_content": null,
            "align_items": null,
            "align_self": null,
            "border": null,
            "bottom": null,
            "display": null,
            "flex": null,
            "flex_flow": null,
            "grid_area": null,
            "grid_auto_columns": null,
            "grid_auto_flow": null,
            "grid_auto_rows": null,
            "grid_column": null,
            "grid_gap": null,
            "grid_row": null,
            "grid_template_areas": null,
            "grid_template_columns": null,
            "grid_template_rows": null,
            "height": null,
            "justify_content": null,
            "justify_items": null,
            "left": null,
            "margin": null,
            "max_height": null,
            "max_width": null,
            "min_height": null,
            "min_width": null,
            "object_fit": null,
            "object_position": null,
            "order": null,
            "overflow": null,
            "overflow_x": null,
            "overflow_y": null,
            "padding": null,
            "right": null,
            "top": null,
            "visibility": null,
            "width": null
          }
        },
        "82e33d9ab904499f819a03a283d22793": {
          "model_module": "@jupyter-widgets/controls",
          "model_name": "DescriptionStyleModel",
          "model_module_version": "1.5.0",
          "state": {
            "_model_module": "@jupyter-widgets/controls",
            "_model_module_version": "1.5.0",
            "_model_name": "DescriptionStyleModel",
            "_view_count": null,
            "_view_module": "@jupyter-widgets/base",
            "_view_module_version": "1.2.0",
            "_view_name": "StyleView",
            "description_width": ""
          }
        },
        "17ebcfc588324625bd1f8d73bcaf229a": {
          "model_module": "@jupyter-widgets/controls",
          "model_name": "HBoxModel",
          "model_module_version": "1.5.0",
          "state": {
            "_dom_classes": [],
            "_model_module": "@jupyter-widgets/controls",
            "_model_module_version": "1.5.0",
            "_model_name": "HBoxModel",
            "_view_count": null,
            "_view_module": "@jupyter-widgets/controls",
            "_view_module_version": "1.5.0",
            "_view_name": "HBoxView",
            "box_style": "",
            "children": [
              "IPY_MODEL_48597c10db4f422aa51fc2ab7873ec0a",
              "IPY_MODEL_ba2cdb4321014290ad0fc3b156aaa215",
              "IPY_MODEL_648ed56304cd4181bfb3f4b2cfd387fb"
            ],
            "layout": "IPY_MODEL_3e6a9be1429e44dca50747f2892f15f8"
          }
        },
        "48597c10db4f422aa51fc2ab7873ec0a": {
          "model_module": "@jupyter-widgets/controls",
          "model_name": "HTMLModel",
          "model_module_version": "1.5.0",
          "state": {
            "_dom_classes": [],
            "_model_module": "@jupyter-widgets/controls",
            "_model_module_version": "1.5.0",
            "_model_name": "HTMLModel",
            "_view_count": null,
            "_view_module": "@jupyter-widgets/controls",
            "_view_module_version": "1.5.0",
            "_view_name": "HTMLView",
            "description": "",
            "description_tooltip": null,
            "layout": "IPY_MODEL_6cec0bd5d6184dc68f30673e584d2707",
            "placeholder": "​",
            "style": "IPY_MODEL_172dc6577fac4c3184e3ca01bf278cef",
            "value": "Downloading (…)okenizer_config.json: 100%"
          }
        },
        "ba2cdb4321014290ad0fc3b156aaa215": {
          "model_module": "@jupyter-widgets/controls",
          "model_name": "FloatProgressModel",
          "model_module_version": "1.5.0",
          "state": {
            "_dom_classes": [],
            "_model_module": "@jupyter-widgets/controls",
            "_model_module_version": "1.5.0",
            "_model_name": "FloatProgressModel",
            "_view_count": null,
            "_view_module": "@jupyter-widgets/controls",
            "_view_module_version": "1.5.0",
            "_view_name": "ProgressView",
            "bar_style": "success",
            "description": "",
            "description_tooltip": null,
            "layout": "IPY_MODEL_5095b3ad1a1d4c42947f064e30df21a0",
            "max": 28,
            "min": 0,
            "orientation": "horizontal",
            "style": "IPY_MODEL_6ad40917687e4ab4abebe923353f824e",
            "value": 28
          }
        },
        "648ed56304cd4181bfb3f4b2cfd387fb": {
          "model_module": "@jupyter-widgets/controls",
          "model_name": "HTMLModel",
          "model_module_version": "1.5.0",
          "state": {
            "_dom_classes": [],
            "_model_module": "@jupyter-widgets/controls",
            "_model_module_version": "1.5.0",
            "_model_name": "HTMLModel",
            "_view_count": null,
            "_view_module": "@jupyter-widgets/controls",
            "_view_module_version": "1.5.0",
            "_view_name": "HTMLView",
            "description": "",
            "description_tooltip": null,
            "layout": "IPY_MODEL_cd2ab6ddcf2642c281bc7084e335d4c3",
            "placeholder": "​",
            "style": "IPY_MODEL_cfc53b284abb4fe789af6f04015b6b20",
            "value": " 28.0/28.0 [00:00&lt;00:00, 2.19kB/s]"
          }
        },
        "3e6a9be1429e44dca50747f2892f15f8": {
          "model_module": "@jupyter-widgets/base",
          "model_name": "LayoutModel",
          "model_module_version": "1.2.0",
          "state": {
            "_model_module": "@jupyter-widgets/base",
            "_model_module_version": "1.2.0",
            "_model_name": "LayoutModel",
            "_view_count": null,
            "_view_module": "@jupyter-widgets/base",
            "_view_module_version": "1.2.0",
            "_view_name": "LayoutView",
            "align_content": null,
            "align_items": null,
            "align_self": null,
            "border": null,
            "bottom": null,
            "display": null,
            "flex": null,
            "flex_flow": null,
            "grid_area": null,
            "grid_auto_columns": null,
            "grid_auto_flow": null,
            "grid_auto_rows": null,
            "grid_column": null,
            "grid_gap": null,
            "grid_row": null,
            "grid_template_areas": null,
            "grid_template_columns": null,
            "grid_template_rows": null,
            "height": null,
            "justify_content": null,
            "justify_items": null,
            "left": null,
            "margin": null,
            "max_height": null,
            "max_width": null,
            "min_height": null,
            "min_width": null,
            "object_fit": null,
            "object_position": null,
            "order": null,
            "overflow": null,
            "overflow_x": null,
            "overflow_y": null,
            "padding": null,
            "right": null,
            "top": null,
            "visibility": null,
            "width": null
          }
        },
        "6cec0bd5d6184dc68f30673e584d2707": {
          "model_module": "@jupyter-widgets/base",
          "model_name": "LayoutModel",
          "model_module_version": "1.2.0",
          "state": {
            "_model_module": "@jupyter-widgets/base",
            "_model_module_version": "1.2.0",
            "_model_name": "LayoutModel",
            "_view_count": null,
            "_view_module": "@jupyter-widgets/base",
            "_view_module_version": "1.2.0",
            "_view_name": "LayoutView",
            "align_content": null,
            "align_items": null,
            "align_self": null,
            "border": null,
            "bottom": null,
            "display": null,
            "flex": null,
            "flex_flow": null,
            "grid_area": null,
            "grid_auto_columns": null,
            "grid_auto_flow": null,
            "grid_auto_rows": null,
            "grid_column": null,
            "grid_gap": null,
            "grid_row": null,
            "grid_template_areas": null,
            "grid_template_columns": null,
            "grid_template_rows": null,
            "height": null,
            "justify_content": null,
            "justify_items": null,
            "left": null,
            "margin": null,
            "max_height": null,
            "max_width": null,
            "min_height": null,
            "min_width": null,
            "object_fit": null,
            "object_position": null,
            "order": null,
            "overflow": null,
            "overflow_x": null,
            "overflow_y": null,
            "padding": null,
            "right": null,
            "top": null,
            "visibility": null,
            "width": null
          }
        },
        "172dc6577fac4c3184e3ca01bf278cef": {
          "model_module": "@jupyter-widgets/controls",
          "model_name": "DescriptionStyleModel",
          "model_module_version": "1.5.0",
          "state": {
            "_model_module": "@jupyter-widgets/controls",
            "_model_module_version": "1.5.0",
            "_model_name": "DescriptionStyleModel",
            "_view_count": null,
            "_view_module": "@jupyter-widgets/base",
            "_view_module_version": "1.2.0",
            "_view_name": "StyleView",
            "description_width": ""
          }
        },
        "5095b3ad1a1d4c42947f064e30df21a0": {
          "model_module": "@jupyter-widgets/base",
          "model_name": "LayoutModel",
          "model_module_version": "1.2.0",
          "state": {
            "_model_module": "@jupyter-widgets/base",
            "_model_module_version": "1.2.0",
            "_model_name": "LayoutModel",
            "_view_count": null,
            "_view_module": "@jupyter-widgets/base",
            "_view_module_version": "1.2.0",
            "_view_name": "LayoutView",
            "align_content": null,
            "align_items": null,
            "align_self": null,
            "border": null,
            "bottom": null,
            "display": null,
            "flex": null,
            "flex_flow": null,
            "grid_area": null,
            "grid_auto_columns": null,
            "grid_auto_flow": null,
            "grid_auto_rows": null,
            "grid_column": null,
            "grid_gap": null,
            "grid_row": null,
            "grid_template_areas": null,
            "grid_template_columns": null,
            "grid_template_rows": null,
            "height": null,
            "justify_content": null,
            "justify_items": null,
            "left": null,
            "margin": null,
            "max_height": null,
            "max_width": null,
            "min_height": null,
            "min_width": null,
            "object_fit": null,
            "object_position": null,
            "order": null,
            "overflow": null,
            "overflow_x": null,
            "overflow_y": null,
            "padding": null,
            "right": null,
            "top": null,
            "visibility": null,
            "width": null
          }
        },
        "6ad40917687e4ab4abebe923353f824e": {
          "model_module": "@jupyter-widgets/controls",
          "model_name": "ProgressStyleModel",
          "model_module_version": "1.5.0",
          "state": {
            "_model_module": "@jupyter-widgets/controls",
            "_model_module_version": "1.5.0",
            "_model_name": "ProgressStyleModel",
            "_view_count": null,
            "_view_module": "@jupyter-widgets/base",
            "_view_module_version": "1.2.0",
            "_view_name": "StyleView",
            "bar_color": null,
            "description_width": ""
          }
        },
        "cd2ab6ddcf2642c281bc7084e335d4c3": {
          "model_module": "@jupyter-widgets/base",
          "model_name": "LayoutModel",
          "model_module_version": "1.2.0",
          "state": {
            "_model_module": "@jupyter-widgets/base",
            "_model_module_version": "1.2.0",
            "_model_name": "LayoutModel",
            "_view_count": null,
            "_view_module": "@jupyter-widgets/base",
            "_view_module_version": "1.2.0",
            "_view_name": "LayoutView",
            "align_content": null,
            "align_items": null,
            "align_self": null,
            "border": null,
            "bottom": null,
            "display": null,
            "flex": null,
            "flex_flow": null,
            "grid_area": null,
            "grid_auto_columns": null,
            "grid_auto_flow": null,
            "grid_auto_rows": null,
            "grid_column": null,
            "grid_gap": null,
            "grid_row": null,
            "grid_template_areas": null,
            "grid_template_columns": null,
            "grid_template_rows": null,
            "height": null,
            "justify_content": null,
            "justify_items": null,
            "left": null,
            "margin": null,
            "max_height": null,
            "max_width": null,
            "min_height": null,
            "min_width": null,
            "object_fit": null,
            "object_position": null,
            "order": null,
            "overflow": null,
            "overflow_x": null,
            "overflow_y": null,
            "padding": null,
            "right": null,
            "top": null,
            "visibility": null,
            "width": null
          }
        },
        "cfc53b284abb4fe789af6f04015b6b20": {
          "model_module": "@jupyter-widgets/controls",
          "model_name": "DescriptionStyleModel",
          "model_module_version": "1.5.0",
          "state": {
            "_model_module": "@jupyter-widgets/controls",
            "_model_module_version": "1.5.0",
            "_model_name": "DescriptionStyleModel",
            "_view_count": null,
            "_view_module": "@jupyter-widgets/base",
            "_view_module_version": "1.2.0",
            "_view_name": "StyleView",
            "description_width": ""
          }
        },
        "d86dcfe250404c42a8d0a19489a351f7": {
          "model_module": "@jupyter-widgets/controls",
          "model_name": "HBoxModel",
          "model_module_version": "1.5.0",
          "state": {
            "_dom_classes": [],
            "_model_module": "@jupyter-widgets/controls",
            "_model_module_version": "1.5.0",
            "_model_name": "HBoxModel",
            "_view_count": null,
            "_view_module": "@jupyter-widgets/controls",
            "_view_module_version": "1.5.0",
            "_view_name": "HBoxView",
            "box_style": "",
            "children": [
              "IPY_MODEL_c182a57b8e7f4f90a47306c92ae2107b",
              "IPY_MODEL_4e358463163848fdb60ae61415fdfefe",
              "IPY_MODEL_c322ec50fa7147fabddca56a0190657a"
            ],
            "layout": "IPY_MODEL_4bca14edc88c49bca227841825b70fac"
          }
        },
        "c182a57b8e7f4f90a47306c92ae2107b": {
          "model_module": "@jupyter-widgets/controls",
          "model_name": "HTMLModel",
          "model_module_version": "1.5.0",
          "state": {
            "_dom_classes": [],
            "_model_module": "@jupyter-widgets/controls",
            "_model_module_version": "1.5.0",
            "_model_name": "HTMLModel",
            "_view_count": null,
            "_view_module": "@jupyter-widgets/controls",
            "_view_module_version": "1.5.0",
            "_view_name": "HTMLView",
            "description": "",
            "description_tooltip": null,
            "layout": "IPY_MODEL_6309224657894bfb8aeecda17499f671",
            "placeholder": "​",
            "style": "IPY_MODEL_54735103d5e74c8097a82201b7755a44",
            "value": "Downloading (…)lve/main/config.json: 100%"
          }
        },
        "4e358463163848fdb60ae61415fdfefe": {
          "model_module": "@jupyter-widgets/controls",
          "model_name": "FloatProgressModel",
          "model_module_version": "1.5.0",
          "state": {
            "_dom_classes": [],
            "_model_module": "@jupyter-widgets/controls",
            "_model_module_version": "1.5.0",
            "_model_name": "FloatProgressModel",
            "_view_count": null,
            "_view_module": "@jupyter-widgets/controls",
            "_view_module_version": "1.5.0",
            "_view_name": "ProgressView",
            "bar_style": "success",
            "description": "",
            "description_tooltip": null,
            "layout": "IPY_MODEL_119475bcc3f24125b66b0a5141c43636",
            "max": 483,
            "min": 0,
            "orientation": "horizontal",
            "style": "IPY_MODEL_40aca2f98bd747ddbf6a1305a72b1fd2",
            "value": 483
          }
        },
        "c322ec50fa7147fabddca56a0190657a": {
          "model_module": "@jupyter-widgets/controls",
          "model_name": "HTMLModel",
          "model_module_version": "1.5.0",
          "state": {
            "_dom_classes": [],
            "_model_module": "@jupyter-widgets/controls",
            "_model_module_version": "1.5.0",
            "_model_name": "HTMLModel",
            "_view_count": null,
            "_view_module": "@jupyter-widgets/controls",
            "_view_module_version": "1.5.0",
            "_view_name": "HTMLView",
            "description": "",
            "description_tooltip": null,
            "layout": "IPY_MODEL_e2e1d331c7844d1ebb118502cc3bb9b2",
            "placeholder": "​",
            "style": "IPY_MODEL_98d5682dd5a644a68c165b5caa081fd6",
            "value": " 483/483 [00:00&lt;00:00, 29.5kB/s]"
          }
        },
        "4bca14edc88c49bca227841825b70fac": {
          "model_module": "@jupyter-widgets/base",
          "model_name": "LayoutModel",
          "model_module_version": "1.2.0",
          "state": {
            "_model_module": "@jupyter-widgets/base",
            "_model_module_version": "1.2.0",
            "_model_name": "LayoutModel",
            "_view_count": null,
            "_view_module": "@jupyter-widgets/base",
            "_view_module_version": "1.2.0",
            "_view_name": "LayoutView",
            "align_content": null,
            "align_items": null,
            "align_self": null,
            "border": null,
            "bottom": null,
            "display": null,
            "flex": null,
            "flex_flow": null,
            "grid_area": null,
            "grid_auto_columns": null,
            "grid_auto_flow": null,
            "grid_auto_rows": null,
            "grid_column": null,
            "grid_gap": null,
            "grid_row": null,
            "grid_template_areas": null,
            "grid_template_columns": null,
            "grid_template_rows": null,
            "height": null,
            "justify_content": null,
            "justify_items": null,
            "left": null,
            "margin": null,
            "max_height": null,
            "max_width": null,
            "min_height": null,
            "min_width": null,
            "object_fit": null,
            "object_position": null,
            "order": null,
            "overflow": null,
            "overflow_x": null,
            "overflow_y": null,
            "padding": null,
            "right": null,
            "top": null,
            "visibility": null,
            "width": null
          }
        },
        "6309224657894bfb8aeecda17499f671": {
          "model_module": "@jupyter-widgets/base",
          "model_name": "LayoutModel",
          "model_module_version": "1.2.0",
          "state": {
            "_model_module": "@jupyter-widgets/base",
            "_model_module_version": "1.2.0",
            "_model_name": "LayoutModel",
            "_view_count": null,
            "_view_module": "@jupyter-widgets/base",
            "_view_module_version": "1.2.0",
            "_view_name": "LayoutView",
            "align_content": null,
            "align_items": null,
            "align_self": null,
            "border": null,
            "bottom": null,
            "display": null,
            "flex": null,
            "flex_flow": null,
            "grid_area": null,
            "grid_auto_columns": null,
            "grid_auto_flow": null,
            "grid_auto_rows": null,
            "grid_column": null,
            "grid_gap": null,
            "grid_row": null,
            "grid_template_areas": null,
            "grid_template_columns": null,
            "grid_template_rows": null,
            "height": null,
            "justify_content": null,
            "justify_items": null,
            "left": null,
            "margin": null,
            "max_height": null,
            "max_width": null,
            "min_height": null,
            "min_width": null,
            "object_fit": null,
            "object_position": null,
            "order": null,
            "overflow": null,
            "overflow_x": null,
            "overflow_y": null,
            "padding": null,
            "right": null,
            "top": null,
            "visibility": null,
            "width": null
          }
        },
        "54735103d5e74c8097a82201b7755a44": {
          "model_module": "@jupyter-widgets/controls",
          "model_name": "DescriptionStyleModel",
          "model_module_version": "1.5.0",
          "state": {
            "_model_module": "@jupyter-widgets/controls",
            "_model_module_version": "1.5.0",
            "_model_name": "DescriptionStyleModel",
            "_view_count": null,
            "_view_module": "@jupyter-widgets/base",
            "_view_module_version": "1.2.0",
            "_view_name": "StyleView",
            "description_width": ""
          }
        },
        "119475bcc3f24125b66b0a5141c43636": {
          "model_module": "@jupyter-widgets/base",
          "model_name": "LayoutModel",
          "model_module_version": "1.2.0",
          "state": {
            "_model_module": "@jupyter-widgets/base",
            "_model_module_version": "1.2.0",
            "_model_name": "LayoutModel",
            "_view_count": null,
            "_view_module": "@jupyter-widgets/base",
            "_view_module_version": "1.2.0",
            "_view_name": "LayoutView",
            "align_content": null,
            "align_items": null,
            "align_self": null,
            "border": null,
            "bottom": null,
            "display": null,
            "flex": null,
            "flex_flow": null,
            "grid_area": null,
            "grid_auto_columns": null,
            "grid_auto_flow": null,
            "grid_auto_rows": null,
            "grid_column": null,
            "grid_gap": null,
            "grid_row": null,
            "grid_template_areas": null,
            "grid_template_columns": null,
            "grid_template_rows": null,
            "height": null,
            "justify_content": null,
            "justify_items": null,
            "left": null,
            "margin": null,
            "max_height": null,
            "max_width": null,
            "min_height": null,
            "min_width": null,
            "object_fit": null,
            "object_position": null,
            "order": null,
            "overflow": null,
            "overflow_x": null,
            "overflow_y": null,
            "padding": null,
            "right": null,
            "top": null,
            "visibility": null,
            "width": null
          }
        },
        "40aca2f98bd747ddbf6a1305a72b1fd2": {
          "model_module": "@jupyter-widgets/controls",
          "model_name": "ProgressStyleModel",
          "model_module_version": "1.5.0",
          "state": {
            "_model_module": "@jupyter-widgets/controls",
            "_model_module_version": "1.5.0",
            "_model_name": "ProgressStyleModel",
            "_view_count": null,
            "_view_module": "@jupyter-widgets/base",
            "_view_module_version": "1.2.0",
            "_view_name": "StyleView",
            "bar_color": null,
            "description_width": ""
          }
        },
        "e2e1d331c7844d1ebb118502cc3bb9b2": {
          "model_module": "@jupyter-widgets/base",
          "model_name": "LayoutModel",
          "model_module_version": "1.2.0",
          "state": {
            "_model_module": "@jupyter-widgets/base",
            "_model_module_version": "1.2.0",
            "_model_name": "LayoutModel",
            "_view_count": null,
            "_view_module": "@jupyter-widgets/base",
            "_view_module_version": "1.2.0",
            "_view_name": "LayoutView",
            "align_content": null,
            "align_items": null,
            "align_self": null,
            "border": null,
            "bottom": null,
            "display": null,
            "flex": null,
            "flex_flow": null,
            "grid_area": null,
            "grid_auto_columns": null,
            "grid_auto_flow": null,
            "grid_auto_rows": null,
            "grid_column": null,
            "grid_gap": null,
            "grid_row": null,
            "grid_template_areas": null,
            "grid_template_columns": null,
            "grid_template_rows": null,
            "height": null,
            "justify_content": null,
            "justify_items": null,
            "left": null,
            "margin": null,
            "max_height": null,
            "max_width": null,
            "min_height": null,
            "min_width": null,
            "object_fit": null,
            "object_position": null,
            "order": null,
            "overflow": null,
            "overflow_x": null,
            "overflow_y": null,
            "padding": null,
            "right": null,
            "top": null,
            "visibility": null,
            "width": null
          }
        },
        "98d5682dd5a644a68c165b5caa081fd6": {
          "model_module": "@jupyter-widgets/controls",
          "model_name": "DescriptionStyleModel",
          "model_module_version": "1.5.0",
          "state": {
            "_model_module": "@jupyter-widgets/controls",
            "_model_module_version": "1.5.0",
            "_model_name": "DescriptionStyleModel",
            "_view_count": null,
            "_view_module": "@jupyter-widgets/base",
            "_view_module_version": "1.2.0",
            "_view_name": "StyleView",
            "description_width": ""
          }
        },
        "13c5d9fe1c5243c08c2800ddfdb3ad2c": {
          "model_module": "@jupyter-widgets/controls",
          "model_name": "HBoxModel",
          "model_module_version": "1.5.0",
          "state": {
            "_dom_classes": [],
            "_model_module": "@jupyter-widgets/controls",
            "_model_module_version": "1.5.0",
            "_model_name": "HBoxModel",
            "_view_count": null,
            "_view_module": "@jupyter-widgets/controls",
            "_view_module_version": "1.5.0",
            "_view_name": "HBoxView",
            "box_style": "",
            "children": [
              "IPY_MODEL_6034f955c05249a5ade5b47f09221721",
              "IPY_MODEL_76de673822a1492f93c9c27c606e1674",
              "IPY_MODEL_1aa0ab15b2aa40b2b16252b9405edb86"
            ],
            "layout": "IPY_MODEL_33def5d47a9d405e90e5ecafcc087cc7"
          }
        },
        "6034f955c05249a5ade5b47f09221721": {
          "model_module": "@jupyter-widgets/controls",
          "model_name": "HTMLModel",
          "model_module_version": "1.5.0",
          "state": {
            "_dom_classes": [],
            "_model_module": "@jupyter-widgets/controls",
            "_model_module_version": "1.5.0",
            "_model_name": "HTMLModel",
            "_view_count": null,
            "_view_module": "@jupyter-widgets/controls",
            "_view_module_version": "1.5.0",
            "_view_name": "HTMLView",
            "description": "",
            "description_tooltip": null,
            "layout": "IPY_MODEL_c85856b75ed1493d9c9d050ed7484cb4",
            "placeholder": "​",
            "style": "IPY_MODEL_1c84d3decfca4a46852931dd362e6d5b",
            "value": "Downloading model.safetensors: 100%"
          }
        },
        "76de673822a1492f93c9c27c606e1674": {
          "model_module": "@jupyter-widgets/controls",
          "model_name": "FloatProgressModel",
          "model_module_version": "1.5.0",
          "state": {
            "_dom_classes": [],
            "_model_module": "@jupyter-widgets/controls",
            "_model_module_version": "1.5.0",
            "_model_name": "FloatProgressModel",
            "_view_count": null,
            "_view_module": "@jupyter-widgets/controls",
            "_view_module_version": "1.5.0",
            "_view_name": "ProgressView",
            "bar_style": "success",
            "description": "",
            "description_tooltip": null,
            "layout": "IPY_MODEL_5d627a6d40494a448109decad6e95578",
            "max": 267954768,
            "min": 0,
            "orientation": "horizontal",
            "style": "IPY_MODEL_4b07e40cbe524db0afd0e180c59d8b1c",
            "value": 267954768
          }
        },
        "1aa0ab15b2aa40b2b16252b9405edb86": {
          "model_module": "@jupyter-widgets/controls",
          "model_name": "HTMLModel",
          "model_module_version": "1.5.0",
          "state": {
            "_dom_classes": [],
            "_model_module": "@jupyter-widgets/controls",
            "_model_module_version": "1.5.0",
            "_model_name": "HTMLModel",
            "_view_count": null,
            "_view_module": "@jupyter-widgets/controls",
            "_view_module_version": "1.5.0",
            "_view_name": "HTMLView",
            "description": "",
            "description_tooltip": null,
            "layout": "IPY_MODEL_f68d6fcd1bb743e58aac5abd86d22ad2",
            "placeholder": "​",
            "style": "IPY_MODEL_0cb6e5f3948b4d74aa5fe536e09180c8",
            "value": " 268M/268M [00:01&lt;00:00, 204MB/s]"
          }
        },
        "33def5d47a9d405e90e5ecafcc087cc7": {
          "model_module": "@jupyter-widgets/base",
          "model_name": "LayoutModel",
          "model_module_version": "1.2.0",
          "state": {
            "_model_module": "@jupyter-widgets/base",
            "_model_module_version": "1.2.0",
            "_model_name": "LayoutModel",
            "_view_count": null,
            "_view_module": "@jupyter-widgets/base",
            "_view_module_version": "1.2.0",
            "_view_name": "LayoutView",
            "align_content": null,
            "align_items": null,
            "align_self": null,
            "border": null,
            "bottom": null,
            "display": null,
            "flex": null,
            "flex_flow": null,
            "grid_area": null,
            "grid_auto_columns": null,
            "grid_auto_flow": null,
            "grid_auto_rows": null,
            "grid_column": null,
            "grid_gap": null,
            "grid_row": null,
            "grid_template_areas": null,
            "grid_template_columns": null,
            "grid_template_rows": null,
            "height": null,
            "justify_content": null,
            "justify_items": null,
            "left": null,
            "margin": null,
            "max_height": null,
            "max_width": null,
            "min_height": null,
            "min_width": null,
            "object_fit": null,
            "object_position": null,
            "order": null,
            "overflow": null,
            "overflow_x": null,
            "overflow_y": null,
            "padding": null,
            "right": null,
            "top": null,
            "visibility": null,
            "width": null
          }
        },
        "c85856b75ed1493d9c9d050ed7484cb4": {
          "model_module": "@jupyter-widgets/base",
          "model_name": "LayoutModel",
          "model_module_version": "1.2.0",
          "state": {
            "_model_module": "@jupyter-widgets/base",
            "_model_module_version": "1.2.0",
            "_model_name": "LayoutModel",
            "_view_count": null,
            "_view_module": "@jupyter-widgets/base",
            "_view_module_version": "1.2.0",
            "_view_name": "LayoutView",
            "align_content": null,
            "align_items": null,
            "align_self": null,
            "border": null,
            "bottom": null,
            "display": null,
            "flex": null,
            "flex_flow": null,
            "grid_area": null,
            "grid_auto_columns": null,
            "grid_auto_flow": null,
            "grid_auto_rows": null,
            "grid_column": null,
            "grid_gap": null,
            "grid_row": null,
            "grid_template_areas": null,
            "grid_template_columns": null,
            "grid_template_rows": null,
            "height": null,
            "justify_content": null,
            "justify_items": null,
            "left": null,
            "margin": null,
            "max_height": null,
            "max_width": null,
            "min_height": null,
            "min_width": null,
            "object_fit": null,
            "object_position": null,
            "order": null,
            "overflow": null,
            "overflow_x": null,
            "overflow_y": null,
            "padding": null,
            "right": null,
            "top": null,
            "visibility": null,
            "width": null
          }
        },
        "1c84d3decfca4a46852931dd362e6d5b": {
          "model_module": "@jupyter-widgets/controls",
          "model_name": "DescriptionStyleModel",
          "model_module_version": "1.5.0",
          "state": {
            "_model_module": "@jupyter-widgets/controls",
            "_model_module_version": "1.5.0",
            "_model_name": "DescriptionStyleModel",
            "_view_count": null,
            "_view_module": "@jupyter-widgets/base",
            "_view_module_version": "1.2.0",
            "_view_name": "StyleView",
            "description_width": ""
          }
        },
        "5d627a6d40494a448109decad6e95578": {
          "model_module": "@jupyter-widgets/base",
          "model_name": "LayoutModel",
          "model_module_version": "1.2.0",
          "state": {
            "_model_module": "@jupyter-widgets/base",
            "_model_module_version": "1.2.0",
            "_model_name": "LayoutModel",
            "_view_count": null,
            "_view_module": "@jupyter-widgets/base",
            "_view_module_version": "1.2.0",
            "_view_name": "LayoutView",
            "align_content": null,
            "align_items": null,
            "align_self": null,
            "border": null,
            "bottom": null,
            "display": null,
            "flex": null,
            "flex_flow": null,
            "grid_area": null,
            "grid_auto_columns": null,
            "grid_auto_flow": null,
            "grid_auto_rows": null,
            "grid_column": null,
            "grid_gap": null,
            "grid_row": null,
            "grid_template_areas": null,
            "grid_template_columns": null,
            "grid_template_rows": null,
            "height": null,
            "justify_content": null,
            "justify_items": null,
            "left": null,
            "margin": null,
            "max_height": null,
            "max_width": null,
            "min_height": null,
            "min_width": null,
            "object_fit": null,
            "object_position": null,
            "order": null,
            "overflow": null,
            "overflow_x": null,
            "overflow_y": null,
            "padding": null,
            "right": null,
            "top": null,
            "visibility": null,
            "width": null
          }
        },
        "4b07e40cbe524db0afd0e180c59d8b1c": {
          "model_module": "@jupyter-widgets/controls",
          "model_name": "ProgressStyleModel",
          "model_module_version": "1.5.0",
          "state": {
            "_model_module": "@jupyter-widgets/controls",
            "_model_module_version": "1.5.0",
            "_model_name": "ProgressStyleModel",
            "_view_count": null,
            "_view_module": "@jupyter-widgets/base",
            "_view_module_version": "1.2.0",
            "_view_name": "StyleView",
            "bar_color": null,
            "description_width": ""
          }
        },
        "f68d6fcd1bb743e58aac5abd86d22ad2": {
          "model_module": "@jupyter-widgets/base",
          "model_name": "LayoutModel",
          "model_module_version": "1.2.0",
          "state": {
            "_model_module": "@jupyter-widgets/base",
            "_model_module_version": "1.2.0",
            "_model_name": "LayoutModel",
            "_view_count": null,
            "_view_module": "@jupyter-widgets/base",
            "_view_module_version": "1.2.0",
            "_view_name": "LayoutView",
            "align_content": null,
            "align_items": null,
            "align_self": null,
            "border": null,
            "bottom": null,
            "display": null,
            "flex": null,
            "flex_flow": null,
            "grid_area": null,
            "grid_auto_columns": null,
            "grid_auto_flow": null,
            "grid_auto_rows": null,
            "grid_column": null,
            "grid_gap": null,
            "grid_row": null,
            "grid_template_areas": null,
            "grid_template_columns": null,
            "grid_template_rows": null,
            "height": null,
            "justify_content": null,
            "justify_items": null,
            "left": null,
            "margin": null,
            "max_height": null,
            "max_width": null,
            "min_height": null,
            "min_width": null,
            "object_fit": null,
            "object_position": null,
            "order": null,
            "overflow": null,
            "overflow_x": null,
            "overflow_y": null,
            "padding": null,
            "right": null,
            "top": null,
            "visibility": null,
            "width": null
          }
        },
        "0cb6e5f3948b4d74aa5fe536e09180c8": {
          "model_module": "@jupyter-widgets/controls",
          "model_name": "DescriptionStyleModel",
          "model_module_version": "1.5.0",
          "state": {
            "_model_module": "@jupyter-widgets/controls",
            "_model_module_version": "1.5.0",
            "_model_name": "DescriptionStyleModel",
            "_view_count": null,
            "_view_module": "@jupyter-widgets/base",
            "_view_module_version": "1.2.0",
            "_view_name": "StyleView",
            "description_width": ""
          }
        }
      }
    },
    "accelerator": "GPU"
  },
  "cells": [
    {
      "cell_type": "code",
      "metadata": {
        "id": "i_TziN069euC",
        "outputId": "ad23feeb-86fb-4d6c-df7b-c04d29f3107a",
        "colab": {
          "base_uri": "https://localhost:8080/"
        }
      },
      "source": [
        "# install huggingface Transformers [https://huggingface.co/transformers/installation.html]\n",
        "\n",
        "# Many transformer based models in a single library: https://github.com/huggingface/transformers#model-architectures\n",
        "! pip install transformers\n",
        "\n",
        "# This week: we will use HuggingFace BERT implementations.\n",
        "# Next sessions: Build an encoder-decoder seq-seq Transfomer from scratch using TF/Keras."
      ],
      "execution_count": 1,
      "outputs": [
        {
          "output_type": "stream",
          "name": "stdout",
          "text": [
            "Collecting transformers\n",
            "  Downloading transformers-4.31.0-py3-none-any.whl (7.4 MB)\n",
            "\u001b[2K     \u001b[90m━━━━━━━━━━━━━━━━━━━━━━━━━━━━━━━━━━━━━━━━\u001b[0m \u001b[32m7.4/7.4 MB\u001b[0m \u001b[31m15.3 MB/s\u001b[0m eta \u001b[36m0:00:00\u001b[0m\n",
            "\u001b[?25hRequirement already satisfied: filelock in /usr/local/lib/python3.10/dist-packages (from transformers) (3.12.2)\n",
            "Collecting huggingface-hub<1.0,>=0.14.1 (from transformers)\n",
            "  Downloading huggingface_hub-0.16.4-py3-none-any.whl (268 kB)\n",
            "\u001b[2K     \u001b[90m━━━━━━━━━━━━━━━━━━━━━━━━━━━━━━━━━━━━━━\u001b[0m \u001b[32m268.8/268.8 kB\u001b[0m \u001b[31m15.8 MB/s\u001b[0m eta \u001b[36m0:00:00\u001b[0m\n",
            "\u001b[?25hRequirement already satisfied: numpy>=1.17 in /usr/local/lib/python3.10/dist-packages (from transformers) (1.22.4)\n",
            "Requirement already satisfied: packaging>=20.0 in /usr/local/lib/python3.10/dist-packages (from transformers) (23.1)\n",
            "Requirement already satisfied: pyyaml>=5.1 in /usr/local/lib/python3.10/dist-packages (from transformers) (6.0.1)\n",
            "Requirement already satisfied: regex!=2019.12.17 in /usr/local/lib/python3.10/dist-packages (from transformers) (2022.10.31)\n",
            "Requirement already satisfied: requests in /usr/local/lib/python3.10/dist-packages (from transformers) (2.27.1)\n",
            "Collecting tokenizers!=0.11.3,<0.14,>=0.11.1 (from transformers)\n",
            "  Downloading tokenizers-0.13.3-cp310-cp310-manylinux_2_17_x86_64.manylinux2014_x86_64.whl (7.8 MB)\n",
            "\u001b[2K     \u001b[90m━━━━━━━━━━━━━━━━━━━━━━━━━━━━━━━━━━━━━━━━\u001b[0m \u001b[32m7.8/7.8 MB\u001b[0m \u001b[31m41.6 MB/s\u001b[0m eta \u001b[36m0:00:00\u001b[0m\n",
            "\u001b[?25hCollecting safetensors>=0.3.1 (from transformers)\n",
            "  Downloading safetensors-0.3.1-cp310-cp310-manylinux_2_17_x86_64.manylinux2014_x86_64.whl (1.3 MB)\n",
            "\u001b[2K     \u001b[90m━━━━━━━━━━━━━━━━━━━━━━━━━━━━━━━━━━━━━━━━\u001b[0m \u001b[32m1.3/1.3 MB\u001b[0m \u001b[31m41.5 MB/s\u001b[0m eta \u001b[36m0:00:00\u001b[0m\n",
            "\u001b[?25hRequirement already satisfied: tqdm>=4.27 in /usr/local/lib/python3.10/dist-packages (from transformers) (4.65.0)\n",
            "Requirement already satisfied: fsspec in /usr/local/lib/python3.10/dist-packages (from huggingface-hub<1.0,>=0.14.1->transformers) (2023.6.0)\n",
            "Requirement already satisfied: typing-extensions>=3.7.4.3 in /usr/local/lib/python3.10/dist-packages (from huggingface-hub<1.0,>=0.14.1->transformers) (4.7.1)\n",
            "Requirement already satisfied: urllib3<1.27,>=1.21.1 in /usr/local/lib/python3.10/dist-packages (from requests->transformers) (1.26.16)\n",
            "Requirement already satisfied: certifi>=2017.4.17 in /usr/local/lib/python3.10/dist-packages (from requests->transformers) (2023.7.22)\n",
            "Requirement already satisfied: charset-normalizer~=2.0.0 in /usr/local/lib/python3.10/dist-packages (from requests->transformers) (2.0.12)\n",
            "Requirement already satisfied: idna<4,>=2.5 in /usr/local/lib/python3.10/dist-packages (from requests->transformers) (3.4)\n",
            "Installing collected packages: tokenizers, safetensors, huggingface-hub, transformers\n",
            "Successfully installed huggingface-hub-0.16.4 safetensors-0.3.1 tokenizers-0.13.3 transformers-4.31.0\n"
          ]
        }
      ]
    },
    {
      "cell_type": "code",
      "metadata": {
        "id": "M4O7AVSr-GA1"
      },
      "source": [
        "# Reference: https://medium.com/tensorflow/using-tensorflow-2-for-state-of-the-art-natural-language-processing-102445cda54a\n",
        "# Ref: https://huggingface.co/transformers/notebooks.html"
      ],
      "execution_count": 2,
      "outputs": []
    },
    {
      "cell_type": "code",
      "metadata": {
        "id": "BMvKYmV48aHi",
        "outputId": "b95c2e3e-0197-47a7-b5b9-2aa940379b9f",
        "colab": {
          "base_uri": "https://localhost:8080/"
        }
      },
      "source": [
        "%tensorflow_version 2.x\n",
        "import tensorflow as tf\n",
        "print(tf.__version__)"
      ],
      "execution_count": 3,
      "outputs": [
        {
          "output_type": "stream",
          "name": "stdout",
          "text": [
            "Colab only includes TensorFlow 2.x; %tensorflow_version has no effect.\n",
            "2.12.0\n"
          ]
        }
      ]
    },
    {
      "cell_type": "markdown",
      "metadata": {
        "id": "sBkJIsJzBDLb"
      },
      "source": [
        "## Tokenization"
      ]
    },
    {
      "cell_type": "code",
      "metadata": {
        "id": "8aihC2QV6IXk",
        "outputId": "e408bacb-8414-41ea-dadf-6e3e33853d01",
        "colab": {
          "base_uri": "https://localhost:8080/"
        }
      },
      "source": [
        "# Tokenization: map words to ids\n",
        "# Refer: https://colab.research.google.com/github/huggingface/transformers/blob/master/notebooks/01-training-tokenizers.ipynb#scrollTo=LgktNYt7ADPS\n",
        "\n",
        "# simple example\n",
        "s = \"very long corpus...\"\n",
        "words = s.split(\" \")  # Split over space\n",
        "vocabulary = dict(enumerate(set(words)))  # Map storing the word to it's corresponding id\n",
        "\n",
        "print(vocabulary)\n",
        "\n",
        "# Problems: cat(1123) vs cats(1346)"
      ],
      "execution_count": 4,
      "outputs": [
        {
          "output_type": "stream",
          "name": "stdout",
          "text": [
            "{0: 'long', 1: 'very', 2: 'corpus...'}\n"
          ]
        }
      ]
    },
    {
      "cell_type": "markdown",
      "metadata": {
        "id": "XMts2iRpCQ82"
      },
      "source": [
        "### Sub-tokenization\n",
        "\n",
        "- Why? : fast vs faster, cat vs cats\n",
        "- example: cats --**bold text**> [cat, ##s]\n",
        "- Image: https://nlp.fast.ai/images/multifit_vocabularies.png\n",
        "\n",
        "<img src=\"https://nlp.fast.ai/images/multifit_vocabularies.png\" alt=\"Smiley face\" height=\"75%\" width=\"75%\">\n"
      ]
    },
    {
      "cell_type": "markdown",
      "metadata": {
        "id": "GAg56L9zB7QY"
      },
      "source": [
        "\n",
        "\n"
      ]
    },
    {
      "cell_type": "markdown",
      "metadata": {
        "id": "N6JpUezDDLOw"
      },
      "source": [
        "### Tokenization in huggingface\n",
        "**bold text**"
      ]
    },
    {
      "cell_type": "code",
      "metadata": {
        "id": "8ug084UQCbM9",
        "outputId": "95ee9bfa-43aa-4e98-9159-b400e75a58bf",
        "colab": {
          "base_uri": "https://localhost:8080/",
          "height": 113,
          "referenced_widgets": [
            "9effec234075441ca16ea150fca13d94",
            "b44a29cb3ed947a98418d4963d0c8634",
            "c790a57cf15e489c910c0b7d029b9309",
            "f2e9883a18f149f7a10e3f517d17b371",
            "01f1a1bc46c1498da73f7ff9c7f7a707",
            "18c259c23bcc4369899211e2d835e58b",
            "66152fe483404d27a719c9ed068700db",
            "bb349798721d4bed8c42e883fe4ec19e",
            "1461b3c4b82047169203b0351247e6d9",
            "e03049a7ce0e440d949835bcc1fcbef6",
            "56b1c7f2ff594440a517b979adc38d5b",
            "000156e9a6b949829481a5202fb4b170",
            "09a76e3e4bf542d4a5d199fc0e7a931b",
            "05f35beb5b0d4f4da66ea2e84e3fd13d",
            "56193809cd1d44d6868318fa067a1c65",
            "52c9180e8e5c4408989d007563607d3e",
            "3117043f333146cd89ce0407a730b245",
            "51ac9a42687a4ab5b42fc51fe78f4c14",
            "0633f9fb43fb4eabbaf09c37422c1252",
            "71cff6e23af142bd9daf196d74b57c6e",
            "916c32a02b784d66b8278c3b51cfb6c2",
            "0b540c05605344d5a778528adabe93f5",
            "5f27fb71abdc4ed1a0d6e3fbcfd5c8d0",
            "52da06e0634d4ae68611941c0ce62a76",
            "f3d769fa9fa64c2cb1fa4e98719381eb",
            "603f053083e44b0ba94d19c7974ad6b0",
            "476e162731a64b85a7f8d40efbf21eee",
            "3562ba9ee2694c2fa106a2df4670f2bc",
            "91d64d10695e4e62bd9a61797c3aa528",
            "27de25071c5d4f9d86db32964093bcf7",
            "26eeeec14d1c44348df42774f18084ef",
            "dbdfa040fd7242c7a6bade7f2a4030bb",
            "f4c63d051d9745e2a1bd562550ddb7de"
          ]
        }
      },
      "source": [
        "from transformers import BertTokenizer\n",
        "bert_tokenizer = BertTokenizer.from_pretrained(\"bert-base-cased\")"
      ],
      "execution_count": 5,
      "outputs": [
        {
          "output_type": "display_data",
          "data": {
            "text/plain": [
              "Downloading (…)solve/main/vocab.txt:   0%|          | 0.00/213k [00:00<?, ?B/s]"
            ],
            "application/vnd.jupyter.widget-view+json": {
              "version_major": 2,
              "version_minor": 0,
              "model_id": "9effec234075441ca16ea150fca13d94"
            }
          },
          "metadata": {}
        },
        {
          "output_type": "display_data",
          "data": {
            "text/plain": [
              "Downloading (…)okenizer_config.json:   0%|          | 0.00/29.0 [00:00<?, ?B/s]"
            ],
            "application/vnd.jupyter.widget-view+json": {
              "version_major": 2,
              "version_minor": 0,
              "model_id": "000156e9a6b949829481a5202fb4b170"
            }
          },
          "metadata": {}
        },
        {
          "output_type": "display_data",
          "data": {
            "text/plain": [
              "Downloading (…)lve/main/config.json:   0%|          | 0.00/570 [00:00<?, ?B/s]"
            ],
            "application/vnd.jupyter.widget-view+json": {
              "version_major": 2,
              "version_minor": 0,
              "model_id": "5f27fb71abdc4ed1a0d6e3fbcfd5c8d0"
            }
          },
          "metadata": {}
        }
      ]
    },
    {
      "cell_type": "code",
      "metadata": {
        "id": "ipBz-0-3p8c6",
        "outputId": "e89decf6-71b3-4a14-dc5b-d8718653941f",
        "colab": {
          "base_uri": "https://localhost:8080/"
        }
      },
      "source": [
        "# Refer BERT architecture from the previous videos in the course.\n",
        "\n",
        "#https://huggingface.co/transformers/main_classes/tokenizer.html\n",
        "print(bert_tokenizer.cls_token)"
      ],
      "execution_count": 6,
      "outputs": [
        {
          "output_type": "stream",
          "name": "stdout",
          "text": [
            "[CLS]\n"
          ]
        }
      ]
    },
    {
      "cell_type": "code",
      "metadata": {
        "id": "S6oLFVcu8iAK",
        "outputId": "81ed6ba0-7c0d-44b5-8f7f-60e070926235",
        "colab": {
          "base_uri": "https://localhost:8080/"
        }
      },
      "source": [
        "enc = bert_tokenizer.encode(\"Hi, I am James bond !\")\n",
        "print(enc)\n",
        "\n",
        "print(bert_tokenizer.decode(enc))"
      ],
      "execution_count": 7,
      "outputs": [
        {
          "output_type": "stream",
          "name": "stdout",
          "text": [
            "[101, 8790, 117, 146, 1821, 1600, 7069, 106, 102]\n",
            "[CLS] Hi, I am James bond! [SEP]\n"
          ]
        }
      ]
    },
    {
      "cell_type": "code",
      "metadata": {
        "id": "vkaeZATw9DpI",
        "outputId": "d993edbc-6449-4902-a265-d270e71825d2",
        "colab": {
          "base_uri": "https://localhost:8080/"
        }
      },
      "source": [
        "print(bert_tokenizer.decode([117]))\n",
        "print(bert_tokenizer.decode([106]))"
      ],
      "execution_count": 8,
      "outputs": [
        {
          "output_type": "stream",
          "name": "stdout",
          "text": [
            ",\n",
            "!\n"
          ]
        }
      ]
    },
    {
      "cell_type": "code",
      "metadata": {
        "id": "k2qSy-ZB9ZOT",
        "outputId": "573ab6c3-88ae-4a0e-d355-aa023eb553db",
        "colab": {
          "base_uri": "https://localhost:8080/"
        }
      },
      "source": [
        "enc = bert_tokenizer.encode(\"I see many cats and dogs\")\n",
        "print(enc)\n",
        "\n",
        "print(bert_tokenizer.decode(enc))"
      ],
      "execution_count": 9,
      "outputs": [
        {
          "output_type": "stream",
          "name": "stdout",
          "text": [
            "[101, 146, 1267, 1242, 11771, 1105, 6363, 102]\n",
            "[CLS] I see many cats and dogs [SEP]\n"
          ]
        }
      ]
    },
    {
      "cell_type": "markdown",
      "metadata": {
        "id": "SPtLW4caAOo4"
      },
      "source": []
    },
    {
      "cell_type": "markdown",
      "metadata": {
        "id": "FK31Jni1-d5b"
      },
      "source": [
        "## BERT Models\n",
        "- DistillBERT\n",
        "- RoBERTa\n",
        "- https://miro.medium.com/max/2000/1*IFVX74cEe8U5D1GveL1uZA.png\n",
        "<img src=\"https://miro.medium.com/max/2000/1*IFVX74cEe8U5D1GveL1uZA.png \" alt=\"Smiley face\" height=\"75%\" width=\"75%\">\n",
        "\n",
        "- https://miro.medium.com/max/1400/1*bSUO_Qib4te1xQmBlQjWaw.png\n",
        "<img src=\"https://miro.medium.com/max/1400/1*bSUO_Qib4te1xQmBlQjWaw.png \" alt=\"Smiley face\" height=\"75%\" width=\"75%\">\n",
        "\n",
        "- General Language Understanding Evaluation (GLUE)  : https://gluebenchmark.com/\n"
      ]
    },
    {
      "cell_type": "code",
      "metadata": {
        "id": "OOLvZ1um-nLV",
        "outputId": "9c92c653-8337-49af-927d-784db18fceaa",
        "colab": {
          "base_uri": "https://localhost:8080/",
          "height": 252,
          "referenced_widgets": [
            "0268e075c4b94bd5bd79dd8b4c26bf2e",
            "c861e4eaebe74c589d8930837d0d54eb",
            "b92553c7936c4c1c86d4449d7ee3fa1c",
            "9319678cc28f4b27ae6eb0f8249f45a2",
            "32a7de57b8a340a1bdf44cc38b85080d",
            "5a920647a8354e1d9ba6e23828b3634e",
            "b7a01f777461471389c4a05e2fa4fd78",
            "f335a42a6e04415f855e3ff50881bae8",
            "e278f2143f3e4916b273208dc7413a3d",
            "9676c68a1ed241149b0eac72b3cfe322",
            "82e33d9ab904499f819a03a283d22793",
            "17ebcfc588324625bd1f8d73bcaf229a",
            "48597c10db4f422aa51fc2ab7873ec0a",
            "ba2cdb4321014290ad0fc3b156aaa215",
            "648ed56304cd4181bfb3f4b2cfd387fb",
            "3e6a9be1429e44dca50747f2892f15f8",
            "6cec0bd5d6184dc68f30673e584d2707",
            "172dc6577fac4c3184e3ca01bf278cef",
            "5095b3ad1a1d4c42947f064e30df21a0",
            "6ad40917687e4ab4abebe923353f824e",
            "cd2ab6ddcf2642c281bc7084e335d4c3",
            "cfc53b284abb4fe789af6f04015b6b20",
            "d86dcfe250404c42a8d0a19489a351f7",
            "c182a57b8e7f4f90a47306c92ae2107b",
            "4e358463163848fdb60ae61415fdfefe",
            "c322ec50fa7147fabddca56a0190657a",
            "4bca14edc88c49bca227841825b70fac",
            "6309224657894bfb8aeecda17499f671",
            "54735103d5e74c8097a82201b7755a44",
            "119475bcc3f24125b66b0a5141c43636",
            "40aca2f98bd747ddbf6a1305a72b1fd2",
            "e2e1d331c7844d1ebb118502cc3bb9b2",
            "98d5682dd5a644a68c165b5caa081fd6",
            "13c5d9fe1c5243c08c2800ddfdb3ad2c",
            "6034f955c05249a5ade5b47f09221721",
            "76de673822a1492f93c9c27c606e1674",
            "1aa0ab15b2aa40b2b16252b9405edb86",
            "33def5d47a9d405e90e5ecafcc087cc7",
            "c85856b75ed1493d9c9d050ed7484cb4",
            "1c84d3decfca4a46852931dd362e6d5b",
            "5d627a6d40494a448109decad6e95578",
            "4b07e40cbe524db0afd0e180c59d8b1c",
            "f68d6fcd1bb743e58aac5abd86d22ad2",
            "0cb6e5f3948b4d74aa5fe536e09180c8"
          ]
        }
      },
      "source": [
        "import tensorflow as tf\n",
        "\n",
        "# Refer: https://huggingface.co/transformers/model_doc/distilbert.html#\n",
        "\n",
        "from transformers import DistilBertTokenizer, TFDistilBertModel\n",
        "\n",
        "distil_bert = 'distilbert-base-uncased' # Name of the pretrained models\n",
        "\n",
        "#DistilBERT\n",
        "tokenizer = DistilBertTokenizer.from_pretrained(distil_bert)\n",
        "model = TFDistilBertModel.from_pretrained(distil_bert)"
      ],
      "execution_count": 10,
      "outputs": [
        {
          "output_type": "display_data",
          "data": {
            "text/plain": [
              "Downloading (…)solve/main/vocab.txt:   0%|          | 0.00/232k [00:00<?, ?B/s]"
            ],
            "application/vnd.jupyter.widget-view+json": {
              "version_major": 2,
              "version_minor": 0,
              "model_id": "0268e075c4b94bd5bd79dd8b4c26bf2e"
            }
          },
          "metadata": {}
        },
        {
          "output_type": "display_data",
          "data": {
            "text/plain": [
              "Downloading (…)okenizer_config.json:   0%|          | 0.00/28.0 [00:00<?, ?B/s]"
            ],
            "application/vnd.jupyter.widget-view+json": {
              "version_major": 2,
              "version_minor": 0,
              "model_id": "17ebcfc588324625bd1f8d73bcaf229a"
            }
          },
          "metadata": {}
        },
        {
          "output_type": "display_data",
          "data": {
            "text/plain": [
              "Downloading (…)lve/main/config.json:   0%|          | 0.00/483 [00:00<?, ?B/s]"
            ],
            "application/vnd.jupyter.widget-view+json": {
              "version_major": 2,
              "version_minor": 0,
              "model_id": "d86dcfe250404c42a8d0a19489a351f7"
            }
          },
          "metadata": {}
        },
        {
          "output_type": "display_data",
          "data": {
            "text/plain": [
              "Downloading model.safetensors:   0%|          | 0.00/268M [00:00<?, ?B/s]"
            ],
            "application/vnd.jupyter.widget-view+json": {
              "version_major": 2,
              "version_minor": 0,
              "model_id": "13c5d9fe1c5243c08c2800ddfdb3ad2c"
            }
          },
          "metadata": {}
        },
        {
          "output_type": "stream",
          "name": "stderr",
          "text": [
            "Some weights of the PyTorch model were not used when initializing the TF 2.0 model TFDistilBertModel: ['vocab_projector.bias', 'vocab_transform.bias', 'vocab_layer_norm.bias', 'vocab_layer_norm.weight', 'vocab_transform.weight']\n",
            "- This IS expected if you are initializing TFDistilBertModel from a PyTorch model trained on another task or with another architecture (e.g. initializing a TFBertForSequenceClassification model from a BertForPreTraining model).\n",
            "- This IS NOT expected if you are initializing TFDistilBertModel from a PyTorch model that you expect to be exactly identical (e.g. initializing a TFBertForSequenceClassification model from a BertForSequenceClassification model).\n",
            "All the weights of TFDistilBertModel were initialized from the PyTorch model.\n",
            "If your task is similar to the task the model of the checkpoint was trained on, you can already use TFDistilBertModel for predictions without further training.\n"
          ]
        }
      ]
    },
    {
      "cell_type": "markdown",
      "metadata": {
        "id": "YIKTHZgYozXV"
      },
      "source": [
        "### Extract features using BERT"
      ]
    },
    {
      "cell_type": "code",
      "metadata": {
        "id": "uGyAieE8JI1F",
        "outputId": "4cadb2d9-76a7-4813-f452-324c68540087",
        "colab": {
          "base_uri": "https://localhost:8080/"
        }
      },
      "source": [
        "# obtain the 768-dim vector correpsoding to [CLS] which is a sentence vector\n",
        "\n",
        "e = tokenizer.encode(\"Hello, my dog is cute\")\n",
        "print(e)\n",
        "\n",
        "input = tf.constant(e)[None, :]  # Batch size 1\n",
        "print(input)\n",
        "print(type(input)) # shape: [1,8]\n",
        "\n",
        "output = model(input)\n",
        "\n",
        "print(type(output))\n",
        "print(len(output))\n",
        "print(output) #shape[1,8,768]"
      ],
      "execution_count": 11,
      "outputs": [
        {
          "output_type": "stream",
          "name": "stdout",
          "text": [
            "[101, 7592, 1010, 2026, 3899, 2003, 10140, 102]\n",
            "tf.Tensor([[  101  7592  1010  2026  3899  2003 10140   102]], shape=(1, 8), dtype=int32)\n",
            "<class 'tensorflow.python.framework.ops.EagerTensor'>\n",
            "<class 'transformers.modeling_tf_outputs.TFBaseModelOutput'>\n",
            "1\n",
            "TFBaseModelOutput(last_hidden_state=<tf.Tensor: shape=(1, 8, 768), dtype=float32, numpy=\n",
            "array([[[-1.8296382e-01, -7.4054182e-02,  5.0267622e-02, ...,\n",
            "         -1.1260702e-01,  4.4493088e-01,  4.0941316e-01],\n",
            "        [ 7.0649944e-04,  1.4825346e-01,  3.4328276e-01, ...,\n",
            "         -8.6039737e-02,  6.9474745e-01,  4.3352664e-02],\n",
            "        [-5.0720561e-01,  5.3085524e-01,  3.7162632e-01, ...,\n",
            "         -5.6287485e-01,  1.3755700e-01,  2.8475225e-01],\n",
            "        ...,\n",
            "        [-4.2251298e-01,  5.7314806e-02,  2.4338327e-01, ...,\n",
            "         -1.5222709e-01,  2.4462473e-01,  6.4154845e-01],\n",
            "        [-4.9384439e-01, -1.8895467e-01,  1.2640776e-01, ...,\n",
            "          6.3240372e-02,  3.6912853e-01, -5.8251858e-02],\n",
            "        [ 8.3268678e-01,  2.4948205e-01, -4.5439535e-01, ...,\n",
            "          1.1997542e-01, -3.9257339e-01, -2.7785397e-01]]], dtype=float32)>, hidden_states=None, attentions=None)\n"
          ]
        }
      ]
    },
    {
      "cell_type": "code",
      "metadata": {
        "id": "ZO0dlA-hMXay",
        "colab": {
          "base_uri": "https://localhost:8080/"
        },
        "outputId": "49939021-d485-438b-f27e-14dd3b927cd6"
      },
      "source": [
        "#[CLS] corresponding vector\n",
        "print((output[0])[0,0,:])  # shape: 768 dim vector"
      ],
      "execution_count": 15,
      "outputs": [
        {
          "output_type": "stream",
          "name": "stdout",
          "text": [
            "tf.Tensor(\n",
            "[-1.82963818e-01 -7.40541816e-02  5.02676219e-02 -3.49530548e-01\n",
            " -7.28534237e-02 -2.63872594e-01  2.39293426e-01  4.79841977e-01\n",
            " -2.14802399e-01 -1.89516395e-01  8.99827331e-02 -1.29188925e-01\n",
            " -1.11275904e-01  3.16634476e-01 -8.25904980e-02  9.26223472e-02\n",
            " -2.09082663e-02  4.74876285e-01  1.28833607e-01  3.18705849e-03\n",
            " -1.53505579e-01 -3.57002020e-01  9.89440829e-04 -3.92741710e-03\n",
            "  1.38443653e-02 -5.49407899e-02  8.45261216e-02  1.36564314e-01\n",
            "  2.18252182e-01 -1.96798742e-01  2.47996002e-02  1.75569162e-01\n",
            " -3.97216827e-02 -1.10777177e-01  5.48523962e-02  6.07529357e-02\n",
            "  1.71999857e-02 -1.07415296e-01 -8.76945630e-02  2.12041959e-01\n",
            " -4.05892432e-02 -3.17956284e-02  1.37657210e-01 -1.39004573e-01\n",
            " -4.68880683e-03 -3.97633344e-01 -2.60034609e+00 -1.08741626e-01\n",
            "  4.86708581e-02 -3.61387730e-01  3.71814281e-01 -7.61095956e-02\n",
            "  3.23911943e-02  2.31666535e-01  2.63016015e-01  3.18299532e-01\n",
            " -3.87970865e-01  2.98110932e-01 -4.93030883e-02 -3.59302163e-02\n",
            "  1.58540606e-01  6.64182007e-02 -1.98168218e-01  2.01571882e-02\n",
            " -3.06719363e-01  2.75268376e-01 -5.75723425e-02  1.99012280e-01\n",
            " -1.81322545e-01  5.15817404e-01 -2.86955759e-02 -1.18355863e-01\n",
            "  1.32884204e-01 -7.50625655e-02  1.13557078e-01 -4.68251295e-02\n",
            "  1.44347791e-02  2.31869847e-01 -1.80278182e-01  2.84715086e-01\n",
            " -1.01262599e-01  2.02373579e-01  4.91597950e-01  2.72795588e-01\n",
            "  4.77180630e-02  1.66064203e-01 -2.38973856e-01 -9.58861858e-02\n",
            "  2.39367634e-01  3.80263746e-01 -2.34181598e-01 -1.66364819e-01\n",
            " -4.13461514e-02  2.57076025e-01  4.31303799e-01 -3.15999568e-01\n",
            " -7.02398792e-02  1.14386365e-01  2.16973141e-01  1.96187228e-01\n",
            "  8.51505622e-02 -1.42221555e-01  2.56942838e-01 -2.17944890e-01\n",
            " -6.99590147e-03 -2.12191612e-01  1.43578291e-01 -4.75275367e-01\n",
            "  5.17551042e-02 -2.40377760e+00  2.53657460e-01  9.18115005e-02\n",
            " -9.21667516e-02 -4.41745520e-01 -5.84074110e-02  6.90732181e-01\n",
            "  4.17964727e-01 -8.59400816e-03 -1.34421632e-01  5.17783388e-02\n",
            " -1.08743973e-01  8.65205601e-02 -1.71955749e-02 -3.32326353e-01\n",
            "  1.51767135e-01  3.29324931e-01 -6.66766316e-02 -9.02034193e-02\n",
            "  2.35938758e-01  2.36410782e-01  3.33305061e-01  4.67729896e-01\n",
            "  4.28325385e-02 -1.42506093e-01 -1.08116314e-01  2.27771252e-01\n",
            "  2.94073462e-01 -1.39985159e-01 -1.00884572e-01 -4.09705006e-03\n",
            " -2.31504887e-01  1.21926464e-01 -2.90576839e+00  2.96339691e-01\n",
            "  4.99315202e-01  6.20900020e-02 -2.88699180e-01  5.02857715e-02\n",
            "  5.06074727e-03  1.55305833e-01  7.64143169e-02  1.15471371e-01\n",
            " -2.38395527e-01  4.13822196e-02 -3.14426422e-01  4.59132679e-02\n",
            " -3.75107288e-01  5.39003089e-02  2.24994898e-01  2.77922809e-01\n",
            "  1.78462297e-01 -9.54104960e-02 -1.94173276e-01  6.76060915e-02\n",
            " -1.60752311e-01  2.29953930e-01  5.06648600e-01  7.67757520e-02\n",
            "  4.87567335e-02  4.56531718e-02 -3.77923697e-02  3.41984704e-02\n",
            "  4.74492311e-01  2.37052105e-02  2.66929835e-01 -5.50253391e-02\n",
            "  3.91381919e-01  8.17276016e-02 -1.15859270e-01 -1.70160607e-01\n",
            " -5.73056638e-02  1.40599117e-01  1.23220861e-01  1.65379643e-01\n",
            "  9.10499841e-02 -1.43807735e-02  3.66103709e-01 -1.63923785e-01\n",
            " -8.08841288e-02  2.59248048e-01  2.10392550e-02 -2.05531597e-01\n",
            "  1.09672956e-01  1.14643849e-01  3.32335651e-01  7.59404600e-02\n",
            "  1.22674629e-01 -5.73982000e-01  1.60009563e-01  6.82831258e-02\n",
            " -1.73094362e-01 -1.99944377e-01  1.59826636e-01  2.52872199e-01\n",
            " -1.70129091e-01  3.64887643e+00 -1.38967842e-01  3.33110839e-02\n",
            "  1.82072669e-01  2.70485997e-01 -1.21637911e-01  1.05418414e-01\n",
            "  1.55249611e-03 -1.30047128e-02  3.18015441e-02  5.77494428e-02\n",
            "  3.96896660e-01 -6.14843145e-02 -1.15160033e-01 -1.08272612e-01\n",
            "  2.36327350e-02  1.32242545e-01 -3.08492422e-01  1.41128674e-01\n",
            "  1.90405473e-02  1.97923481e-01  2.07062572e-01  2.50906825e-01\n",
            "  5.68699017e-02 -1.19319987e+00  9.20889601e-02 -2.82067120e-01\n",
            " -2.16927174e-02  2.61803150e-01 -3.48175615e-01  1.96770150e-02\n",
            "  1.83203518e-01 -1.95326984e-01  2.11400241e-01  8.50237012e-02\n",
            " -1.28696784e-01  3.18605632e-01  2.86378205e-01  1.88539907e-01\n",
            " -2.98404068e-01  2.20937461e-01  1.31015703e-01 -1.02819875e-02\n",
            " -2.68583335e-02 -8.13293457e-02  2.68621266e-01 -1.62331432e-01\n",
            "  1.27714381e-01 -2.98873723e-01  7.01926649e-02 -4.89650257e-02\n",
            "  3.95199656e-02  2.76600450e-01 -3.53134602e-01 -2.21711680e-01\n",
            " -1.68480217e-01 -1.10793665e-01  2.35944375e-01  4.53582928e-02\n",
            " -4.02560562e-01  4.27888483e-02  7.54595175e-02 -2.55470932e-01\n",
            "  9.60169137e-02 -1.43930882e-01 -8.94933492e-02 -7.46150538e-02\n",
            " -3.30272496e-01 -3.46625161e+00  1.24227162e-02 -1.36048988e-01\n",
            "  3.26259851e-01  2.83859283e-01 -2.74548419e-02 -1.36380702e-01\n",
            "  1.31228089e-01  3.47973377e-01 -6.24993205e-01  3.13480079e-01\n",
            "  1.04718037e-01 -6.62787408e-02  1.48699164e-01 -3.66201967e-01\n",
            "  1.69892520e-01  1.43028926e-02 -1.90093383e-01 -5.20564020e-02\n",
            " -1.67159215e-01  8.08381438e-02  1.35975838e-01 -1.30081505e-01\n",
            "  3.54058981e-01  3.65889445e-02 -3.24270278e-02 -1.42222583e-01\n",
            " -1.36649907e-01 -6.62393719e-02 -4.30208221e-02 -1.54817663e-02\n",
            " -2.47256532e-01  2.64774680e-01 -1.90627575e-01 -5.61647773e-01\n",
            " -2.63370395e+00 -6.13705441e-02  7.83846807e-03 -2.00945288e-01\n",
            "  5.77971637e-02 -7.98274949e-02  3.88861030e-01 -1.92674041e-01\n",
            " -1.52788028e-01  2.18082190e-01  1.38541758e-01  5.15478700e-02\n",
            "  5.93836904e-02 -3.63188460e-02  2.52486140e-01 -1.68904364e-01\n",
            "  3.03935796e-01 -2.93073565e-01  9.53446403e-02  2.13944525e-01\n",
            "  7.78932869e-02  6.87417537e-02 -4.60772812e-02 -4.81725670e-02\n",
            "  1.31043985e-01  4.89196777e-01 -2.47310907e-01 -1.25176787e-01\n",
            " -2.68888950e-01  1.69904064e-02  3.04139182e-02 -2.75137663e-01\n",
            "  9.71507281e-02 -5.26916459e-02 -2.99963415e-01 -1.53514028e-01\n",
            "  1.30863398e-01  1.34220153e-01  3.82058561e-01  8.38406980e-02\n",
            "  6.31516054e-02  4.47511345e-01  1.67282760e-01 -7.88356364e-03\n",
            "  4.77932632e-01  8.44853297e-02 -3.11315432e-02 -2.30320141e-01\n",
            " -7.93987140e-02  1.05453484e-01 -6.53299540e-02  1.43372446e-01\n",
            "  1.18262136e+00 -4.21138331e-02  3.34063888e-01 -7.57573247e-02\n",
            "  3.29937637e-01  9.94220003e-02  6.47705719e-02  4.58274037e-03\n",
            "  4.66040403e-01 -5.74504957e-02  8.35536867e-02 -7.57399946e-02\n",
            "  2.60543376e-02 -3.39902043e-01  2.42830757e-02 -4.51532036e-01\n",
            " -1.08395621e-01  1.43879443e-01 -6.19265251e-04  2.22204681e-02\n",
            " -1.85182050e-01 -9.67315853e-01 -2.76358098e-01  2.32633665e-01\n",
            " -2.04712421e-01 -8.55463445e-02 -1.02017820e-01  3.67731750e-02\n",
            " -2.87895560e-01 -2.69007295e-01 -6.31037951e-02  4.66198474e-01\n",
            " -4.17007178e-01 -1.28478453e-01 -2.35913575e-01 -6.02072626e-02\n",
            " -3.66599023e-01  3.29859927e-02 -1.72639847e-01  1.16484202e-01\n",
            " -5.45548275e-02  2.00879484e-01  8.09611529e-02  6.14779443e-02\n",
            "  2.20725179e-01 -7.03784049e-01  1.63218260e-01 -2.42775947e-01\n",
            "  2.94259787e-02 -3.64929512e-02 -1.15544513e-01  1.19456641e-01\n",
            " -2.35306975e-02 -8.58266354e-02 -2.42628932e-01  3.13685566e-01\n",
            "  5.36966808e-02  2.81631023e-01 -1.55662283e-01 -3.08807880e-01\n",
            " -1.67348519e-01  1.49587467e-01  1.02405643e+00 -5.33011332e-02\n",
            "  2.61224117e-02  4.29241478e-01 -1.19602866e-02  3.26767832e-01\n",
            "  2.23125413e-01  1.57707796e-01 -2.33969793e-01 -3.87820788e-02\n",
            " -8.93774182e-02 -8.95165429e-02 -1.58063080e-02 -2.76408672e-01\n",
            " -2.30500296e-01  5.20573966e-02  2.42815688e-01 -1.51060615e-03\n",
            " -3.67174476e-01 -5.44695139e-01  1.83679163e-01 -2.98035592e-01\n",
            " -3.45235556e-01 -1.07845843e-01  3.23618919e-01  3.10014561e-02\n",
            "  1.72840714e-01  1.98269829e-01 -1.32516533e-01  3.18925530e-01\n",
            " -1.70469999e-01  4.16734666e-01 -1.78098604e-02 -5.34225218e-02\n",
            " -2.10132226e-02  1.33843869e-01 -1.26934290e-01 -3.35949063e-01\n",
            "  6.02968186e-02 -3.20586085e-01  2.28375539e-01  1.57170713e-01\n",
            "  1.07503362e-01  4.52578664e-02 -1.44067973e-01  1.25557080e-01\n",
            "  1.17120437e-01  3.68681736e-02 -1.44092906e+00  4.55319583e-01\n",
            "  2.65812315e-03  6.85981363e-02  1.79716513e-01 -5.60318977e-02\n",
            " -6.82103261e-02  2.66576767e-01  2.44327605e-01  1.17831491e-01\n",
            " -7.86483139e-02  1.50259539e-01 -1.98004499e-01  2.23426856e-02\n",
            "  5.40101975e-02 -6.52764887e-02  8.17406625e-02 -1.52527601e-01\n",
            " -2.41480544e-02 -3.05540841e-02  1.89117379e-02  3.25062990e-01\n",
            "  1.07241735e-01  2.36948766e-02  5.40228002e-02 -6.59272075e-02\n",
            "  1.45881847e-01  1.73729807e-01  3.97379622e-02  3.04216743e-01\n",
            "  2.57305577e-02 -2.33873799e-01 -7.23413587e-01 -2.36845508e-01\n",
            "  2.15696782e-01 -9.78179052e-02 -1.07708462e-02 -5.42446375e-02\n",
            "  1.60678253e-02  1.34032220e-01 -4.90797848e-01  2.40850806e-01\n",
            "  1.25754774e-01 -1.04106620e-01  5.20355642e-01  1.66526675e-01\n",
            " -1.65266216e-01  2.95299172e-01  1.62014607e-02 -2.91153014e-01\n",
            "  1.46822616e-01 -1.80529863e-01 -3.49399187e-02 -1.96046501e-01\n",
            " -7.65514560e-05 -1.21094510e-01 -8.96754861e-02  5.56595623e-02\n",
            " -3.61945987e-01 -1.90507695e-02  3.58557940e-01 -2.30404034e-01\n",
            " -3.64994109e-01  8.36467147e-02 -3.69088143e-01 -4.55816746e-01\n",
            " -2.51596212e-01 -2.95682490e-01  6.57209381e-02 -9.50317457e-02\n",
            "  4.98333126e-01  1.02290019e-01 -2.63921261e-01  2.01748699e-01\n",
            " -2.99779445e-01  1.08137041e-01  7.19922632e-02  3.94287646e-01\n",
            "  3.48317325e-01 -1.83384642e-01  1.04481302e-01 -3.31908524e-01\n",
            " -3.20174128e-01  3.27167541e-01 -1.68593556e-01  1.33825973e-01\n",
            " -2.06089914e-02  6.99827820e-02 -2.75660679e-02  1.54763848e-01\n",
            " -1.75365523e-01 -1.56792134e-01 -4.90046218e-02 -5.61798960e-02\n",
            " -2.34200031e-01  2.16859370e-01  5.50555587e-02 -1.01618625e-01\n",
            " -1.43520236e-01 -1.09907858e-01 -1.85715526e-01  4.40243453e-01\n",
            "  2.83944875e-01  1.27737746e-01  3.48630771e-02  1.28399909e-01\n",
            "  1.25560150e-01  1.79128557e-01 -3.51551920e-01 -1.79564208e-01\n",
            "  1.27473190e-01 -5.33760786e-02 -6.86722100e-02  9.85205080e-03\n",
            "  6.14891276e-02 -1.57977641e-01 -2.51014978e-01 -2.38530308e-01\n",
            "  1.99463832e+00  5.30797720e-01 -3.62980701e-02 -1.19774491e-01\n",
            "  3.54485214e-01 -1.36348531e-01 -1.06468253e-01  1.90662265e-01\n",
            " -1.81350559e-01  4.38783109e-01 -1.52347013e-01  2.97309935e-01\n",
            "  4.85181250e-03  1.84560582e-01  5.39814115e-01  2.61829138e-01\n",
            "  2.01008067e-01 -7.66813010e-02 -6.73805296e-01 -1.22319564e-01\n",
            " -3.35514754e-01  1.67748272e-01  3.59637141e-01 -1.95420347e-02\n",
            " -8.59109610e-02  1.83776960e-01  8.31620693e-02 -2.20169351e-02\n",
            " -1.09846249e-01  3.16786438e-01 -1.39384985e-01 -2.47808639e-02\n",
            "  1.76724032e-01  3.52304429e-01 -1.92155331e-01  1.35768354e-01\n",
            "  1.40878513e-01 -3.26478183e-01 -3.32516938e-01  2.78261416e-02\n",
            "  6.72174022e-02 -4.32632208e-01  2.43450254e-01  1.65119573e-01\n",
            " -1.40644446e-01  4.77837831e-01 -1.96698010e-01 -1.46622807e-01\n",
            "  4.71871614e-01  3.83241326e-01 -2.47310594e-01 -1.77689105e-01\n",
            " -2.20501378e-01  2.84740180e-01  5.84801510e-02 -3.75218317e-02\n",
            " -1.52475424e-02 -1.88273132e-01 -8.67711380e-02  2.55617112e-01\n",
            " -2.63450921e-01  2.89569855e-01  1.39412388e-01  7.61569291e-02\n",
            "  3.36094648e-01  6.99163079e-02 -3.14997524e-01  1.18950821e-01\n",
            "  2.26661310e-01 -3.60732883e-01 -5.41487709e-04  5.06484270e-01\n",
            "  2.20257804e-01  4.64702845e-02  1.89109460e-01  8.76349583e-02\n",
            "  2.78845936e-01 -1.29932150e-01 -1.64784580e-01 -2.74102402e+00\n",
            "  1.67531781e-02  1.83711313e-02  6.84273690e-02  1.71559229e-01\n",
            "  3.03114623e-01  3.01917791e-01  4.01072279e-02  2.54131734e-01\n",
            " -3.53496447e-02  2.71483958e-01  1.81621701e-01  4.48273003e-01\n",
            "  3.20000127e-02  4.39897180e-01 -5.78283221e-02  3.16759944e-01\n",
            " -1.94126114e-01 -2.04067126e-01 -4.19521965e-02 -2.94577107e-02\n",
            "  8.93059000e-02  2.27591246e-01 -3.44705015e-01 -4.46881086e-01\n",
            "  1.86224058e-01 -1.47318840e-01 -2.28073925e-01 -9.07055140e-02\n",
            "  1.94504187e-02 -1.23446167e-01  4.36208427e-01 -3.18929672e-01\n",
            " -1.00711454e-02 -4.69478816e-02 -7.06076771e-02 -2.75076419e-01\n",
            " -1.39117129e-02  1.31018728e-01  2.14773074e-01 -1.57195970e-01\n",
            "  5.24374068e-01  3.01647466e-03  2.12967142e-01  5.55364508e-03\n",
            "  4.07889411e-02  2.34339178e-01 -6.88108802e-02  2.27949098e-01\n",
            " -1.57655597e-01 -7.67241269e-02  6.78141564e-02  3.18949282e-01\n",
            "  1.98623434e-01  8.12999979e-02  1.77703619e-01 -3.74074280e-03\n",
            " -5.91548719e-03 -1.41102225e-02 -5.09403706e-01 -1.06277160e-01\n",
            "  2.34553933e-01 -1.86713915e-02  1.10223897e-01  2.10318178e-01\n",
            " -7.98710585e-02 -8.10480863e-02  3.20950896e-03 -1.42225638e-01\n",
            " -2.60842502e-01 -3.67441773e-01 -1.90868042e-02  4.14406270e-01\n",
            "  1.01791419e-01  1.76623762e-02 -9.82005075e-02  4.08166081e-01\n",
            "  2.69283235e-01  2.51792371e-02  3.05708349e-01 -1.29841357e-01\n",
            "  3.09762731e-03 -2.47817058e-02 -1.44122109e-01  1.71705529e-01\n",
            " -7.39391565e+00 -8.13182667e-02  2.41188928e-02 -2.42935985e-01\n",
            " -2.46015742e-01 -4.92817432e-01 -1.13992311e-01 -3.30207974e-01\n",
            "  1.46629319e-01 -1.87318966e-01  2.01923326e-01 -4.60678823e-02\n",
            " -2.09270746e-01 -1.12607017e-01  4.44930881e-01  4.09413159e-01], shape=(768,), dtype=float32)\n"
          ]
        }
      ]
    },
    {
      "cell_type": "code",
      "metadata": {
        "id": "kQTWhdSoOJMH",
        "colab": {
          "base_uri": "https://localhost:8080/"
        },
        "outputId": "76753502-a873-4976-b6fd-8a5dcfc59847"
      },
      "source": [
        "# How about hidden layer outputs\n",
        "\n",
        "#https://huggingface.co/transformers/model_doc/distilbert.html#distilbertconfig\n",
        "from transformers import  DistilBertConfig\n",
        "\n",
        "config = DistilBertConfig.from_pretrained(distil_bert, output_hidden_states=True)\n",
        "\n",
        "\n",
        "e = tokenizer.encode(\"Hello, my dog is cute\")\n",
        "input = tf.constant(e)[None, :]  # Batch size 1\n",
        "model = TFDistilBertModel.from_pretrained(distil_bert, config=config)\n",
        "print(model.config) # Every model has a config file"
      ],
      "execution_count": 16,
      "outputs": [
        {
          "output_type": "stream",
          "name": "stderr",
          "text": [
            "Some weights of the PyTorch model were not used when initializing the TF 2.0 model TFDistilBertModel: ['vocab_projector.bias', 'vocab_transform.bias', 'vocab_layer_norm.bias', 'vocab_layer_norm.weight', 'vocab_transform.weight']\n",
            "- This IS expected if you are initializing TFDistilBertModel from a PyTorch model trained on another task or with another architecture (e.g. initializing a TFBertForSequenceClassification model from a BertForPreTraining model).\n",
            "- This IS NOT expected if you are initializing TFDistilBertModel from a PyTorch model that you expect to be exactly identical (e.g. initializing a TFBertForSequenceClassification model from a BertForSequenceClassification model).\n",
            "All the weights of TFDistilBertModel were initialized from the PyTorch model.\n",
            "If your task is similar to the task the model of the checkpoint was trained on, you can already use TFDistilBertModel for predictions without further training.\n"
          ]
        },
        {
          "output_type": "stream",
          "name": "stdout",
          "text": [
            "DistilBertConfig {\n",
            "  \"_name_or_path\": \"distilbert-base-uncased\",\n",
            "  \"activation\": \"gelu\",\n",
            "  \"architectures\": [\n",
            "    \"DistilBertForMaskedLM\"\n",
            "  ],\n",
            "  \"attention_dropout\": 0.1,\n",
            "  \"dim\": 768,\n",
            "  \"dropout\": 0.1,\n",
            "  \"hidden_dim\": 3072,\n",
            "  \"initializer_range\": 0.02,\n",
            "  \"max_position_embeddings\": 512,\n",
            "  \"model_type\": \"distilbert\",\n",
            "  \"n_heads\": 12,\n",
            "  \"n_layers\": 6,\n",
            "  \"output_hidden_states\": true,\n",
            "  \"pad_token_id\": 0,\n",
            "  \"qa_dropout\": 0.1,\n",
            "  \"seq_classif_dropout\": 0.2,\n",
            "  \"sinusoidal_pos_embds\": false,\n",
            "  \"tie_weights_\": true,\n",
            "  \"transformers_version\": \"4.31.0\",\n",
            "  \"vocab_size\": 30522\n",
            "}\n",
            "\n"
          ]
        }
      ]
    },
    {
      "cell_type": "markdown",
      "source": [
        "Since we have set the show hidden states = true therefore we will get the hidden states in the first index of the output.\n",
        "We can access the ith hidden layer through output[0][i] and if we want to access the first word of the first sentence we can use the output[0][i][0,0,:].\n",
        "\n",
        "- 0th sentence\n",
        "- 0th word\n",
        "- : all values"
      ],
      "metadata": {
        "id": "Bv1LOCVt3azY"
      }
    },
    {
      "cell_type": "code",
      "metadata": {
        "id": "36Ot-PcHQLsA",
        "colab": {
          "base_uri": "https://localhost:8080/"
        },
        "outputId": "6660d8a9-bedd-4e59-cf75-2299311c78b2"
      },
      "source": [
        "output = model(input)\n",
        "print(len(output))"
      ],
      "execution_count": 17,
      "outputs": [
        {
          "output_type": "stream",
          "name": "stdout",
          "text": [
            "2\n"
          ]
        }
      ]
    },
    {
      "cell_type": "code",
      "metadata": {
        "id": "m20ikTgZRhgx",
        "colab": {
          "base_uri": "https://localhost:8080/"
        },
        "outputId": "4d110aa3-4f4c-4ae7-92cf-b2828d464484"
      },
      "source": [
        "print(output[0])"
      ],
      "execution_count": 18,
      "outputs": [
        {
          "output_type": "stream",
          "name": "stdout",
          "text": [
            "tf.Tensor(\n",
            "[[[-1.8296382e-01 -7.4054182e-02  5.0267622e-02 ... -1.1260702e-01\n",
            "    4.4493088e-01  4.0941316e-01]\n",
            "  [ 7.0649944e-04  1.4825346e-01  3.4328276e-01 ... -8.6039737e-02\n",
            "    6.9474745e-01  4.3352664e-02]\n",
            "  [-5.0720561e-01  5.3085524e-01  3.7162632e-01 ... -5.6287485e-01\n",
            "    1.3755700e-01  2.8475225e-01]\n",
            "  ...\n",
            "  [-4.2251298e-01  5.7314806e-02  2.4338327e-01 ... -1.5222709e-01\n",
            "    2.4462473e-01  6.4154845e-01]\n",
            "  [-4.9384439e-01 -1.8895467e-01  1.2640776e-01 ...  6.3240372e-02\n",
            "    3.6912853e-01 -5.8251858e-02]\n",
            "  [ 8.3268678e-01  2.4948205e-01 -4.5439535e-01 ...  1.1997542e-01\n",
            "   -3.9257339e-01 -2.7785397e-01]]], shape=(1, 8, 768), dtype=float32)\n"
          ]
        }
      ]
    },
    {
      "cell_type": "code",
      "metadata": {
        "id": "i46_6ipxZ7lw",
        "colab": {
          "base_uri": "https://localhost:8080/"
        },
        "outputId": "fc6fe532-2c39-4341-8de0-d61fc3e3b0de"
      },
      "source": [
        "output[0].shape"
      ],
      "execution_count": 19,
      "outputs": [
        {
          "output_type": "execute_result",
          "data": {
            "text/plain": [
              "TensorShape([1, 8, 768])"
            ]
          },
          "metadata": {},
          "execution_count": 19
        }
      ]
    },
    {
      "cell_type": "code",
      "metadata": {
        "id": "UZb2pJGVaaqL",
        "colab": {
          "base_uri": "https://localhost:8080/"
        },
        "outputId": "985c8164-7de3-47b1-91d0-85913787759f"
      },
      "source": [
        "output[1][0].shape"
      ],
      "execution_count": 20,
      "outputs": [
        {
          "output_type": "execute_result",
          "data": {
            "text/plain": [
              "TensorShape([1, 8, 768])"
            ]
          },
          "metadata": {},
          "execution_count": 20
        }
      ]
    },
    {
      "cell_type": "code",
      "metadata": {
        "id": "LKP1FJRSRkV0",
        "colab": {
          "base_uri": "https://localhost:8080/"
        },
        "outputId": "f79cd09c-064b-4162-8416-0189b25ee286"
      },
      "source": [
        "print(type(output[1]))\n",
        "print(len(output[1])) # 7 Why?\n",
        "#len(output[1]) will return 7. This is because the output of the model is a sequence of 8 hidden states, but the first hidden state is reserved for the CLS token, which is a special token that is used to represent the entire input sequence. Therefore, the remaining 7 hidden states correspond to the 7 tokens in the input sequence.\n",
        "print(output[1][6]) # Shape:(1,8,768)"
      ],
      "execution_count": 21,
      "outputs": [
        {
          "output_type": "stream",
          "name": "stdout",
          "text": [
            "<class 'tuple'>\n",
            "7\n",
            "tf.Tensor(\n",
            "[[[-1.8296382e-01 -7.4054182e-02  5.0267622e-02 ... -1.1260702e-01\n",
            "    4.4493088e-01  4.0941316e-01]\n",
            "  [ 7.0649944e-04  1.4825346e-01  3.4328276e-01 ... -8.6039737e-02\n",
            "    6.9474745e-01  4.3352664e-02]\n",
            "  [-5.0720561e-01  5.3085524e-01  3.7162632e-01 ... -5.6287485e-01\n",
            "    1.3755700e-01  2.8475225e-01]\n",
            "  ...\n",
            "  [-4.2251298e-01  5.7314806e-02  2.4338327e-01 ... -1.5222709e-01\n",
            "    2.4462473e-01  6.4154845e-01]\n",
            "  [-4.9384439e-01 -1.8895467e-01  1.2640776e-01 ...  6.3240372e-02\n",
            "    3.6912853e-01 -5.8251858e-02]\n",
            "  [ 8.3268678e-01  2.4948205e-01 -4.5439535e-01 ...  1.1997542e-01\n",
            "   -3.9257339e-01 -2.7785397e-01]]], shape=(1, 8, 768), dtype=float32)\n"
          ]
        }
      ]
    },
    {
      "cell_type": "markdown",
      "metadata": {
        "id": "kHMQIaouS1r1"
      },
      "source": [
        " **Same steps as above, for any Transformer /BERT like model**"
      ]
    },
    {
      "cell_type": "markdown",
      "metadata": {
        "id": "MLodxBWwpIYw"
      },
      "source": [
        "### Fine-tuning for various tasks\n",
        "\n",
        "- Refer: https://arxiv.org/pdf/1810.04805.pdf\n",
        "\n",
        "-Next video"
      ]
    },
    {
      "cell_type": "code",
      "source": [],
      "metadata": {
        "id": "YpHb8jYl2DaJ"
      },
      "execution_count": 21,
      "outputs": []
    }
  ]
}