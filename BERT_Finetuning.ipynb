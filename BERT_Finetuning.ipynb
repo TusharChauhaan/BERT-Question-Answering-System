{
  "nbformat": 4,
  "nbformat_minor": 0,
  "metadata": {
    "colab": {
      "provenance": [],
      "gpuType": "T4"
    },
    "kernelspec": {
      "name": "python3",
      "display_name": "Python 3"
    },
    "widgets": {
      "application/vnd.jupyter.widget-state+json": {
        "6b2c3d0e60e84b9dad7d714d74b077e5": {
          "model_module": "@jupyter-widgets/controls",
          "model_name": "HBoxModel",
          "model_module_version": "1.5.0",
          "state": {
            "_dom_classes": [],
            "_model_module": "@jupyter-widgets/controls",
            "_model_module_version": "1.5.0",
            "_model_name": "HBoxModel",
            "_view_count": null,
            "_view_module": "@jupyter-widgets/controls",
            "_view_module_version": "1.5.0",
            "_view_name": "HBoxView",
            "box_style": "",
            "children": [
              "IPY_MODEL_b696502e4cf54a08b42fca5789109d14",
              "IPY_MODEL_4273a63def9e48b3822fe0353c838b25",
              "IPY_MODEL_26195d084d60447d8add37693f7dbbe9"
            ],
            "layout": "IPY_MODEL_d327d0070aef4b57a585dd48d8311a1c"
          }
        },
        "b696502e4cf54a08b42fca5789109d14": {
          "model_module": "@jupyter-widgets/controls",
          "model_name": "HTMLModel",
          "model_module_version": "1.5.0",
          "state": {
            "_dom_classes": [],
            "_model_module": "@jupyter-widgets/controls",
            "_model_module_version": "1.5.0",
            "_model_name": "HTMLModel",
            "_view_count": null,
            "_view_module": "@jupyter-widgets/controls",
            "_view_module_version": "1.5.0",
            "_view_name": "HTMLView",
            "description": "",
            "description_tooltip": null,
            "layout": "IPY_MODEL_7e6d82b3d2824866a6e87c31b853a3fc",
            "placeholder": "​",
            "style": "IPY_MODEL_da649b0ff6504065a6b4bac4a92aa8c6",
            "value": "Downloading (…)solve/main/vocab.txt: 100%"
          }
        },
        "4273a63def9e48b3822fe0353c838b25": {
          "model_module": "@jupyter-widgets/controls",
          "model_name": "FloatProgressModel",
          "model_module_version": "1.5.0",
          "state": {
            "_dom_classes": [],
            "_model_module": "@jupyter-widgets/controls",
            "_model_module_version": "1.5.0",
            "_model_name": "FloatProgressModel",
            "_view_count": null,
            "_view_module": "@jupyter-widgets/controls",
            "_view_module_version": "1.5.0",
            "_view_name": "ProgressView",
            "bar_style": "success",
            "description": "",
            "description_tooltip": null,
            "layout": "IPY_MODEL_e92542c32d2f4643bf69619cda504b22",
            "max": 231508,
            "min": 0,
            "orientation": "horizontal",
            "style": "IPY_MODEL_29f5c45b97e94fa9ab06b47afcca6fae",
            "value": 231508
          }
        },
        "26195d084d60447d8add37693f7dbbe9": {
          "model_module": "@jupyter-widgets/controls",
          "model_name": "HTMLModel",
          "model_module_version": "1.5.0",
          "state": {
            "_dom_classes": [],
            "_model_module": "@jupyter-widgets/controls",
            "_model_module_version": "1.5.0",
            "_model_name": "HTMLModel",
            "_view_count": null,
            "_view_module": "@jupyter-widgets/controls",
            "_view_module_version": "1.5.0",
            "_view_name": "HTMLView",
            "description": "",
            "description_tooltip": null,
            "layout": "IPY_MODEL_902da7b805ee4865b8c9fcd5a60a97e2",
            "placeholder": "​",
            "style": "IPY_MODEL_cd0df7aee8d849f78e5dda299c6d6094",
            "value": " 232k/232k [00:00&lt;00:00, 3.67MB/s]"
          }
        },
        "d327d0070aef4b57a585dd48d8311a1c": {
          "model_module": "@jupyter-widgets/base",
          "model_name": "LayoutModel",
          "model_module_version": "1.2.0",
          "state": {
            "_model_module": "@jupyter-widgets/base",
            "_model_module_version": "1.2.0",
            "_model_name": "LayoutModel",
            "_view_count": null,
            "_view_module": "@jupyter-widgets/base",
            "_view_module_version": "1.2.0",
            "_view_name": "LayoutView",
            "align_content": null,
            "align_items": null,
            "align_self": null,
            "border": null,
            "bottom": null,
            "display": null,
            "flex": null,
            "flex_flow": null,
            "grid_area": null,
            "grid_auto_columns": null,
            "grid_auto_flow": null,
            "grid_auto_rows": null,
            "grid_column": null,
            "grid_gap": null,
            "grid_row": null,
            "grid_template_areas": null,
            "grid_template_columns": null,
            "grid_template_rows": null,
            "height": null,
            "justify_content": null,
            "justify_items": null,
            "left": null,
            "margin": null,
            "max_height": null,
            "max_width": null,
            "min_height": null,
            "min_width": null,
            "object_fit": null,
            "object_position": null,
            "order": null,
            "overflow": null,
            "overflow_x": null,
            "overflow_y": null,
            "padding": null,
            "right": null,
            "top": null,
            "visibility": null,
            "width": null
          }
        },
        "7e6d82b3d2824866a6e87c31b853a3fc": {
          "model_module": "@jupyter-widgets/base",
          "model_name": "LayoutModel",
          "model_module_version": "1.2.0",
          "state": {
            "_model_module": "@jupyter-widgets/base",
            "_model_module_version": "1.2.0",
            "_model_name": "LayoutModel",
            "_view_count": null,
            "_view_module": "@jupyter-widgets/base",
            "_view_module_version": "1.2.0",
            "_view_name": "LayoutView",
            "align_content": null,
            "align_items": null,
            "align_self": null,
            "border": null,
            "bottom": null,
            "display": null,
            "flex": null,
            "flex_flow": null,
            "grid_area": null,
            "grid_auto_columns": null,
            "grid_auto_flow": null,
            "grid_auto_rows": null,
            "grid_column": null,
            "grid_gap": null,
            "grid_row": null,
            "grid_template_areas": null,
            "grid_template_columns": null,
            "grid_template_rows": null,
            "height": null,
            "justify_content": null,
            "justify_items": null,
            "left": null,
            "margin": null,
            "max_height": null,
            "max_width": null,
            "min_height": null,
            "min_width": null,
            "object_fit": null,
            "object_position": null,
            "order": null,
            "overflow": null,
            "overflow_x": null,
            "overflow_y": null,
            "padding": null,
            "right": null,
            "top": null,
            "visibility": null,
            "width": null
          }
        },
        "da649b0ff6504065a6b4bac4a92aa8c6": {
          "model_module": "@jupyter-widgets/controls",
          "model_name": "DescriptionStyleModel",
          "model_module_version": "1.5.0",
          "state": {
            "_model_module": "@jupyter-widgets/controls",
            "_model_module_version": "1.5.0",
            "_model_name": "DescriptionStyleModel",
            "_view_count": null,
            "_view_module": "@jupyter-widgets/base",
            "_view_module_version": "1.2.0",
            "_view_name": "StyleView",
            "description_width": ""
          }
        },
        "e92542c32d2f4643bf69619cda504b22": {
          "model_module": "@jupyter-widgets/base",
          "model_name": "LayoutModel",
          "model_module_version": "1.2.0",
          "state": {
            "_model_module": "@jupyter-widgets/base",
            "_model_module_version": "1.2.0",
            "_model_name": "LayoutModel",
            "_view_count": null,
            "_view_module": "@jupyter-widgets/base",
            "_view_module_version": "1.2.0",
            "_view_name": "LayoutView",
            "align_content": null,
            "align_items": null,
            "align_self": null,
            "border": null,
            "bottom": null,
            "display": null,
            "flex": null,
            "flex_flow": null,
            "grid_area": null,
            "grid_auto_columns": null,
            "grid_auto_flow": null,
            "grid_auto_rows": null,
            "grid_column": null,
            "grid_gap": null,
            "grid_row": null,
            "grid_template_areas": null,
            "grid_template_columns": null,
            "grid_template_rows": null,
            "height": null,
            "justify_content": null,
            "justify_items": null,
            "left": null,
            "margin": null,
            "max_height": null,
            "max_width": null,
            "min_height": null,
            "min_width": null,
            "object_fit": null,
            "object_position": null,
            "order": null,
            "overflow": null,
            "overflow_x": null,
            "overflow_y": null,
            "padding": null,
            "right": null,
            "top": null,
            "visibility": null,
            "width": null
          }
        },
        "29f5c45b97e94fa9ab06b47afcca6fae": {
          "model_module": "@jupyter-widgets/controls",
          "model_name": "ProgressStyleModel",
          "model_module_version": "1.5.0",
          "state": {
            "_model_module": "@jupyter-widgets/controls",
            "_model_module_version": "1.5.0",
            "_model_name": "ProgressStyleModel",
            "_view_count": null,
            "_view_module": "@jupyter-widgets/base",
            "_view_module_version": "1.2.0",
            "_view_name": "StyleView",
            "bar_color": null,
            "description_width": ""
          }
        },
        "902da7b805ee4865b8c9fcd5a60a97e2": {
          "model_module": "@jupyter-widgets/base",
          "model_name": "LayoutModel",
          "model_module_version": "1.2.0",
          "state": {
            "_model_module": "@jupyter-widgets/base",
            "_model_module_version": "1.2.0",
            "_model_name": "LayoutModel",
            "_view_count": null,
            "_view_module": "@jupyter-widgets/base",
            "_view_module_version": "1.2.0",
            "_view_name": "LayoutView",
            "align_content": null,
            "align_items": null,
            "align_self": null,
            "border": null,
            "bottom": null,
            "display": null,
            "flex": null,
            "flex_flow": null,
            "grid_area": null,
            "grid_auto_columns": null,
            "grid_auto_flow": null,
            "grid_auto_rows": null,
            "grid_column": null,
            "grid_gap": null,
            "grid_row": null,
            "grid_template_areas": null,
            "grid_template_columns": null,
            "grid_template_rows": null,
            "height": null,
            "justify_content": null,
            "justify_items": null,
            "left": null,
            "margin": null,
            "max_height": null,
            "max_width": null,
            "min_height": null,
            "min_width": null,
            "object_fit": null,
            "object_position": null,
            "order": null,
            "overflow": null,
            "overflow_x": null,
            "overflow_y": null,
            "padding": null,
            "right": null,
            "top": null,
            "visibility": null,
            "width": null
          }
        },
        "cd0df7aee8d849f78e5dda299c6d6094": {
          "model_module": "@jupyter-widgets/controls",
          "model_name": "DescriptionStyleModel",
          "model_module_version": "1.5.0",
          "state": {
            "_model_module": "@jupyter-widgets/controls",
            "_model_module_version": "1.5.0",
            "_model_name": "DescriptionStyleModel",
            "_view_count": null,
            "_view_module": "@jupyter-widgets/base",
            "_view_module_version": "1.2.0",
            "_view_name": "StyleView",
            "description_width": ""
          }
        },
        "f9bfea4d410041149574f5cc9cb4273a": {
          "model_module": "@jupyter-widgets/controls",
          "model_name": "HBoxModel",
          "model_module_version": "1.5.0",
          "state": {
            "_dom_classes": [],
            "_model_module": "@jupyter-widgets/controls",
            "_model_module_version": "1.5.0",
            "_model_name": "HBoxModel",
            "_view_count": null,
            "_view_module": "@jupyter-widgets/controls",
            "_view_module_version": "1.5.0",
            "_view_name": "HBoxView",
            "box_style": "",
            "children": [
              "IPY_MODEL_1b7904d0b5fe42a18c825a1295c4cfc9",
              "IPY_MODEL_ceac62c1b58a46bfb243bc32ce559da6",
              "IPY_MODEL_21babc7f2b1c4efb8f66dc3f1d599219"
            ],
            "layout": "IPY_MODEL_81c43e848ed446db9af9e076662ade93"
          }
        },
        "1b7904d0b5fe42a18c825a1295c4cfc9": {
          "model_module": "@jupyter-widgets/controls",
          "model_name": "HTMLModel",
          "model_module_version": "1.5.0",
          "state": {
            "_dom_classes": [],
            "_model_module": "@jupyter-widgets/controls",
            "_model_module_version": "1.5.0",
            "_model_name": "HTMLModel",
            "_view_count": null,
            "_view_module": "@jupyter-widgets/controls",
            "_view_module_version": "1.5.0",
            "_view_name": "HTMLView",
            "description": "",
            "description_tooltip": null,
            "layout": "IPY_MODEL_6d60af5518794eb5b7ea32dd9da1d18d",
            "placeholder": "​",
            "style": "IPY_MODEL_dc934ec0da9d4eac86dc95f4d8400550",
            "value": "Downloading (…)okenizer_config.json: 100%"
          }
        },
        "ceac62c1b58a46bfb243bc32ce559da6": {
          "model_module": "@jupyter-widgets/controls",
          "model_name": "FloatProgressModel",
          "model_module_version": "1.5.0",
          "state": {
            "_dom_classes": [],
            "_model_module": "@jupyter-widgets/controls",
            "_model_module_version": "1.5.0",
            "_model_name": "FloatProgressModel",
            "_view_count": null,
            "_view_module": "@jupyter-widgets/controls",
            "_view_module_version": "1.5.0",
            "_view_name": "ProgressView",
            "bar_style": "success",
            "description": "",
            "description_tooltip": null,
            "layout": "IPY_MODEL_a34a5944f48243a8b4355ebe82b20ced",
            "max": 28,
            "min": 0,
            "orientation": "horizontal",
            "style": "IPY_MODEL_b01f8d3c4b6c4a07a7fb5f9d356f8f88",
            "value": 28
          }
        },
        "21babc7f2b1c4efb8f66dc3f1d599219": {
          "model_module": "@jupyter-widgets/controls",
          "model_name": "HTMLModel",
          "model_module_version": "1.5.0",
          "state": {
            "_dom_classes": [],
            "_model_module": "@jupyter-widgets/controls",
            "_model_module_version": "1.5.0",
            "_model_name": "HTMLModel",
            "_view_count": null,
            "_view_module": "@jupyter-widgets/controls",
            "_view_module_version": "1.5.0",
            "_view_name": "HTMLView",
            "description": "",
            "description_tooltip": null,
            "layout": "IPY_MODEL_838dcb4ae4b34f618534d2e8cf0f1b5c",
            "placeholder": "​",
            "style": "IPY_MODEL_ddd8d55bd37945108926ae9e8e0e89e0",
            "value": " 28.0/28.0 [00:00&lt;00:00, 1.26kB/s]"
          }
        },
        "81c43e848ed446db9af9e076662ade93": {
          "model_module": "@jupyter-widgets/base",
          "model_name": "LayoutModel",
          "model_module_version": "1.2.0",
          "state": {
            "_model_module": "@jupyter-widgets/base",
            "_model_module_version": "1.2.0",
            "_model_name": "LayoutModel",
            "_view_count": null,
            "_view_module": "@jupyter-widgets/base",
            "_view_module_version": "1.2.0",
            "_view_name": "LayoutView",
            "align_content": null,
            "align_items": null,
            "align_self": null,
            "border": null,
            "bottom": null,
            "display": null,
            "flex": null,
            "flex_flow": null,
            "grid_area": null,
            "grid_auto_columns": null,
            "grid_auto_flow": null,
            "grid_auto_rows": null,
            "grid_column": null,
            "grid_gap": null,
            "grid_row": null,
            "grid_template_areas": null,
            "grid_template_columns": null,
            "grid_template_rows": null,
            "height": null,
            "justify_content": null,
            "justify_items": null,
            "left": null,
            "margin": null,
            "max_height": null,
            "max_width": null,
            "min_height": null,
            "min_width": null,
            "object_fit": null,
            "object_position": null,
            "order": null,
            "overflow": null,
            "overflow_x": null,
            "overflow_y": null,
            "padding": null,
            "right": null,
            "top": null,
            "visibility": null,
            "width": null
          }
        },
        "6d60af5518794eb5b7ea32dd9da1d18d": {
          "model_module": "@jupyter-widgets/base",
          "model_name": "LayoutModel",
          "model_module_version": "1.2.0",
          "state": {
            "_model_module": "@jupyter-widgets/base",
            "_model_module_version": "1.2.0",
            "_model_name": "LayoutModel",
            "_view_count": null,
            "_view_module": "@jupyter-widgets/base",
            "_view_module_version": "1.2.0",
            "_view_name": "LayoutView",
            "align_content": null,
            "align_items": null,
            "align_self": null,
            "border": null,
            "bottom": null,
            "display": null,
            "flex": null,
            "flex_flow": null,
            "grid_area": null,
            "grid_auto_columns": null,
            "grid_auto_flow": null,
            "grid_auto_rows": null,
            "grid_column": null,
            "grid_gap": null,
            "grid_row": null,
            "grid_template_areas": null,
            "grid_template_columns": null,
            "grid_template_rows": null,
            "height": null,
            "justify_content": null,
            "justify_items": null,
            "left": null,
            "margin": null,
            "max_height": null,
            "max_width": null,
            "min_height": null,
            "min_width": null,
            "object_fit": null,
            "object_position": null,
            "order": null,
            "overflow": null,
            "overflow_x": null,
            "overflow_y": null,
            "padding": null,
            "right": null,
            "top": null,
            "visibility": null,
            "width": null
          }
        },
        "dc934ec0da9d4eac86dc95f4d8400550": {
          "model_module": "@jupyter-widgets/controls",
          "model_name": "DescriptionStyleModel",
          "model_module_version": "1.5.0",
          "state": {
            "_model_module": "@jupyter-widgets/controls",
            "_model_module_version": "1.5.0",
            "_model_name": "DescriptionStyleModel",
            "_view_count": null,
            "_view_module": "@jupyter-widgets/base",
            "_view_module_version": "1.2.0",
            "_view_name": "StyleView",
            "description_width": ""
          }
        },
        "a34a5944f48243a8b4355ebe82b20ced": {
          "model_module": "@jupyter-widgets/base",
          "model_name": "LayoutModel",
          "model_module_version": "1.2.0",
          "state": {
            "_model_module": "@jupyter-widgets/base",
            "_model_module_version": "1.2.0",
            "_model_name": "LayoutModel",
            "_view_count": null,
            "_view_module": "@jupyter-widgets/base",
            "_view_module_version": "1.2.0",
            "_view_name": "LayoutView",
            "align_content": null,
            "align_items": null,
            "align_self": null,
            "border": null,
            "bottom": null,
            "display": null,
            "flex": null,
            "flex_flow": null,
            "grid_area": null,
            "grid_auto_columns": null,
            "grid_auto_flow": null,
            "grid_auto_rows": null,
            "grid_column": null,
            "grid_gap": null,
            "grid_row": null,
            "grid_template_areas": null,
            "grid_template_columns": null,
            "grid_template_rows": null,
            "height": null,
            "justify_content": null,
            "justify_items": null,
            "left": null,
            "margin": null,
            "max_height": null,
            "max_width": null,
            "min_height": null,
            "min_width": null,
            "object_fit": null,
            "object_position": null,
            "order": null,
            "overflow": null,
            "overflow_x": null,
            "overflow_y": null,
            "padding": null,
            "right": null,
            "top": null,
            "visibility": null,
            "width": null
          }
        },
        "b01f8d3c4b6c4a07a7fb5f9d356f8f88": {
          "model_module": "@jupyter-widgets/controls",
          "model_name": "ProgressStyleModel",
          "model_module_version": "1.5.0",
          "state": {
            "_model_module": "@jupyter-widgets/controls",
            "_model_module_version": "1.5.0",
            "_model_name": "ProgressStyleModel",
            "_view_count": null,
            "_view_module": "@jupyter-widgets/base",
            "_view_module_version": "1.2.0",
            "_view_name": "StyleView",
            "bar_color": null,
            "description_width": ""
          }
        },
        "838dcb4ae4b34f618534d2e8cf0f1b5c": {
          "model_module": "@jupyter-widgets/base",
          "model_name": "LayoutModel",
          "model_module_version": "1.2.0",
          "state": {
            "_model_module": "@jupyter-widgets/base",
            "_model_module_version": "1.2.0",
            "_model_name": "LayoutModel",
            "_view_count": null,
            "_view_module": "@jupyter-widgets/base",
            "_view_module_version": "1.2.0",
            "_view_name": "LayoutView",
            "align_content": null,
            "align_items": null,
            "align_self": null,
            "border": null,
            "bottom": null,
            "display": null,
            "flex": null,
            "flex_flow": null,
            "grid_area": null,
            "grid_auto_columns": null,
            "grid_auto_flow": null,
            "grid_auto_rows": null,
            "grid_column": null,
            "grid_gap": null,
            "grid_row": null,
            "grid_template_areas": null,
            "grid_template_columns": null,
            "grid_template_rows": null,
            "height": null,
            "justify_content": null,
            "justify_items": null,
            "left": null,
            "margin": null,
            "max_height": null,
            "max_width": null,
            "min_height": null,
            "min_width": null,
            "object_fit": null,
            "object_position": null,
            "order": null,
            "overflow": null,
            "overflow_x": null,
            "overflow_y": null,
            "padding": null,
            "right": null,
            "top": null,
            "visibility": null,
            "width": null
          }
        },
        "ddd8d55bd37945108926ae9e8e0e89e0": {
          "model_module": "@jupyter-widgets/controls",
          "model_name": "DescriptionStyleModel",
          "model_module_version": "1.5.0",
          "state": {
            "_model_module": "@jupyter-widgets/controls",
            "_model_module_version": "1.5.0",
            "_model_name": "DescriptionStyleModel",
            "_view_count": null,
            "_view_module": "@jupyter-widgets/base",
            "_view_module_version": "1.2.0",
            "_view_name": "StyleView",
            "description_width": ""
          }
        },
        "1a4b3e46cbd44ff1b66ba6a0fac2a5d7": {
          "model_module": "@jupyter-widgets/controls",
          "model_name": "HBoxModel",
          "model_module_version": "1.5.0",
          "state": {
            "_dom_classes": [],
            "_model_module": "@jupyter-widgets/controls",
            "_model_module_version": "1.5.0",
            "_model_name": "HBoxModel",
            "_view_count": null,
            "_view_module": "@jupyter-widgets/controls",
            "_view_module_version": "1.5.0",
            "_view_name": "HBoxView",
            "box_style": "",
            "children": [
              "IPY_MODEL_b5a37befe68c41ce97dc24e4a04c640d",
              "IPY_MODEL_7a60c3d3c5844c8a9cd13850a5701682",
              "IPY_MODEL_bff04a4e67674b0baf1619ab399efd2b"
            ],
            "layout": "IPY_MODEL_17ed4bd0ae0b4e2b80fddca1479f0ee0"
          }
        },
        "b5a37befe68c41ce97dc24e4a04c640d": {
          "model_module": "@jupyter-widgets/controls",
          "model_name": "HTMLModel",
          "model_module_version": "1.5.0",
          "state": {
            "_dom_classes": [],
            "_model_module": "@jupyter-widgets/controls",
            "_model_module_version": "1.5.0",
            "_model_name": "HTMLModel",
            "_view_count": null,
            "_view_module": "@jupyter-widgets/controls",
            "_view_module_version": "1.5.0",
            "_view_name": "HTMLView",
            "description": "",
            "description_tooltip": null,
            "layout": "IPY_MODEL_5a5bed909a1a413f839329a68a44a677",
            "placeholder": "​",
            "style": "IPY_MODEL_ee5341bff6444c49899afcbc326e3ec9",
            "value": "Downloading (…)lve/main/config.json: 100%"
          }
        },
        "7a60c3d3c5844c8a9cd13850a5701682": {
          "model_module": "@jupyter-widgets/controls",
          "model_name": "FloatProgressModel",
          "model_module_version": "1.5.0",
          "state": {
            "_dom_classes": [],
            "_model_module": "@jupyter-widgets/controls",
            "_model_module_version": "1.5.0",
            "_model_name": "FloatProgressModel",
            "_view_count": null,
            "_view_module": "@jupyter-widgets/controls",
            "_view_module_version": "1.5.0",
            "_view_name": "ProgressView",
            "bar_style": "success",
            "description": "",
            "description_tooltip": null,
            "layout": "IPY_MODEL_6cd2bea376c44da694cef3c1681fb73d",
            "max": 443,
            "min": 0,
            "orientation": "horizontal",
            "style": "IPY_MODEL_66521e9ce1f34240b6cde9c61145dd01",
            "value": 443
          }
        },
        "bff04a4e67674b0baf1619ab399efd2b": {
          "model_module": "@jupyter-widgets/controls",
          "model_name": "HTMLModel",
          "model_module_version": "1.5.0",
          "state": {
            "_dom_classes": [],
            "_model_module": "@jupyter-widgets/controls",
            "_model_module_version": "1.5.0",
            "_model_name": "HTMLModel",
            "_view_count": null,
            "_view_module": "@jupyter-widgets/controls",
            "_view_module_version": "1.5.0",
            "_view_name": "HTMLView",
            "description": "",
            "description_tooltip": null,
            "layout": "IPY_MODEL_6918098ac55c4058a6197cbd69aa26a1",
            "placeholder": "​",
            "style": "IPY_MODEL_b1606c9e6358413484d0d5422a9f3ab8",
            "value": " 443/443 [00:00&lt;00:00, 24.6kB/s]"
          }
        },
        "17ed4bd0ae0b4e2b80fddca1479f0ee0": {
          "model_module": "@jupyter-widgets/base",
          "model_name": "LayoutModel",
          "model_module_version": "1.2.0",
          "state": {
            "_model_module": "@jupyter-widgets/base",
            "_model_module_version": "1.2.0",
            "_model_name": "LayoutModel",
            "_view_count": null,
            "_view_module": "@jupyter-widgets/base",
            "_view_module_version": "1.2.0",
            "_view_name": "LayoutView",
            "align_content": null,
            "align_items": null,
            "align_self": null,
            "border": null,
            "bottom": null,
            "display": null,
            "flex": null,
            "flex_flow": null,
            "grid_area": null,
            "grid_auto_columns": null,
            "grid_auto_flow": null,
            "grid_auto_rows": null,
            "grid_column": null,
            "grid_gap": null,
            "grid_row": null,
            "grid_template_areas": null,
            "grid_template_columns": null,
            "grid_template_rows": null,
            "height": null,
            "justify_content": null,
            "justify_items": null,
            "left": null,
            "margin": null,
            "max_height": null,
            "max_width": null,
            "min_height": null,
            "min_width": null,
            "object_fit": null,
            "object_position": null,
            "order": null,
            "overflow": null,
            "overflow_x": null,
            "overflow_y": null,
            "padding": null,
            "right": null,
            "top": null,
            "visibility": null,
            "width": null
          }
        },
        "5a5bed909a1a413f839329a68a44a677": {
          "model_module": "@jupyter-widgets/base",
          "model_name": "LayoutModel",
          "model_module_version": "1.2.0",
          "state": {
            "_model_module": "@jupyter-widgets/base",
            "_model_module_version": "1.2.0",
            "_model_name": "LayoutModel",
            "_view_count": null,
            "_view_module": "@jupyter-widgets/base",
            "_view_module_version": "1.2.0",
            "_view_name": "LayoutView",
            "align_content": null,
            "align_items": null,
            "align_self": null,
            "border": null,
            "bottom": null,
            "display": null,
            "flex": null,
            "flex_flow": null,
            "grid_area": null,
            "grid_auto_columns": null,
            "grid_auto_flow": null,
            "grid_auto_rows": null,
            "grid_column": null,
            "grid_gap": null,
            "grid_row": null,
            "grid_template_areas": null,
            "grid_template_columns": null,
            "grid_template_rows": null,
            "height": null,
            "justify_content": null,
            "justify_items": null,
            "left": null,
            "margin": null,
            "max_height": null,
            "max_width": null,
            "min_height": null,
            "min_width": null,
            "object_fit": null,
            "object_position": null,
            "order": null,
            "overflow": null,
            "overflow_x": null,
            "overflow_y": null,
            "padding": null,
            "right": null,
            "top": null,
            "visibility": null,
            "width": null
          }
        },
        "ee5341bff6444c49899afcbc326e3ec9": {
          "model_module": "@jupyter-widgets/controls",
          "model_name": "DescriptionStyleModel",
          "model_module_version": "1.5.0",
          "state": {
            "_model_module": "@jupyter-widgets/controls",
            "_model_module_version": "1.5.0",
            "_model_name": "DescriptionStyleModel",
            "_view_count": null,
            "_view_module": "@jupyter-widgets/base",
            "_view_module_version": "1.2.0",
            "_view_name": "StyleView",
            "description_width": ""
          }
        },
        "6cd2bea376c44da694cef3c1681fb73d": {
          "model_module": "@jupyter-widgets/base",
          "model_name": "LayoutModel",
          "model_module_version": "1.2.0",
          "state": {
            "_model_module": "@jupyter-widgets/base",
            "_model_module_version": "1.2.0",
            "_model_name": "LayoutModel",
            "_view_count": null,
            "_view_module": "@jupyter-widgets/base",
            "_view_module_version": "1.2.0",
            "_view_name": "LayoutView",
            "align_content": null,
            "align_items": null,
            "align_self": null,
            "border": null,
            "bottom": null,
            "display": null,
            "flex": null,
            "flex_flow": null,
            "grid_area": null,
            "grid_auto_columns": null,
            "grid_auto_flow": null,
            "grid_auto_rows": null,
            "grid_column": null,
            "grid_gap": null,
            "grid_row": null,
            "grid_template_areas": null,
            "grid_template_columns": null,
            "grid_template_rows": null,
            "height": null,
            "justify_content": null,
            "justify_items": null,
            "left": null,
            "margin": null,
            "max_height": null,
            "max_width": null,
            "min_height": null,
            "min_width": null,
            "object_fit": null,
            "object_position": null,
            "order": null,
            "overflow": null,
            "overflow_x": null,
            "overflow_y": null,
            "padding": null,
            "right": null,
            "top": null,
            "visibility": null,
            "width": null
          }
        },
        "66521e9ce1f34240b6cde9c61145dd01": {
          "model_module": "@jupyter-widgets/controls",
          "model_name": "ProgressStyleModel",
          "model_module_version": "1.5.0",
          "state": {
            "_model_module": "@jupyter-widgets/controls",
            "_model_module_version": "1.5.0",
            "_model_name": "ProgressStyleModel",
            "_view_count": null,
            "_view_module": "@jupyter-widgets/base",
            "_view_module_version": "1.2.0",
            "_view_name": "StyleView",
            "bar_color": null,
            "description_width": ""
          }
        },
        "6918098ac55c4058a6197cbd69aa26a1": {
          "model_module": "@jupyter-widgets/base",
          "model_name": "LayoutModel",
          "model_module_version": "1.2.0",
          "state": {
            "_model_module": "@jupyter-widgets/base",
            "_model_module_version": "1.2.0",
            "_model_name": "LayoutModel",
            "_view_count": null,
            "_view_module": "@jupyter-widgets/base",
            "_view_module_version": "1.2.0",
            "_view_name": "LayoutView",
            "align_content": null,
            "align_items": null,
            "align_self": null,
            "border": null,
            "bottom": null,
            "display": null,
            "flex": null,
            "flex_flow": null,
            "grid_area": null,
            "grid_auto_columns": null,
            "grid_auto_flow": null,
            "grid_auto_rows": null,
            "grid_column": null,
            "grid_gap": null,
            "grid_row": null,
            "grid_template_areas": null,
            "grid_template_columns": null,
            "grid_template_rows": null,
            "height": null,
            "justify_content": null,
            "justify_items": null,
            "left": null,
            "margin": null,
            "max_height": null,
            "max_width": null,
            "min_height": null,
            "min_width": null,
            "object_fit": null,
            "object_position": null,
            "order": null,
            "overflow": null,
            "overflow_x": null,
            "overflow_y": null,
            "padding": null,
            "right": null,
            "top": null,
            "visibility": null,
            "width": null
          }
        },
        "b1606c9e6358413484d0d5422a9f3ab8": {
          "model_module": "@jupyter-widgets/controls",
          "model_name": "DescriptionStyleModel",
          "model_module_version": "1.5.0",
          "state": {
            "_model_module": "@jupyter-widgets/controls",
            "_model_module_version": "1.5.0",
            "_model_name": "DescriptionStyleModel",
            "_view_count": null,
            "_view_module": "@jupyter-widgets/base",
            "_view_module_version": "1.2.0",
            "_view_name": "StyleView",
            "description_width": ""
          }
        },
        "b61cafe3b2f74ef5b61ed49db6df091a": {
          "model_module": "@jupyter-widgets/controls",
          "model_name": "HBoxModel",
          "model_module_version": "1.5.0",
          "state": {
            "_dom_classes": [],
            "_model_module": "@jupyter-widgets/controls",
            "_model_module_version": "1.5.0",
            "_model_name": "HBoxModel",
            "_view_count": null,
            "_view_module": "@jupyter-widgets/controls",
            "_view_module_version": "1.5.0",
            "_view_name": "HBoxView",
            "box_style": "",
            "children": [
              "IPY_MODEL_1263bf8f586549dd9b0287affa4eee5e",
              "IPY_MODEL_597b803eaf5c49a48c3837ea481c0e0e",
              "IPY_MODEL_eb9fb55a751b49ac83edbc171ece5a4a"
            ],
            "layout": "IPY_MODEL_c792a92ac5844c3f97f28e1e6bb9e074"
          }
        },
        "1263bf8f586549dd9b0287affa4eee5e": {
          "model_module": "@jupyter-widgets/controls",
          "model_name": "HTMLModel",
          "model_module_version": "1.5.0",
          "state": {
            "_dom_classes": [],
            "_model_module": "@jupyter-widgets/controls",
            "_model_module_version": "1.5.0",
            "_model_name": "HTMLModel",
            "_view_count": null,
            "_view_module": "@jupyter-widgets/controls",
            "_view_module_version": "1.5.0",
            "_view_name": "HTMLView",
            "description": "",
            "description_tooltip": null,
            "layout": "IPY_MODEL_46025ba8d89f460a9b0a9a548a72bc1d",
            "placeholder": "​",
            "style": "IPY_MODEL_47ba6621c3ab42b9a6540da236a990f1",
            "value": "Downloading model.safetensors: 100%"
          }
        },
        "597b803eaf5c49a48c3837ea481c0e0e": {
          "model_module": "@jupyter-widgets/controls",
          "model_name": "FloatProgressModel",
          "model_module_version": "1.5.0",
          "state": {
            "_dom_classes": [],
            "_model_module": "@jupyter-widgets/controls",
            "_model_module_version": "1.5.0",
            "_model_name": "FloatProgressModel",
            "_view_count": null,
            "_view_module": "@jupyter-widgets/controls",
            "_view_module_version": "1.5.0",
            "_view_name": "ProgressView",
            "bar_style": "success",
            "description": "",
            "description_tooltip": null,
            "layout": "IPY_MODEL_6de068b28f9741c7ae0116814f73c905",
            "max": 1340622760,
            "min": 0,
            "orientation": "horizontal",
            "style": "IPY_MODEL_89d303f42743465492c035a60689cdf0",
            "value": 1340622760
          }
        },
        "eb9fb55a751b49ac83edbc171ece5a4a": {
          "model_module": "@jupyter-widgets/controls",
          "model_name": "HTMLModel",
          "model_module_version": "1.5.0",
          "state": {
            "_dom_classes": [],
            "_model_module": "@jupyter-widgets/controls",
            "_model_module_version": "1.5.0",
            "_model_name": "HTMLModel",
            "_view_count": null,
            "_view_module": "@jupyter-widgets/controls",
            "_view_module_version": "1.5.0",
            "_view_name": "HTMLView",
            "description": "",
            "description_tooltip": null,
            "layout": "IPY_MODEL_991ea236d1c149529088c45e43811c27",
            "placeholder": "​",
            "style": "IPY_MODEL_da9686f9e6bf4aeaaf31d1f7e1b2901b",
            "value": " 1.34G/1.34G [00:07&lt;00:00, 178MB/s]"
          }
        },
        "c792a92ac5844c3f97f28e1e6bb9e074": {
          "model_module": "@jupyter-widgets/base",
          "model_name": "LayoutModel",
          "model_module_version": "1.2.0",
          "state": {
            "_model_module": "@jupyter-widgets/base",
            "_model_module_version": "1.2.0",
            "_model_name": "LayoutModel",
            "_view_count": null,
            "_view_module": "@jupyter-widgets/base",
            "_view_module_version": "1.2.0",
            "_view_name": "LayoutView",
            "align_content": null,
            "align_items": null,
            "align_self": null,
            "border": null,
            "bottom": null,
            "display": null,
            "flex": null,
            "flex_flow": null,
            "grid_area": null,
            "grid_auto_columns": null,
            "grid_auto_flow": null,
            "grid_auto_rows": null,
            "grid_column": null,
            "grid_gap": null,
            "grid_row": null,
            "grid_template_areas": null,
            "grid_template_columns": null,
            "grid_template_rows": null,
            "height": null,
            "justify_content": null,
            "justify_items": null,
            "left": null,
            "margin": null,
            "max_height": null,
            "max_width": null,
            "min_height": null,
            "min_width": null,
            "object_fit": null,
            "object_position": null,
            "order": null,
            "overflow": null,
            "overflow_x": null,
            "overflow_y": null,
            "padding": null,
            "right": null,
            "top": null,
            "visibility": null,
            "width": null
          }
        },
        "46025ba8d89f460a9b0a9a548a72bc1d": {
          "model_module": "@jupyter-widgets/base",
          "model_name": "LayoutModel",
          "model_module_version": "1.2.0",
          "state": {
            "_model_module": "@jupyter-widgets/base",
            "_model_module_version": "1.2.0",
            "_model_name": "LayoutModel",
            "_view_count": null,
            "_view_module": "@jupyter-widgets/base",
            "_view_module_version": "1.2.0",
            "_view_name": "LayoutView",
            "align_content": null,
            "align_items": null,
            "align_self": null,
            "border": null,
            "bottom": null,
            "display": null,
            "flex": null,
            "flex_flow": null,
            "grid_area": null,
            "grid_auto_columns": null,
            "grid_auto_flow": null,
            "grid_auto_rows": null,
            "grid_column": null,
            "grid_gap": null,
            "grid_row": null,
            "grid_template_areas": null,
            "grid_template_columns": null,
            "grid_template_rows": null,
            "height": null,
            "justify_content": null,
            "justify_items": null,
            "left": null,
            "margin": null,
            "max_height": null,
            "max_width": null,
            "min_height": null,
            "min_width": null,
            "object_fit": null,
            "object_position": null,
            "order": null,
            "overflow": null,
            "overflow_x": null,
            "overflow_y": null,
            "padding": null,
            "right": null,
            "top": null,
            "visibility": null,
            "width": null
          }
        },
        "47ba6621c3ab42b9a6540da236a990f1": {
          "model_module": "@jupyter-widgets/controls",
          "model_name": "DescriptionStyleModel",
          "model_module_version": "1.5.0",
          "state": {
            "_model_module": "@jupyter-widgets/controls",
            "_model_module_version": "1.5.0",
            "_model_name": "DescriptionStyleModel",
            "_view_count": null,
            "_view_module": "@jupyter-widgets/base",
            "_view_module_version": "1.2.0",
            "_view_name": "StyleView",
            "description_width": ""
          }
        },
        "6de068b28f9741c7ae0116814f73c905": {
          "model_module": "@jupyter-widgets/base",
          "model_name": "LayoutModel",
          "model_module_version": "1.2.0",
          "state": {
            "_model_module": "@jupyter-widgets/base",
            "_model_module_version": "1.2.0",
            "_model_name": "LayoutModel",
            "_view_count": null,
            "_view_module": "@jupyter-widgets/base",
            "_view_module_version": "1.2.0",
            "_view_name": "LayoutView",
            "align_content": null,
            "align_items": null,
            "align_self": null,
            "border": null,
            "bottom": null,
            "display": null,
            "flex": null,
            "flex_flow": null,
            "grid_area": null,
            "grid_auto_columns": null,
            "grid_auto_flow": null,
            "grid_auto_rows": null,
            "grid_column": null,
            "grid_gap": null,
            "grid_row": null,
            "grid_template_areas": null,
            "grid_template_columns": null,
            "grid_template_rows": null,
            "height": null,
            "justify_content": null,
            "justify_items": null,
            "left": null,
            "margin": null,
            "max_height": null,
            "max_width": null,
            "min_height": null,
            "min_width": null,
            "object_fit": null,
            "object_position": null,
            "order": null,
            "overflow": null,
            "overflow_x": null,
            "overflow_y": null,
            "padding": null,
            "right": null,
            "top": null,
            "visibility": null,
            "width": null
          }
        },
        "89d303f42743465492c035a60689cdf0": {
          "model_module": "@jupyter-widgets/controls",
          "model_name": "ProgressStyleModel",
          "model_module_version": "1.5.0",
          "state": {
            "_model_module": "@jupyter-widgets/controls",
            "_model_module_version": "1.5.0",
            "_model_name": "ProgressStyleModel",
            "_view_count": null,
            "_view_module": "@jupyter-widgets/base",
            "_view_module_version": "1.2.0",
            "_view_name": "StyleView",
            "bar_color": null,
            "description_width": ""
          }
        },
        "991ea236d1c149529088c45e43811c27": {
          "model_module": "@jupyter-widgets/base",
          "model_name": "LayoutModel",
          "model_module_version": "1.2.0",
          "state": {
            "_model_module": "@jupyter-widgets/base",
            "_model_module_version": "1.2.0",
            "_model_name": "LayoutModel",
            "_view_count": null,
            "_view_module": "@jupyter-widgets/base",
            "_view_module_version": "1.2.0",
            "_view_name": "LayoutView",
            "align_content": null,
            "align_items": null,
            "align_self": null,
            "border": null,
            "bottom": null,
            "display": null,
            "flex": null,
            "flex_flow": null,
            "grid_area": null,
            "grid_auto_columns": null,
            "grid_auto_flow": null,
            "grid_auto_rows": null,
            "grid_column": null,
            "grid_gap": null,
            "grid_row": null,
            "grid_template_areas": null,
            "grid_template_columns": null,
            "grid_template_rows": null,
            "height": null,
            "justify_content": null,
            "justify_items": null,
            "left": null,
            "margin": null,
            "max_height": null,
            "max_width": null,
            "min_height": null,
            "min_width": null,
            "object_fit": null,
            "object_position": null,
            "order": null,
            "overflow": null,
            "overflow_x": null,
            "overflow_y": null,
            "padding": null,
            "right": null,
            "top": null,
            "visibility": null,
            "width": null
          }
        },
        "da9686f9e6bf4aeaaf31d1f7e1b2901b": {
          "model_module": "@jupyter-widgets/controls",
          "model_name": "DescriptionStyleModel",
          "model_module_version": "1.5.0",
          "state": {
            "_model_module": "@jupyter-widgets/controls",
            "_model_module_version": "1.5.0",
            "_model_name": "DescriptionStyleModel",
            "_view_count": null,
            "_view_module": "@jupyter-widgets/base",
            "_view_module_version": "1.2.0",
            "_view_name": "StyleView",
            "description_width": ""
          }
        }
      }
    },
    "accelerator": "GPU"
  },
  "cells": [
    {
      "cell_type": "code",
      "metadata": {
        "id": "Nb66iLYlG1cq",
        "outputId": "1848635c-db91-4947-ceed-82e4277389dd",
        "colab": {
          "base_uri": "https://localhost:8080/"
        }
      },
      "source": [
        "! pip install transformers\n",
        "\n",
        "%tensorflow_version 2.x\n",
        "import tensorflow as tf\n",
        "print(tf.__version__)"
      ],
      "execution_count": 1,
      "outputs": [
        {
          "output_type": "stream",
          "name": "stdout",
          "text": [
            "Collecting transformers\n",
            "  Downloading transformers-4.31.0-py3-none-any.whl (7.4 MB)\n",
            "\u001b[2K     \u001b[90m━━━━━━━━━━━━━━━━━━━━━━━━━━━━━━━━━━━━━━━━\u001b[0m \u001b[32m7.4/7.4 MB\u001b[0m \u001b[31m15.2 MB/s\u001b[0m eta \u001b[36m0:00:00\u001b[0m\n",
            "\u001b[?25hRequirement already satisfied: filelock in /usr/local/lib/python3.10/dist-packages (from transformers) (3.12.2)\n",
            "Collecting huggingface-hub<1.0,>=0.14.1 (from transformers)\n",
            "  Downloading huggingface_hub-0.16.4-py3-none-any.whl (268 kB)\n",
            "\u001b[2K     \u001b[90m━━━━━━━━━━━━━━━━━━━━━━━━━━━━━━━━━━━━━━\u001b[0m \u001b[32m268.8/268.8 kB\u001b[0m \u001b[31m23.9 MB/s\u001b[0m eta \u001b[36m0:00:00\u001b[0m\n",
            "\u001b[?25hRequirement already satisfied: numpy>=1.17 in /usr/local/lib/python3.10/dist-packages (from transformers) (1.22.4)\n",
            "Requirement already satisfied: packaging>=20.0 in /usr/local/lib/python3.10/dist-packages (from transformers) (23.1)\n",
            "Requirement already satisfied: pyyaml>=5.1 in /usr/local/lib/python3.10/dist-packages (from transformers) (6.0.1)\n",
            "Requirement already satisfied: regex!=2019.12.17 in /usr/local/lib/python3.10/dist-packages (from transformers) (2022.10.31)\n",
            "Requirement already satisfied: requests in /usr/local/lib/python3.10/dist-packages (from transformers) (2.27.1)\n",
            "Collecting tokenizers!=0.11.3,<0.14,>=0.11.1 (from transformers)\n",
            "  Downloading tokenizers-0.13.3-cp310-cp310-manylinux_2_17_x86_64.manylinux2014_x86_64.whl (7.8 MB)\n",
            "\u001b[2K     \u001b[90m━━━━━━━━━━━━━━━━━━━━━━━━━━━━━━━━━━━━━━━━\u001b[0m \u001b[32m7.8/7.8 MB\u001b[0m \u001b[31m51.1 MB/s\u001b[0m eta \u001b[36m0:00:00\u001b[0m\n",
            "\u001b[?25hCollecting safetensors>=0.3.1 (from transformers)\n",
            "  Downloading safetensors-0.3.1-cp310-cp310-manylinux_2_17_x86_64.manylinux2014_x86_64.whl (1.3 MB)\n",
            "\u001b[2K     \u001b[90m━━━━━━━━━━━━━━━━━━━━━━━━━━━━━━━━━━━━━━━━\u001b[0m \u001b[32m1.3/1.3 MB\u001b[0m \u001b[31m39.0 MB/s\u001b[0m eta \u001b[36m0:00:00\u001b[0m\n",
            "\u001b[?25hRequirement already satisfied: tqdm>=4.27 in /usr/local/lib/python3.10/dist-packages (from transformers) (4.65.0)\n",
            "Requirement already satisfied: fsspec in /usr/local/lib/python3.10/dist-packages (from huggingface-hub<1.0,>=0.14.1->transformers) (2023.6.0)\n",
            "Requirement already satisfied: typing-extensions>=3.7.4.3 in /usr/local/lib/python3.10/dist-packages (from huggingface-hub<1.0,>=0.14.1->transformers) (4.7.1)\n",
            "Requirement already satisfied: urllib3<1.27,>=1.21.1 in /usr/local/lib/python3.10/dist-packages (from requests->transformers) (1.26.16)\n",
            "Requirement already satisfied: certifi>=2017.4.17 in /usr/local/lib/python3.10/dist-packages (from requests->transformers) (2023.7.22)\n",
            "Requirement already satisfied: charset-normalizer~=2.0.0 in /usr/local/lib/python3.10/dist-packages (from requests->transformers) (2.0.12)\n",
            "Requirement already satisfied: idna<4,>=2.5 in /usr/local/lib/python3.10/dist-packages (from requests->transformers) (3.4)\n",
            "Installing collected packages: tokenizers, safetensors, huggingface-hub, transformers\n",
            "Successfully installed huggingface-hub-0.16.4 safetensors-0.3.1 tokenizers-0.13.3 transformers-4.31.0\n",
            "Colab only includes TensorFlow 2.x; %tensorflow_version has no effect.\n",
            "2.12.0\n"
          ]
        }
      ]
    },
    {
      "cell_type": "markdown",
      "metadata": {
        "id": "1B6Z_ALRIQfx"
      },
      "source": [
        "## Fine-tuning BERT\n",
        "- BERT Pre-Training phase: Masked Language Model(MLM) and Next Sentence Prediction(NSP)\n",
        "\n",
        "- Then, finetune all of the weights in the pretrained model for a task of choice.\n",
        "\n",
        "- Source: https://arxiv.org/pdf/1810.04805.pdf\n",
        "\n",
        "<img src=\"https://i.imgur.com/fKNAhKH.png\" alt=\" \" width=\"75%\" height=\"75%\">\n",
        "\n"
      ]
    },
    {
      "cell_type": "markdown",
      "metadata": {
        "id": "EgcMAVSbUz-_"
      },
      "source": [
        "##  QuestionAnswering Model (inbuilt)\n",
        "- Pretraining(NSP, MLM) + SQuAD Dataset trained model\n",
        "- Extractive Model\n",
        "- SQuAD: https://rajpurkar.github.io/SQuAD-explorer/\n",
        "\n",
        "- \"SQuAD2.0 combines the 100,000 questions in SQuAD1.1 with over 50,000 unanswerable questions written adversarially by crowdworkers to look similar to answerable ones. To do well on SQuAD2.0, systems must not only answer questions when possible, but also determine when no answer is supported by the paragraph and abstain from answering.\"\n",
        "\n"
      ]
    },
    {
      "cell_type": "code",
      "metadata": {
        "id": "B_7XCmZLILU_",
        "colab": {
          "base_uri": "https://localhost:8080/",
          "height": 252,
          "referenced_widgets": [
            "6b2c3d0e60e84b9dad7d714d74b077e5",
            "b696502e4cf54a08b42fca5789109d14",
            "4273a63def9e48b3822fe0353c838b25",
            "26195d084d60447d8add37693f7dbbe9",
            "d327d0070aef4b57a585dd48d8311a1c",
            "7e6d82b3d2824866a6e87c31b853a3fc",
            "da649b0ff6504065a6b4bac4a92aa8c6",
            "e92542c32d2f4643bf69619cda504b22",
            "29f5c45b97e94fa9ab06b47afcca6fae",
            "902da7b805ee4865b8c9fcd5a60a97e2",
            "cd0df7aee8d849f78e5dda299c6d6094",
            "f9bfea4d410041149574f5cc9cb4273a",
            "1b7904d0b5fe42a18c825a1295c4cfc9",
            "ceac62c1b58a46bfb243bc32ce559da6",
            "21babc7f2b1c4efb8f66dc3f1d599219",
            "81c43e848ed446db9af9e076662ade93",
            "6d60af5518794eb5b7ea32dd9da1d18d",
            "dc934ec0da9d4eac86dc95f4d8400550",
            "a34a5944f48243a8b4355ebe82b20ced",
            "b01f8d3c4b6c4a07a7fb5f9d356f8f88",
            "838dcb4ae4b34f618534d2e8cf0f1b5c",
            "ddd8d55bd37945108926ae9e8e0e89e0",
            "1a4b3e46cbd44ff1b66ba6a0fac2a5d7",
            "b5a37befe68c41ce97dc24e4a04c640d",
            "7a60c3d3c5844c8a9cd13850a5701682",
            "bff04a4e67674b0baf1619ab399efd2b",
            "17ed4bd0ae0b4e2b80fddca1479f0ee0",
            "5a5bed909a1a413f839329a68a44a677",
            "ee5341bff6444c49899afcbc326e3ec9",
            "6cd2bea376c44da694cef3c1681fb73d",
            "66521e9ce1f34240b6cde9c61145dd01",
            "6918098ac55c4058a6197cbd69aa26a1",
            "b1606c9e6358413484d0d5422a9f3ab8",
            "b61cafe3b2f74ef5b61ed49db6df091a",
            "1263bf8f586549dd9b0287affa4eee5e",
            "597b803eaf5c49a48c3837ea481c0e0e",
            "eb9fb55a751b49ac83edbc171ece5a4a",
            "c792a92ac5844c3f97f28e1e6bb9e074",
            "46025ba8d89f460a9b0a9a548a72bc1d",
            "47ba6621c3ab42b9a6540da236a990f1",
            "6de068b28f9741c7ae0116814f73c905",
            "89d303f42743465492c035a60689cdf0",
            "991ea236d1c149529088c45e43811c27",
            "da9686f9e6bf4aeaaf31d1f7e1b2901b"
          ]
        },
        "outputId": "dc61d915-cc4b-42a7-9197-0f987919566d"
      },
      "source": [
        "# Using HuggingFace's QuestionAnsweringModel (inbuilt)\n",
        "\n",
        "import tensorflow as tf\n",
        "\n",
        "# Refer: https://huggingface.co/transformers/model_doc/bert.html\n",
        "\n",
        "from transformers import BertTokenizer, TFBertForQuestionAnswering\n",
        "\n",
        "modelName = 'bert-large-uncased-whole-word-masking-finetuned-squad' # https://huggingface.co/transformers/pretrained_models.html\n",
        "\n",
        "tokenizer = BertTokenizer.from_pretrained(modelName)\n",
        "model = TFBertForQuestionAnswering.from_pretrained(modelName)\n",
        "\n",
        "print(model)"
      ],
      "execution_count": 2,
      "outputs": [
        {
          "output_type": "display_data",
          "data": {
            "text/plain": [
              "Downloading (…)solve/main/vocab.txt:   0%|          | 0.00/232k [00:00<?, ?B/s]"
            ],
            "application/vnd.jupyter.widget-view+json": {
              "version_major": 2,
              "version_minor": 0,
              "model_id": "6b2c3d0e60e84b9dad7d714d74b077e5"
            }
          },
          "metadata": {}
        },
        {
          "output_type": "display_data",
          "data": {
            "text/plain": [
              "Downloading (…)okenizer_config.json:   0%|          | 0.00/28.0 [00:00<?, ?B/s]"
            ],
            "application/vnd.jupyter.widget-view+json": {
              "version_major": 2,
              "version_minor": 0,
              "model_id": "f9bfea4d410041149574f5cc9cb4273a"
            }
          },
          "metadata": {}
        },
        {
          "output_type": "display_data",
          "data": {
            "text/plain": [
              "Downloading (…)lve/main/config.json:   0%|          | 0.00/443 [00:00<?, ?B/s]"
            ],
            "application/vnd.jupyter.widget-view+json": {
              "version_major": 2,
              "version_minor": 0,
              "model_id": "1a4b3e46cbd44ff1b66ba6a0fac2a5d7"
            }
          },
          "metadata": {}
        },
        {
          "output_type": "display_data",
          "data": {
            "text/plain": [
              "Downloading model.safetensors:   0%|          | 0.00/1.34G [00:00<?, ?B/s]"
            ],
            "application/vnd.jupyter.widget-view+json": {
              "version_major": 2,
              "version_minor": 0,
              "model_id": "b61cafe3b2f74ef5b61ed49db6df091a"
            }
          },
          "metadata": {}
        },
        {
          "output_type": "stream",
          "name": "stderr",
          "text": [
            "All PyTorch model weights were used when initializing TFBertForQuestionAnswering.\n",
            "\n",
            "All the weights of TFBertForQuestionAnswering were initialized from the PyTorch model.\n",
            "If your task is similar to the task the model of the checkpoint was trained on, you can already use TFBertForQuestionAnswering for predictions without further training.\n"
          ]
        },
        {
          "output_type": "stream",
          "name": "stdout",
          "text": [
            "<transformers.models.bert.modeling_tf_bert.TFBertForQuestionAnswering object at 0x7cb4e5efb7f0>\n"
          ]
        }
      ]
    },
    {
      "cell_type": "code",
      "metadata": {
        "id": "OOLvZ1um-nLV",
        "outputId": "8cdce9bc-e26b-4980-b851-af6a2944ec53",
        "colab": {
          "base_uri": "https://localhost:8080/"
        }
      },
      "source": [
        "# Text+Q&A from SQuAD Test data: https://rajpurkar.github.io/SQuAD-explorer/explore/v2.0/dev/Amazon_rainforest.html?model=nlnet%20(single%20model)%20(Microsoft%20Research%20Asia)&version=v2.0\n",
        "text = r\"\"\"The Amazon rainforest (Portuguese: Floresta Amazônica or Amazônia; Spanish: Selva Amazónica, Amazonía or usually Amazonia; French: Forêt amazonienne; Dutch: Amazoneregenwoud), also known in English as Amazonia or the Amazon Jungle, is a moist broadleaf forest that covers most of the Amazon basin of South America. This basin encompasses 7,000,000 square kilometres (2,700,000 sq mi), of which 5,500,000 square kilometres (2,100,000 sq mi) are covered by the rainforest. This region includes territory belonging to nine nations. The majority of the forest is contained within Brazil, with 60% of the rainforest, followed by Peru with 13%, Colombia with 10%, and with minor amounts in Venezuela, Ecuador, Bolivia, Guyana, Suriname and French Guiana. States or departments in four nations contain \"Amazonas\" in their names. The Amazon represents over half of the planet's remaining rainforests, and comprises the largest and most biodiverse tract of tropical rainforest in the world, with an estimated 390 billion individual trees divided into 16,000 species.\"\"\"\n",
        "question =r\"\"\"What percentage does the Amazon represents in rainforests on the planet?\"\"\"\n",
        "\n",
        "#question = r\"\"\"How many nations contain \"Amazonas\" in their names?\"\"\"\n",
        "\n",
        "\n",
        "#input_text = \"[CLS] \" + question + \" [SEP] \" + text + \" [SEP]\"\n",
        "input_text =  question + \" [SEP] \" + text\n",
        "input_ids = tokenizer.encode(input_text)\n",
        "\n",
        "print(len(input_ids))\n",
        "print(tokenizer.decode(input_ids))\n",
        "\n",
        "input = tf.constant(input_ids)[None, :]  # Batch size 1\n"
      ],
      "execution_count": 3,
      "outputs": [
        {
          "output_type": "stream",
          "name": "stdout",
          "text": [
            "250\n",
            "[CLS] what percentage does the amazon represents in rainforests on the planet? [SEP] the amazon rainforest ( portuguese : floresta amazonica or amazonia ; spanish : selva amazonica, amazonia or usually amazonia ; french : foret amazonienne ; dutch : amazoneregenwoud ), also known in english as amazonia or the amazon jungle, is a moist broadleaf forest that covers most of the amazon basin of south america. this basin encompasses 7, 000, 000 square kilometres ( 2, 700, 000 sq mi ), of which 5, 500, 000 square kilometres ( 2, 100, 000 sq mi ) are covered by the rainforest. this region includes territory belonging to nine nations. the majority of the forest is contained within brazil, with 60 % of the rainforest, followed by peru with 13 %, colombia with 10 %, and with minor amounts in venezuela, ecuador, bolivia, guyana, suriname and french guiana. states or departments in four nations contain \" amazonas \" in their names. the amazon represents over half of the planet's remaining rainforests, and comprises the largest and most biodiverse tract of tropical rainforest in the world, with an estimated 390 billion individual trees divided into 16, 000 species. [SEP]\n"
          ]
        }
      ]
    },
    {
      "cell_type": "code",
      "metadata": {
        "id": "aH5rLuHNeI7T",
        "colab": {
          "base_uri": "https://localhost:8080/"
        },
        "outputId": "c5107d6c-a324-4821-c759-76abe31c2321"
      },
      "source": [
        "# Source: Modified PyTorch code from https://www.kaggle.com/c/tensorflow2-question-answering/discussion/123434\n",
        "\n",
        "#[SEP] =  102 (token_id)\n",
        "# token_type_ids has 0 corresponding to the qeustion part of the input_text and 1 corresponding to the\n",
        "# text/part\n",
        "\n",
        "token_type_ids = [0 if i <= input_ids.index(102) else 1 for i in range(len(input_ids))]\n",
        "\n",
        "print(token_type_ids)\n"
      ],
      "execution_count": 4,
      "outputs": [
        {
          "output_type": "stream",
          "name": "stdout",
          "text": [
            "[0, 0, 0, 0, 0, 0, 0, 0, 0, 0, 0, 0, 0, 0, 0, 1, 1, 1, 1, 1, 1, 1, 1, 1, 1, 1, 1, 1, 1, 1, 1, 1, 1, 1, 1, 1, 1, 1, 1, 1, 1, 1, 1, 1, 1, 1, 1, 1, 1, 1, 1, 1, 1, 1, 1, 1, 1, 1, 1, 1, 1, 1, 1, 1, 1, 1, 1, 1, 1, 1, 1, 1, 1, 1, 1, 1, 1, 1, 1, 1, 1, 1, 1, 1, 1, 1, 1, 1, 1, 1, 1, 1, 1, 1, 1, 1, 1, 1, 1, 1, 1, 1, 1, 1, 1, 1, 1, 1, 1, 1, 1, 1, 1, 1, 1, 1, 1, 1, 1, 1, 1, 1, 1, 1, 1, 1, 1, 1, 1, 1, 1, 1, 1, 1, 1, 1, 1, 1, 1, 1, 1, 1, 1, 1, 1, 1, 1, 1, 1, 1, 1, 1, 1, 1, 1, 1, 1, 1, 1, 1, 1, 1, 1, 1, 1, 1, 1, 1, 1, 1, 1, 1, 1, 1, 1, 1, 1, 1, 1, 1, 1, 1, 1, 1, 1, 1, 1, 1, 1, 1, 1, 1, 1, 1, 1, 1, 1, 1, 1, 1, 1, 1, 1, 1, 1, 1, 1, 1, 1, 1, 1, 1, 1, 1, 1, 1, 1, 1, 1, 1, 1, 1, 1, 1, 1, 1, 1, 1, 1, 1, 1, 1, 1, 1, 1, 1, 1, 1, 1, 1, 1, 1, 1, 1, 1, 1, 1, 1, 1, 1]\n"
          ]
        }
      ]
    },
    {
      "cell_type": "code",
      "source": [
        "answer = model(input, token_type_ids = tf.convert_to_tensor([token_type_ids]))\n",
        "\n",
        "print(type(answer))\n",
        "print(len(answer))\n",
        "startScores = answer[0]\n",
        "endScores = answer[1]\n",
        "# (startScores, endScores) = answer\n",
        "# startScores = tf.squeeze(startScores, axis=0)\n",
        "print(startScores)\n",
        "print(startScores.shape)\n",
        "print(endScores.shape)\n"
      ],
      "metadata": {
        "colab": {
          "base_uri": "https://localhost:8080/"
        },
        "id": "OgJTn_I-GkM0",
        "outputId": "ef775195-05ac-440d-8198-53399f2b3bdc"
      },
      "execution_count": 13,
      "outputs": [
        {
          "output_type": "stream",
          "name": "stdout",
          "text": [
            "<class 'transformers.modeling_tf_outputs.TFQuestionAnsweringModelOutput'>\n",
            "2\n",
            "tf.Tensor(\n",
            "[[-6.047484   -4.6560254  -7.5719843  -7.8129907  -7.0066047  -7.894754\n",
            "  -8.126448   -7.5400662  -8.892705   -9.418996   -8.942823   -8.615168\n",
            "  -9.496941   -9.665026   -6.047459   -6.15179    -3.5666304  -7.0746512\n",
            "  -8.149384   -6.5617323  -8.559913   -7.116378   -8.553457   -7.5595984\n",
            "  -8.405012   -8.682978   -6.790609   -8.405869   -8.498199   -6.2351665\n",
            "  -8.77474    -7.628984   -8.575293   -7.887277   -8.571488   -8.881729\n",
            "  -7.3598747  -8.744015   -8.553473   -6.743695   -7.2684555  -8.534404\n",
            "  -8.565098   -6.48624    -8.576065   -6.986377   -8.542221   -7.4793887\n",
            "  -8.858679   -8.480019   -8.771893   -6.9176674  -8.668295   -7.195728\n",
            "  -8.835161   -8.785322   -8.765894   -8.421244   -7.5677586  -7.9901147\n",
            "  -7.5482955  -7.821805   -8.122395   -7.256473   -8.404978   -6.545388\n",
            "  -8.211746   -8.552202   -7.2628655  -6.0843143  -7.75927    -8.038822\n",
            "  -7.137994   -7.301934   -7.178516   -7.6427236  -8.35898    -7.066742\n",
            "  -8.150646   -7.197265   -6.813742   -8.397958   -7.622199   -4.7424755\n",
            "  -7.6633706  -8.427992   -6.018068   -7.388164   -7.974632   -6.6263785\n",
            "  -7.3457084  -7.4895988  -6.123039   -8.325472   -8.179809   -8.328945\n",
            "  -8.272496   -7.8265276  -7.475839   -7.906636   -6.5980496  -8.4171295\n",
            "  -7.8246717  -8.545809   -8.332105   -7.9950123  -8.099604   -8.308593\n",
            "  -7.949284   -7.4693985  -7.982206   -6.061687   -8.512724   -7.686954\n",
            "  -8.542604   -8.310251   -7.800206   -7.457563   -7.8759828  -6.8844543\n",
            "  -8.719749   -7.996831   -8.694687   -8.498899   -8.230696   -8.310428\n",
            "  -8.593058   -8.058225   -7.568445   -8.421455   -8.062488   -6.5833054\n",
            "  -8.16973    -7.0953484  -7.4746294  -7.7378917  -6.8612437  -7.9074244\n",
            "  -8.306466   -6.3024335  -7.315956   -6.609838   -3.9708934  -3.350681\n",
            "  -7.3838687  -6.483374   -5.896122   -7.047215   -5.959076   -6.542594\n",
            "  -2.3038707  -5.9218698  -3.9551249  -0.36979827 -3.8762739  -7.3552966\n",
            "  -6.9865117  -5.6333394  -7.462431   -5.169767   -7.321519   -2.8041306\n",
            "  -5.9987617  -1.5594584  -4.858473   -8.1845255  -3.586382   -6.4131284\n",
            "  -2.2215781  -5.0068216  -7.988619   -7.8991466  -6.8166947  -6.5969753\n",
            "  -7.538854   -8.162256   -6.02385    -8.953106   -6.7483773  -9.067345\n",
            "  -7.416878   -9.154787   -7.704517   -9.213534   -8.016994   -9.005892\n",
            "  -7.114915   -7.6283584  -6.1918006  -5.301202   -8.230421   -6.0576625\n",
            "  -8.007124   -4.6067452  -6.9655123  -6.9792094  -6.8378744  -5.1202073\n",
            "  -8.260265   -8.454397   -8.51638    -7.8732724  -7.0550246  -6.0473857\n",
            "   2.8933854   0.0915564  -0.6080593   7.131441    5.475145   -3.7968063\n",
            "  -3.3996658  -3.7883682  -7.696883   -5.8966956  -4.360662   -4.596588\n",
            "  -4.355637   -5.803015   -5.7178454  -3.23494    -4.581907   -4.068914\n",
            "  -7.636552   -5.4722834  -5.8533397  -7.8989224  -6.7818727  -5.6461186\n",
            "  -7.915783   -5.66349    -4.7542176  -7.63255    -7.238115   -5.038264\n",
            "  -7.2970667  -5.822385   -5.712398   -4.2238946  -3.860457   -6.2709284\n",
            "  -6.591724   -5.8533106  -7.184642   -8.302198   -5.85395    -8.543188\n",
            "  -7.788771   -6.547236   -7.8270392  -6.047495  ]], shape=(1, 250), dtype=float32)\n",
            "(1, 250)\n",
            "(1, 250)\n"
          ]
        }
      ]
    },
    {
      "cell_type": "code",
      "metadata": {
        "id": "3Gn7z6GbqLTQ",
        "colab": {
          "base_uri": "https://localhost:8080/"
        },
        "outputId": "154e492f-5897-4f01-fafa-5a0cabece1fa"
      },
      "source": [
        "input_tokens = tokenizer.convert_ids_to_tokens(input_ids)\n",
        "\n",
        "print(input_tokens)"
      ],
      "execution_count": 14,
      "outputs": [
        {
          "output_type": "stream",
          "name": "stdout",
          "text": [
            "['[CLS]', 'what', 'percentage', 'does', 'the', 'amazon', 'represents', 'in', 'rainforest', '##s', 'on', 'the', 'planet', '?', '[SEP]', 'the', 'amazon', 'rainforest', '(', 'portuguese', ':', 'flores', '##ta', 'amazon', '##ica', 'or', 'amazon', '##ia', ';', 'spanish', ':', 'se', '##lva', 'amazon', '##ica', ',', 'amazon', '##ia', 'or', 'usually', 'amazon', '##ia', ';', 'french', ':', 'fore', '##t', 'amazon', '##ien', '##ne', ';', 'dutch', ':', 'amazon', '##ere', '##gen', '##wo', '##ud', ')', ',', 'also', 'known', 'in', 'english', 'as', 'amazon', '##ia', 'or', 'the', 'amazon', 'jungle', ',', 'is', 'a', 'moist', 'broad', '##leaf', 'forest', 'that', 'covers', 'most', 'of', 'the', 'amazon', 'basin', 'of', 'south', 'america', '.', 'this', 'basin', 'encompasses', '7', ',', '000', ',', '000', 'square', 'kilometres', '(', '2', ',', '700', ',', '000', 'sq', 'mi', ')', ',', 'of', 'which', '5', ',', '500', ',', '000', 'square', 'kilometres', '(', '2', ',', '100', ',', '000', 'sq', 'mi', ')', 'are', 'covered', 'by', 'the', 'rainforest', '.', 'this', 'region', 'includes', 'territory', 'belonging', 'to', 'nine', 'nations', '.', 'the', 'majority', 'of', 'the', 'forest', 'is', 'contained', 'within', 'brazil', ',', 'with', '60', '%', 'of', 'the', 'rainforest', ',', 'followed', 'by', 'peru', 'with', '13', '%', ',', 'colombia', 'with', '10', '%', ',', 'and', 'with', 'minor', 'amounts', 'in', 'venezuela', ',', 'ecuador', ',', 'bolivia', ',', 'guyana', ',', 'suriname', 'and', 'french', 'guiana', '.', 'states', 'or', 'departments', 'in', 'four', 'nations', 'contain', '\"', 'amazon', '##as', '\"', 'in', 'their', 'names', '.', 'the', 'amazon', 'represents', 'over', 'half', 'of', 'the', 'planet', \"'\", 's', 'remaining', 'rainforest', '##s', ',', 'and', 'comprises', 'the', 'largest', 'and', 'most', 'bio', '##di', '##verse', 'tract', 'of', 'tropical', 'rainforest', 'in', 'the', 'world', ',', 'with', 'an', 'estimated', '390', 'billion', 'individual', 'trees', 'divided', 'into', '16', ',', '000', 'species', '.', '[SEP]']\n"
          ]
        }
      ]
    },
    {
      "cell_type": "code",
      "metadata": {
        "id": "bIyiOgk-sL1v",
        "colab": {
          "base_uri": "https://localhost:8080/"
        },
        "outputId": "f6aad8c1-16f6-45b2-b82f-af1c392e48d6"
      },
      "source": [
        "print(startScores)\n"
      ],
      "execution_count": 15,
      "outputs": [
        {
          "output_type": "stream",
          "name": "stdout",
          "text": [
            "tf.Tensor(\n",
            "[[-6.047484   -4.6560254  -7.5719843  -7.8129907  -7.0066047  -7.894754\n",
            "  -8.126448   -7.5400662  -8.892705   -9.418996   -8.942823   -8.615168\n",
            "  -9.496941   -9.665026   -6.047459   -6.15179    -3.5666304  -7.0746512\n",
            "  -8.149384   -6.5617323  -8.559913   -7.116378   -8.553457   -7.5595984\n",
            "  -8.405012   -8.682978   -6.790609   -8.405869   -8.498199   -6.2351665\n",
            "  -8.77474    -7.628984   -8.575293   -7.887277   -8.571488   -8.881729\n",
            "  -7.3598747  -8.744015   -8.553473   -6.743695   -7.2684555  -8.534404\n",
            "  -8.565098   -6.48624    -8.576065   -6.986377   -8.542221   -7.4793887\n",
            "  -8.858679   -8.480019   -8.771893   -6.9176674  -8.668295   -7.195728\n",
            "  -8.835161   -8.785322   -8.765894   -8.421244   -7.5677586  -7.9901147\n",
            "  -7.5482955  -7.821805   -8.122395   -7.256473   -8.404978   -6.545388\n",
            "  -8.211746   -8.552202   -7.2628655  -6.0843143  -7.75927    -8.038822\n",
            "  -7.137994   -7.301934   -7.178516   -7.6427236  -8.35898    -7.066742\n",
            "  -8.150646   -7.197265   -6.813742   -8.397958   -7.622199   -4.7424755\n",
            "  -7.6633706  -8.427992   -6.018068   -7.388164   -7.974632   -6.6263785\n",
            "  -7.3457084  -7.4895988  -6.123039   -8.325472   -8.179809   -8.328945\n",
            "  -8.272496   -7.8265276  -7.475839   -7.906636   -6.5980496  -8.4171295\n",
            "  -7.8246717  -8.545809   -8.332105   -7.9950123  -8.099604   -8.308593\n",
            "  -7.949284   -7.4693985  -7.982206   -6.061687   -8.512724   -7.686954\n",
            "  -8.542604   -8.310251   -7.800206   -7.457563   -7.8759828  -6.8844543\n",
            "  -8.719749   -7.996831   -8.694687   -8.498899   -8.230696   -8.310428\n",
            "  -8.593058   -8.058225   -7.568445   -8.421455   -8.062488   -6.5833054\n",
            "  -8.16973    -7.0953484  -7.4746294  -7.7378917  -6.8612437  -7.9074244\n",
            "  -8.306466   -6.3024335  -7.315956   -6.609838   -3.9708934  -3.350681\n",
            "  -7.3838687  -6.483374   -5.896122   -7.047215   -5.959076   -6.542594\n",
            "  -2.3038707  -5.9218698  -3.9551249  -0.36979827 -3.8762739  -7.3552966\n",
            "  -6.9865117  -5.6333394  -7.462431   -5.169767   -7.321519   -2.8041306\n",
            "  -5.9987617  -1.5594584  -4.858473   -8.1845255  -3.586382   -6.4131284\n",
            "  -2.2215781  -5.0068216  -7.988619   -7.8991466  -6.8166947  -6.5969753\n",
            "  -7.538854   -8.162256   -6.02385    -8.953106   -6.7483773  -9.067345\n",
            "  -7.416878   -9.154787   -7.704517   -9.213534   -8.016994   -9.005892\n",
            "  -7.114915   -7.6283584  -6.1918006  -5.301202   -8.230421   -6.0576625\n",
            "  -8.007124   -4.6067452  -6.9655123  -6.9792094  -6.8378744  -5.1202073\n",
            "  -8.260265   -8.454397   -8.51638    -7.8732724  -7.0550246  -6.0473857\n",
            "   2.8933854   0.0915564  -0.6080593   7.131441    5.475145   -3.7968063\n",
            "  -3.3996658  -3.7883682  -7.696883   -5.8966956  -4.360662   -4.596588\n",
            "  -4.355637   -5.803015   -5.7178454  -3.23494    -4.581907   -4.068914\n",
            "  -7.636552   -5.4722834  -5.8533397  -7.8989224  -6.7818727  -5.6461186\n",
            "  -7.915783   -5.66349    -4.7542176  -7.63255    -7.238115   -5.038264\n",
            "  -7.2970667  -5.822385   -5.712398   -4.2238946  -3.860457   -6.2709284\n",
            "  -6.591724   -5.8533106  -7.184642   -8.302198   -5.85395    -8.543188\n",
            "  -7.788771   -6.547236   -7.8270392  -6.047495  ]], shape=(1, 250), dtype=float32)\n"
          ]
        }
      ]
    },
    {
      "cell_type": "code",
      "metadata": {
        "id": "dpzbYXihu39a",
        "colab": {
          "base_uri": "https://localhost:8080/"
        },
        "outputId": "bc508de3-5952-4219-b68b-d716e8984ced"
      },
      "source": [
        "print(tf.math.argmax(startScores[0],0)) # https://www.tensorflow.org/api_docs/python/tf/math/argmax\n",
        ""
      ],
      "execution_count": 16,
      "outputs": [
        {
          "output_type": "stream",
          "name": "stdout",
          "text": [
            "tf.Tensor(207, shape=(), dtype=int64)\n"
          ]
        }
      ]
    },
    {
      "cell_type": "code",
      "metadata": {
        "id": "CBYyFwfzu_Ww",
        "colab": {
          "base_uri": "https://localhost:8080/"
        },
        "outputId": "8fdb8f33-5bd2-4aa0-b828-9aedeb2319fc"
      },
      "source": [
        "print((tf.math.argmax(startScores[0],0)).numpy())"
      ],
      "execution_count": 17,
      "outputs": [
        {
          "output_type": "stream",
          "name": "stdout",
          "text": [
            "207\n"
          ]
        }
      ]
    },
    {
      "cell_type": "code",
      "metadata": {
        "id": "plcAhyNDvFKt",
        "colab": {
          "base_uri": "https://localhost:8080/"
        },
        "outputId": "f00cabb4-5e00-467a-e385-5bf62d04bb63"
      },
      "source": [
        "startIdx = tf.math.argmax(startScores[0],0).numpy()\n",
        "endIdx = tf.math.argmax(endScores[0],0).numpy()+1\n",
        "print(startIdx,endIdx)"
      ],
      "execution_count": 18,
      "outputs": [
        {
          "output_type": "stream",
          "name": "stdout",
          "text": [
            "207 209\n"
          ]
        }
      ]
    },
    {
      "cell_type": "code",
      "metadata": {
        "id": "ggC1WRKQvRiG",
        "colab": {
          "base_uri": "https://localhost:8080/"
        },
        "outputId": "2a4f394a-7c0a-4216-d216-1aea38008255"
      },
      "source": [
        "print(\" \".join(input_tokens[startIdx:endIdx]))"
      ],
      "execution_count": 19,
      "outputs": [
        {
          "output_type": "stream",
          "name": "stdout",
          "text": [
            "over half\n"
          ]
        }
      ]
    },
    {
      "cell_type": "markdown",
      "metadata": {
        "id": "qnowy0BYf8ij"
      },
      "source": [
        "## Additional Resources\n",
        "- Mobile BERT QA System (code in pure TF/Keras):  https://www.tensorflow.org/lite/models/bert_qa/overview\n",
        "\n",
        "- https://towardsdatascience.com/testing-bert-based-question-answering-on-coronavirus-articles-13623637a4ff\n",
        "\n",
        "- Finetune on custom-data: https://huggingface.co/transformers/examples.html#squad"
      ]
    },
    {
      "cell_type": "code",
      "source": [],
      "metadata": {
        "id": "aiY69nH1IMFa"
      },
      "execution_count": 19,
      "outputs": []
    }
  ]
}